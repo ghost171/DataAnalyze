{
 "cells": [
  {
   "cell_type": "markdown",
   "id": "8efeb19e-3d53-40bc-abbc-0ed024634729",
   "metadata": {},
   "source": [
    "## Что такое Cython?"
   ]
  },
  {
   "cell_type": "markdown",
   "id": "97de8f94-0a1f-44eb-8c8a-58bac8a059fa",
   "metadata": {},
   "source": [
    "Cython – это:\n",
    "* язык программирования, который сочетает python со статической типизацией C/C++;\n",
    "* компилятор, который транслирует код, написанный на Cython в код на C/C++.\n",
    "\n",
    "Помимо этого, с помощью Cython можно оборачивать код на C/C++ и вызывать его из python.\n",
    "\n",
    "**ВАЖНО:** Не путайте Cython и Cpython (это интерпретатор языка python)."
   ]
  },
  {
   "cell_type": "code",
   "execution_count": null,
   "id": "4d23b096-8b59-4e60-9a36-726bee524d5f",
   "metadata": {},
   "outputs": [],
   "source": [
    "%load_ext cython"
   ]
  },
  {
   "cell_type": "markdown",
   "id": "98e74eb3-7239-4d03-aeeb-5e3b0b53c06d",
   "metadata": {},
   "source": [
    "## Мотивирующий пример"
   ]
  },
  {
   "cell_type": "markdown",
   "id": "f45fa493-02a6-4da1-863d-3f955e73d51b",
   "metadata": {},
   "source": [
    "Давайте попробуем найти сумму элементов в двумерном массиве с помощью python."
   ]
  },
  {
   "cell_type": "code",
   "execution_count": null,
   "id": "21ea3bc4-2b27-474d-8958-a24dd2dff2a7",
   "metadata": {},
   "outputs": [],
   "source": [
    "import numpy as np"
   ]
  },
  {
   "cell_type": "code",
   "execution_count": null,
   "id": "dcb8f654-0573-41eb-9ed1-f0bf893e10cc",
   "metadata": {},
   "outputs": [],
   "source": [
    "def sum_array(a):\n",
    "    n_rows, n_cols = a.shape\n",
    "\n",
    "    s = 0\n",
    "    for i in range(n_rows):\n",
    "        for j in range(n_cols):\n",
    "            s += a[i, j]\n",
    "    return s"
   ]
  },
  {
   "cell_type": "code",
   "execution_count": null,
   "id": "6cfe8e93-45a4-409c-9ade-7b03f4498e64",
   "metadata": {},
   "outputs": [],
   "source": [
    "a = np.random.random((300, 300))"
   ]
  },
  {
   "cell_type": "code",
   "execution_count": null,
   "id": "2d589889-8587-4db8-9e65-5b132a52999a",
   "metadata": {},
   "outputs": [],
   "source": [
    "%%timeit\n",
    "\n",
    "_ = sum_array(a)"
   ]
  },
  {
   "cell_type": "code",
   "execution_count": null,
   "id": "54dcfb0d-b4ca-401d-bc9d-825b5eedf6ae",
   "metadata": {},
   "outputs": [],
   "source": [
    "%%timeit\n",
    "\n",
    "_ = a.sum()"
   ]
  },
  {
   "cell_type": "code",
   "execution_count": null,
   "id": "f3240cb0-8c24-459c-b789-5b3bd36ede47",
   "metadata": {},
   "outputs": [],
   "source": [
    "%%cython\n",
    "\n",
    "cimport numpy as np\n",
    "\n",
    "cpdef float sum_array(np.ndarray[np.float_t, ndim=2] a):\n",
    "    cdef int n_rows = a.shape[0], n_cols = a.shape[1]\n",
    "    cdef int i = 0, j = 0\n",
    "    cdef float s = 0\n",
    "\n",
    "    for i in range(n_rows):\n",
    "        for j in range(n_cols):\n",
    "            s += a[i, j]\n",
    "    return s"
   ]
  },
  {
   "cell_type": "code",
   "execution_count": null,
   "id": "cfe4da8b-ceaf-4537-8a6d-662c8f28ca3e",
   "metadata": {},
   "outputs": [],
   "source": [
    "%%timeit\n",
    "\n",
    "_ = sum_array(a)"
   ]
  },
  {
   "cell_type": "markdown",
   "id": "91979e31-4197-4894-8364-39aba9be9a69",
   "metadata": {},
   "source": [
    "### Заглянем немного внутрь"
   ]
  },
  {
   "cell_type": "code",
   "execution_count": null,
   "id": "92c359dd-f73a-4230-86e3-3aad779b82ee",
   "metadata": {},
   "outputs": [],
   "source": [
    "def fib_py(n):\n",
    "    a, b = 0, 1\n",
    "    for i in range(n):\n",
    "        a, b = a + b, a\n",
    "    return a"
   ]
  },
  {
   "cell_type": "code",
   "execution_count": null,
   "id": "0a2d60c7-a02b-49a2-aecd-8594b7f221fd",
   "metadata": {},
   "outputs": [],
   "source": [
    "%%timeit\n",
    "\n",
    "fib_py(50)"
   ]
  },
  {
   "cell_type": "markdown",
   "id": "a843aab2-15b2-4c59-b491-c332fc4a2f2c",
   "metadata": {},
   "source": [
    "Добавим немного типизации в нашу программу. Для создания статически типиизированной переменной используется ключевое слово `cdef`."
   ]
  },
  {
   "cell_type": "code",
   "execution_count": null,
   "id": "d3930095-4394-4e94-917d-98190d88e22d",
   "metadata": {},
   "outputs": [],
   "source": [
    "%%cython\n",
    "\n",
    "def fib_cy(int n):\n",
    "    cdef int i\n",
    "    cdef double a = 0.0, b = 1.0\n",
    "    for i in range(n):\n",
    "        a, b = a + b, a\n",
    "    return a"
   ]
  },
  {
   "cell_type": "code",
   "execution_count": null,
   "id": "6917b2f9-abd5-4eb7-8299-1425979085f5",
   "metadata": {},
   "outputs": [],
   "source": [
    "%%timeit\n",
    "\n",
    "fib_cy(50)"
   ]
  },
  {
   "cell_type": "markdown",
   "id": "329568c7-47d5-45f2-b385-af45885aebff",
   "metadata": {},
   "source": [
    "В Cython есть 3 вида функциий:\n",
    "* для объявления, которых используется `cdef` – С-функция, написанная на Cython (нельзя вызвать из python);\n",
    "* для объявления, которых используется `def` – функция, написанная на Cython (можно вызвать из python);\n",
    "* для объявления, которых используется `cpdef` – функция, совмещающая возможности `cdef` и `def`."
   ]
  },
  {
   "cell_type": "code",
   "execution_count": null,
   "id": "2caeb359-db39-4f03-bcaa-ee8b81528e15",
   "metadata": {},
   "outputs": [],
   "source": [
    "%%cython\n",
    "\n",
    "def fact_typed(long n):\n",
    "    if n <= 1:\n",
    "        return 1\n",
    "    return n * fact_typed(n - 1)"
   ]
  },
  {
   "cell_type": "code",
   "execution_count": null,
   "id": "89a56f73-45e3-43db-80b6-715c97e55010",
   "metadata": {},
   "outputs": [],
   "source": [
    "fact_typed(10)"
   ]
  },
  {
   "cell_type": "code",
   "execution_count": null,
   "id": "f388adf8-bea2-48e6-9a30-88f13943822d",
   "metadata": {},
   "outputs": [],
   "source": [
    "%%cython\n",
    "\n",
    "cdef long fact_c(long n):\n",
    "    if n <= 1:\n",
    "        return 1\n",
    "    return n * fact_c(n - 1)\n",
    "\n",
    "def fact_wrapper(long n):\n",
    "    return fact_c(n)"
   ]
  },
  {
   "cell_type": "code",
   "execution_count": null,
   "id": "537dafac-fe73-4c49-8a5f-befa2d43b063",
   "metadata": {},
   "outputs": [],
   "source": [
    "fact_c(10)"
   ]
  },
  {
   "cell_type": "code",
   "execution_count": null,
   "id": "757b2711-cca0-4b4e-99a0-69753883dcbd",
   "metadata": {},
   "outputs": [],
   "source": [
    "fact_wrapper(10)"
   ]
  },
  {
   "cell_type": "code",
   "execution_count": null,
   "id": "5be28c80-d2c5-447e-829b-a845225ca088",
   "metadata": {},
   "outputs": [],
   "source": [
    "%%cython\n",
    "\n",
    "cpdef long fact_ctyped(long n):\n",
    "    if n <= 1:\n",
    "        return 1\n",
    "    return n * fact_ctyped(n - 1)"
   ]
  },
  {
   "cell_type": "code",
   "execution_count": null,
   "id": "4a4f2215-584b-48e7-8ce7-03e0a0958dd6",
   "metadata": {},
   "outputs": [],
   "source": [
    "fact_ctyped(10)"
   ]
  },
  {
   "cell_type": "markdown",
   "id": "fa6642d1-0080-49dc-b918-c3136030cb10",
   "metadata": {},
   "source": [
    "В Cython можно создавать свои структуры."
   ]
  },
  {
   "cell_type": "code",
   "execution_count": null,
   "id": "452a84c2-2762-449a-b5e5-9e3de0d4ad4e",
   "metadata": {},
   "outputs": [],
   "source": [
    "%%cython\n",
    "\n",
    "cdef struct complex_c:\n",
    "    float real\n",
    "    float imag\n",
    "    \n",
    "cdef complex_c a = complex_c(3.1415, -1.0)"
   ]
  },
  {
   "cell_type": "markdown",
   "id": "3bd064fb-f486-4ffb-bd3a-5c5f55633aa8",
   "metadata": {},
   "source": [
    "### Cython и NumPy"
   ]
  },
  {
   "cell_type": "markdown",
   "id": "211f22c3-efc1-4b97-9c0b-fcaa51033c3c",
   "metadata": {},
   "source": [
    "Рассмотрим простенький пример – умножение двух матриц."
   ]
  },
  {
   "cell_type": "code",
   "execution_count": null,
   "id": "026fbc9b-0a2a-4d05-80ee-f52c828a8ced",
   "metadata": {},
   "outputs": [],
   "source": [
    "X = np.random.random(size=(150, 100))\n",
    "Y = np.random.random(size=(250, 100))\n",
    "\n",
    "X.shape, Y.shape"
   ]
  },
  {
   "cell_type": "code",
   "execution_count": null,
   "id": "e8f0aab6-3374-4337-9231-963b58c6eec7",
   "metadata": {},
   "outputs": [],
   "source": [
    "def py_matrix_product(X, Y):\n",
    "    n_xrows, n_xcols = X.shape\n",
    "    n_yrows, n_ycols = Y.shape\n",
    "    \n",
    "    Z = np.zeros((n_xrows, n_ycols))\n",
    "\n",
    "    for i in range(n_xrows):\n",
    "        for k in range(n_ycols):\n",
    "            for j in range(n_xcols):\n",
    "                Z[i, k] += X[i, j] * Y[j, k]\n",
    "\n",
    "    return Z"
   ]
  },
  {
   "cell_type": "code",
   "execution_count": null,
   "id": "7eff8d8f-49ed-48af-b482-077efefddd81",
   "metadata": {},
   "outputs": [],
   "source": [
    "%%timeit\n",
    "\n",
    "Z = py_matrix_product(X, Y)"
   ]
  },
  {
   "cell_type": "markdown",
   "id": "a123b68b-282c-40a0-9e0e-d98d6024a055",
   "metadata": {},
   "source": [
    "Для профилирования нашей программы добавим флаг `-a`."
   ]
  },
  {
   "cell_type": "code",
   "execution_count": null,
   "id": "57d08c80-28e3-4327-a870-57bd1f818142",
   "metadata": {},
   "outputs": [],
   "source": [
    "%%cython -a\n",
    "\n",
    "import numpy as np\n",
    "\n",
    "def cy_matrix_product(X, Y):\n",
    "    n_xrows, n_xcols = X.shape\n",
    "    n_yrows, n_ycols = Y.shape\n",
    "    \n",
    "    Z = np.zeros((n_xrows, n_ycols))\n",
    "\n",
    "    for i in range(n_xrows):\n",
    "        for k in range(n_ycols):\n",
    "            for j in range(n_xcols):\n",
    "                Z[i, k] += X[i, j] * Y[j, k]\n",
    "\n",
    "    return Z"
   ]
  },
  {
   "cell_type": "code",
   "execution_count": null,
   "id": "031e9aa1-3a6f-49bc-9ec7-04a2500f1f91",
   "metadata": {},
   "outputs": [],
   "source": [
    "%%timeit\n",
    "\n",
    "Z = cy_matrix_product(X, Y)"
   ]
  },
  {
   "cell_type": "markdown",
   "id": "3eb4695a-8b14-4c5a-88b2-1f0f8ab2f768",
   "metadata": {},
   "source": [
    "Добавим типы."
   ]
  },
  {
   "cell_type": "code",
   "execution_count": null,
   "id": "48a908b3-d1e6-4319-a676-c4df9afa7244",
   "metadata": {},
   "outputs": [],
   "source": [
    "%%cython -a\n",
    "\n",
    "import numpy as np\n",
    "cimport numpy as np\n",
    "\n",
    "def cy_matrix_product(X, Y):\n",
    "    cdef int n_xrows = X.shape[0]\n",
    "    cdef int n_xcols = X.shape[1]\n",
    "    cdef int n_yrows = Y.shape[0]\n",
    "    cdef int n_ycols = Y.shape[1]\n",
    "    \n",
    "    cdef np.ndarray Z\n",
    "    Z = np.zeros((n_xrows, n_ycols))\n",
    "\n",
    "    cdef int i = 0, k = 0, j = 0\n",
    "\n",
    "    for i in range(n_xrows):\n",
    "        for k in range(n_ycols):\n",
    "            for j in range(n_xcols):\n",
    "                Z[i, k] += X[i, j] * Y[j, k]\n",
    "\n",
    "    return Z"
   ]
  },
  {
   "cell_type": "code",
   "execution_count": null,
   "id": "57ba0143-ac25-4af4-b021-71507bdbf7c6",
   "metadata": {},
   "outputs": [],
   "source": [
    "%%timeit\n",
    "\n",
    "Z = cy_matrix_product(X, Y)"
   ]
  },
  {
   "cell_type": "code",
   "execution_count": null,
   "id": "17bfc70d-e2e0-4706-b7f5-854ae17846e7",
   "metadata": {},
   "outputs": [],
   "source": [
    "%%cython -a\n",
    "\n",
    "import numpy as np\n",
    "cimport numpy as np\n",
    "\n",
    "def cy_matrix_product(np.ndarray[np.float64_t, ndim=2] X,\n",
    "                      np.ndarray[np.float64_t, ndim=2] Y):\n",
    "    cdef int n_xrows = X.shape[0]\n",
    "    cdef int n_xcols = X.shape[1]\n",
    "    cdef int n_yrows = Y.shape[0]\n",
    "    cdef int n_ycols = Y.shape[1]\n",
    "    \n",
    "    cdef np.ndarray[np.float64_t, ndim=2] Z\n",
    "    Z = np.zeros((n_xrows, n_ycols))\n",
    "\n",
    "    cdef int i = 0, k = 0, j = 0\n",
    "\n",
    "    for i in range(n_xrows):\n",
    "        for k in range(n_ycols):\n",
    "            for j in range(n_xcols):\n",
    "                Z[i, k] += X[i, j] * Y[j, k]\n",
    "\n",
    "    return Z"
   ]
  },
  {
   "cell_type": "code",
   "execution_count": null,
   "id": "403d526c-3629-46d6-9e03-885e12e6134a",
   "metadata": {},
   "outputs": [],
   "source": [
    "%%timeit\n",
    "\n",
    "Z = cy_matrix_product(X, Y)"
   ]
  },
  {
   "cell_type": "markdown",
   "id": "c1627afe-d77c-41b0-a4fe-49a3bea97a25",
   "metadata": {},
   "source": [
    "Отключаем проверки в Cython."
   ]
  },
  {
   "cell_type": "code",
   "execution_count": null,
   "id": "d7c12365-13d7-4d0b-ae53-569937f05ca1",
   "metadata": {},
   "outputs": [],
   "source": [
    "%%cython -a\n",
    "\n",
    "import numpy as np\n",
    "cimport numpy as np\n",
    "\n",
    "cimport cython\n",
    "\n",
    "@cython.boundscheck(False)    # выход за границы массива\n",
    "@cython.overflowcheck(False)  # проверка на переполнение\n",
    "@cython.wraparound(False)     # отрицательная индексация у массивов\n",
    "def cy_matrix_product(np.ndarray[np.float64_t, ndim=2] X,\n",
    "                      np.ndarray[np.float64_t, ndim=2] Y):\n",
    "    cdef int n_xrows = X.shape[0]\n",
    "    cdef int n_xcols = X.shape[1]\n",
    "    cdef int n_yrows = Y.shape[0]\n",
    "    cdef int n_ycols = Y.shape[1]\n",
    "    \n",
    "    cdef np.ndarray[np.float64_t, ndim=2] Z\n",
    "    Z = np.zeros((n_xrows, n_ycols))\n",
    "\n",
    "    cdef int i = 0, k = 0, j = 0\n",
    "\n",
    "    for i in range(n_xrows):\n",
    "        for k in range(n_ycols):\n",
    "            for j in range(n_xcols):\n",
    "                Z[i, k] += X[i, j] * Y[j, k]\n",
    "\n",
    "    return Z"
   ]
  },
  {
   "cell_type": "code",
   "execution_count": null,
   "id": "dc828ca8-bbf2-42cd-95eb-6be2f93b14b9",
   "metadata": {},
   "outputs": [],
   "source": [
    "%%timeit\n",
    "\n",
    "Z = cy_matrix_product(X, Y)"
   ]
  },
  {
   "cell_type": "code",
   "execution_count": null,
   "id": "b9099392-2246-40ba-b246-436210021a54",
   "metadata": {},
   "outputs": [],
   "source": []
  }
 ],
 "metadata": {
  "kernelspec": {
   "display_name": "Python 3",
   "language": "python",
   "name": "python3"
  },
  "language_info": {
   "codemirror_mode": {
    "name": "ipython",
    "version": 3
   },
   "file_extension": ".py",
   "mimetype": "text/x-python",
   "name": "python",
   "nbconvert_exporter": "python",
   "pygments_lexer": "ipython3",
   "version": "3.7.3"
  },
  "widgets": {
   "application/vnd.jupyter.widget-state+json": {
    "state": {},
    "version_major": 2,
    "version_minor": 0
   }
  }
 },
 "nbformat": 4,
 "nbformat_minor": 5
}
