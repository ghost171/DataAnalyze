{
 "cells": [
  {
   "cell_type": "markdown",
   "id": "2b599140-d0bf-4bbf-9068-849fba07466a",
   "metadata": {},
   "source": [
    "## Что такое Numba?"
   ]
  },
  {
   "cell_type": "markdown",
   "id": "c9952f74-39f9-45ae-b062-5c3602768ac8",
   "metadata": {},
   "source": [
    "Numba – JIT-компилятор (just in time) для Python, который:\n",
    "- умеет генерировать оптимизированный машинный код с помощью LLVM;\n",
    "- умеет работать с почти со всеми [python-объектами](https://numba.pydata.org/numba-doc/dev/reference/pysupported.html) и некоторым функционалом [numpy](https://numba.pydata.org/numba-doc/dev/reference/numpysupported.html).\n",
    "\n",
    "Подробнее, что такое LLVM можно посмотреть [тут](https://www.youtube.com/watch?v=PauCAyVg348) или прочитать [тут](https://habr.com/ru/company/huawei/blog/511854/).\n",
    "\n",
    "**ВАЖНО:** В Numba много циклов – это хорошо!"
   ]
  },
  {
   "cell_type": "markdown",
   "id": "f94f2a87-7517-4f2e-b2a4-6bf949e8e7bb",
   "metadata": {},
   "source": [
    "## Мотивирующий пример"
   ]
  },
  {
   "cell_type": "markdown",
   "id": "57cefc25-7084-4291-a981-e811f60b2c42",
   "metadata": {},
   "source": [
    "Давайте попробуем найти сумму элементов в двумерном массиве с помощью python."
   ]
  },
  {
   "cell_type": "code",
   "execution_count": null,
   "id": "55d81db3-9b8e-4d37-b1b2-075529ca086b",
   "metadata": {},
   "outputs": [],
   "source": [
    "import numpy as np"
   ]
  },
  {
   "cell_type": "code",
   "execution_count": null,
   "id": "eac45b01-e552-45ad-8708-36f8bf376efb",
   "metadata": {},
   "outputs": [],
   "source": [
    "def sum_array(a):\n",
    "    n_rows, n_cols = a.shape\n",
    "\n",
    "    s = 0\n",
    "    for i in range(n_rows):\n",
    "        for j in range(n_cols):\n",
    "            s += a[i, j]\n",
    "    return s"
   ]
  },
  {
   "cell_type": "code",
   "execution_count": null,
   "id": "31f3eb1a-6ec9-47e5-bf8c-42eedcf6f563",
   "metadata": {},
   "outputs": [],
   "source": [
    "a = np.random.random((300, 300))"
   ]
  },
  {
   "cell_type": "code",
   "execution_count": null,
   "id": "d0679166-3b96-4cc1-8401-2c21313b2097",
   "metadata": {},
   "outputs": [],
   "source": [
    "%%timeit\n",
    "\n",
    "_ = sum_array(a)"
   ]
  },
  {
   "cell_type": "code",
   "execution_count": null,
   "id": "c3ce12c8-d339-46e5-92f6-07693eae1a12",
   "metadata": {},
   "outputs": [],
   "source": [
    "%%timeit\n",
    "\n",
    "_ = a.sum()"
   ]
  },
  {
   "cell_type": "markdown",
   "id": "3fd5a67b-a5f8-4f3e-93d2-63ab6ba19a39",
   "metadata": {},
   "source": [
    "А теперь давайте к `numba` :)"
   ]
  },
  {
   "cell_type": "code",
   "execution_count": null,
   "id": "f71f2395-2e94-408d-83ea-f8d0d7c69d31",
   "metadata": {},
   "outputs": [],
   "source": [
    "# !pip install numba"
   ]
  },
  {
   "cell_type": "code",
   "execution_count": null,
   "id": "afe0f0a8-32d3-4c46-927d-2c2eb6589421",
   "metadata": {},
   "outputs": [],
   "source": [
    "import numba"
   ]
  },
  {
   "cell_type": "markdown",
   "id": "b8a620e8-daf9-4350-8510-f1212000e71b",
   "metadata": {},
   "source": [
    "В `numba` есть специальный декоратор, который позволяет \"ускорять\" функции – `numba.jit`.\n",
    "\n",
    "JIT–компилиция, это означает, что для `numba` нужно скопилировать код во время **первого** запуска (он будет медленным), все остальные запуски будут \"оптимизированы\"."
   ]
  },
  {
   "cell_type": "code",
   "execution_count": null,
   "id": "41fdeea6-dec3-4b8d-98ca-32690cccf369",
   "metadata": {},
   "outputs": [],
   "source": [
    "@numba.jit\n",
    "def sum_array(a):\n",
    "    n_rows, n_cols = a.shape\n",
    "\n",
    "    s = 0\n",
    "    for i in range(n_rows):\n",
    "        for j in range(n_cols):\n",
    "            s += a[i, j]\n",
    "    return s"
   ]
  },
  {
   "cell_type": "code",
   "execution_count": null,
   "id": "6aed3f10-3781-4511-94ea-f2ba2733e779",
   "metadata": {},
   "outputs": [],
   "source": [
    "%%time\n",
    "\n",
    "_ = sum_array(a)"
   ]
  },
  {
   "cell_type": "code",
   "execution_count": null,
   "id": "c2c293cd-1943-452a-9b63-f285b358a861",
   "metadata": {},
   "outputs": [],
   "source": [
    "%%timeit\n",
    "\n",
    "_ = sum_array(a)"
   ]
  },
  {
   "cell_type": "markdown",
   "id": "fb589997-08e6-41dc-8555-429139939579",
   "metadata": {},
   "source": [
    "### Заглянем немного внутрь"
   ]
  },
  {
   "cell_type": "code",
   "execution_count": null,
   "id": "36571a2a-e41f-4297-8630-1d92b91ce47d",
   "metadata": {},
   "outputs": [],
   "source": [
    "@numba.jit\n",
    "def add(a, b):\n",
    "    return a + b"
   ]
  },
  {
   "cell_type": "code",
   "execution_count": null,
   "id": "ec111cb6-b52f-4b3b-95ed-2e0d3665eaa9",
   "metadata": {},
   "outputs": [],
   "source": [
    "add.inspect_types(), add.inspect_llvm(), add.inspect_asm()"
   ]
  },
  {
   "cell_type": "markdown",
   "id": "2d2de6d3-5ac1-4f62-a4a3-f5bca461be22",
   "metadata": {},
   "source": [
    "При первом вызове `add` происходит компиляция функции с аргументами данного типа. Numba транслирует python байткод в \"промежуточное представление\"."
   ]
  },
  {
   "cell_type": "code",
   "execution_count": null,
   "id": "562ea44b-5304-4b12-864e-a29d91c84388",
   "metadata": {},
   "outputs": [],
   "source": [
    "add(1, 1)"
   ]
  },
  {
   "cell_type": "code",
   "execution_count": null,
   "id": "10fd3479-9ba1-43f4-a577-769aee43f1e7",
   "metadata": {},
   "outputs": [],
   "source": [
    "add.inspect_types()"
   ]
  },
  {
   "cell_type": "markdown",
   "id": "a99c9c12-2986-446e-8bcc-a4710c1d26bb",
   "metadata": {},
   "source": [
    "При вызове функции с той же сигнатурой используется уже скомпилированный вариант функции. Если тип входных данных меняется – создается функция с новой сигнатурой."
   ]
  },
  {
   "cell_type": "code",
   "execution_count": null,
   "id": "b7259d43-db16-4bba-b256-548338f18939",
   "metadata": {},
   "outputs": [],
   "source": [
    "add(2, 1)"
   ]
  },
  {
   "cell_type": "code",
   "execution_count": null,
   "id": "a2f4fcc2-cbb4-46d9-a927-ff9c2ac38e85",
   "metadata": {},
   "outputs": [],
   "source": [
    "add.inspect_types()"
   ]
  },
  {
   "cell_type": "code",
   "execution_count": null,
   "id": "83fe84be-de70-4ef4-9d44-dcbc4d50b028",
   "metadata": {},
   "outputs": [],
   "source": [
    "add(1., 1)"
   ]
  },
  {
   "cell_type": "code",
   "execution_count": null,
   "id": "8fe25dff-4ffe-4c05-923e-0d3df17cbb85",
   "metadata": {},
   "outputs": [],
   "source": [
    "add.inspect_types()"
   ]
  },
  {
   "cell_type": "markdown",
   "id": "53a0d7d6-d3b5-4c18-9537-25a07bd8f7b9",
   "metadata": {},
   "source": [
    "### О режимах запуска в `numba`"
   ]
  },
  {
   "cell_type": "markdown",
   "id": "08a40ad5-ed66-445d-8c80-ad889cd54d94",
   "metadata": {},
   "source": [
    "Рассмотрим функцию с намеренной ошибкой."
   ]
  },
  {
   "cell_type": "code",
   "execution_count": null,
   "id": "641961b2-f520-463b-a107-585bf8f63ca6",
   "metadata": {},
   "outputs": [],
   "source": [
    "def fill_array(a):\n",
    "    result = []\n",
    "    \n",
    "    for e in a:\n",
    "        if e % 2 == 0:\n",
    "            e = 0\n",
    "        else:\n",
    "            e = '1'  # опечтка, здесь дожен быть int\n",
    "        result.append(e)\n",
    "        \n",
    "    return result"
   ]
  },
  {
   "cell_type": "code",
   "execution_count": null,
   "id": "893cc790-6b7d-4682-83fc-5bb14309196f",
   "metadata": {},
   "outputs": [],
   "source": [
    "%%time\n",
    "\n",
    "_ = fill_array(list(range(10_000)))"
   ]
  },
  {
   "cell_type": "code",
   "execution_count": null,
   "id": "c59cb15d-42f4-4647-93a7-8b17e89ed545",
   "metadata": {},
   "outputs": [],
   "source": [
    "@numba.jit\n",
    "def fill_array(a):\n",
    "    result = []\n",
    "    \n",
    "    for e in a:\n",
    "        if e % 2 == 0:\n",
    "            e = 0\n",
    "        else:\n",
    "            e = '1'\n",
    "        result.append(e)\n",
    "        \n",
    "    return result"
   ]
  },
  {
   "cell_type": "code",
   "execution_count": null,
   "id": "ed13617b-eb4f-45e2-aaf4-bc41ed78d6ed",
   "metadata": {},
   "outputs": [],
   "source": [
    "%%time\n",
    "\n",
    "_ = fill_array(list(range(10_000)))"
   ]
  },
  {
   "cell_type": "markdown",
   "id": "12763c3b-dbb9-4a25-adf2-11c1c2cd1ce9",
   "metadata": {},
   "source": [
    "При компиляции `fill_array` получаем предупреждение о том, что `numba` запускается в `object` режиме. Смысл проедупреждения в том, что `numba` не может самостоятельно вывести единый тип для данных. Поэтому рекомендуется использовать декоратор `numba.jit(nopython=True)` или `numba.njit`, который бросает исключение вместо предупреждения."
   ]
  },
  {
   "cell_type": "code",
   "execution_count": null,
   "id": "20b22256-e842-47ee-a458-57703c108959",
   "metadata": {},
   "outputs": [],
   "source": [
    "@numba.njit  # numba.jit(nopython=True)\n",
    "def fill_array(a):\n",
    "    result = []\n",
    "    \n",
    "    for e in a:\n",
    "        if e % 2 == 0:\n",
    "            e = 0\n",
    "        else:\n",
    "            e = '1'\n",
    "        result.append(e)\n",
    "        \n",
    "    return result"
   ]
  },
  {
   "cell_type": "code",
   "execution_count": null,
   "id": "0530a3f7-2956-492e-9cff-387caebb3a64",
   "metadata": {},
   "outputs": [],
   "source": [
    "_ = fill_array(list(range(10_000)))"
   ]
  },
  {
   "cell_type": "markdown",
   "id": "ec356760-532c-4ca1-85c0-275e887c08b5",
   "metadata": {},
   "source": [
    "Исправим теперь ошибку и сравним время работы функций снова."
   ]
  },
  {
   "cell_type": "code",
   "execution_count": null,
   "id": "113e11ee-a755-4275-9b9a-02c97897fab1",
   "metadata": {},
   "outputs": [],
   "source": [
    "def fill_array(a):\n",
    "    result = []\n",
    "    \n",
    "    for e in a:\n",
    "        e = int(e % 2 == 0)\n",
    "        result.append(e)\n",
    "        \n",
    "    return result"
   ]
  },
  {
   "cell_type": "code",
   "execution_count": null,
   "id": "23763a43-86c5-4fe5-bfa4-5976401399e2",
   "metadata": {},
   "outputs": [],
   "source": [
    "%%timeit\n",
    "\n",
    "_ = fill_array(list(range(10_000)))"
   ]
  },
  {
   "cell_type": "code",
   "execution_count": null,
   "id": "428a64a5-68b6-427b-8338-2b89c4c0ef9f",
   "metadata": {},
   "outputs": [],
   "source": [
    "@numba.njit\n",
    "def fill_array(a):\n",
    "    result = []\n",
    "    \n",
    "    for e in a:\n",
    "        e = int(e % 2 == 0)\n",
    "        result.append(e)\n",
    "        \n",
    "    return result"
   ]
  },
  {
   "cell_type": "code",
   "execution_count": null,
   "id": "9e6bac7d-2136-441a-a8a3-8bedb1f08396",
   "metadata": {},
   "outputs": [],
   "source": [
    "%%timeit\n",
    "\n",
    "_ = fill_array(list(range(10_000)))"
   ]
  },
  {
   "cell_type": "markdown",
   "id": "9df2f982-fdf3-4ba5-94e6-6cc6955683e5",
   "metadata": {},
   "source": [
    "Получаем другое предупреждение, которое говорит нам о том, что `numba` не знает типа данных, которые хранятся в списке `a`. Поэтому при каждом запуске функции придется выводить тип данных. Для того, чтобы корректно работать со списками в `numba` есть типизированные списки. Либо можно использовать numpy массивы."
   ]
  },
  {
   "cell_type": "code",
   "execution_count": null,
   "id": "293b4303-3fd6-46f8-b1c9-4245507d1605",
   "metadata": {},
   "outputs": [],
   "source": [
    "a = list(range(10_000))\n",
    "a_cast = numba.typed.List(a)\n",
    "\n",
    "a_cast._list_type"
   ]
  },
  {
   "cell_type": "code",
   "execution_count": null,
   "id": "5dd2dd75-2a24-47aa-9093-5c1e54ed2a5c",
   "metadata": {},
   "outputs": [],
   "source": [
    "%%timeit\n",
    "\n",
    "_ = fill_array(a_cast)"
   ]
  },
  {
   "cell_type": "code",
   "execution_count": null,
   "id": "5f58d38b-3263-4f7f-b141-69aac0311896",
   "metadata": {},
   "outputs": [],
   "source": [
    "a_np = np.arange(10_000)"
   ]
  },
  {
   "cell_type": "code",
   "execution_count": null,
   "id": "67517dc3-0a8f-4075-8dd7-23aecf91f34a",
   "metadata": {},
   "outputs": [],
   "source": [
    "%%timeit\n",
    "\n",
    "_ = fill_array(a_np)"
   ]
  },
  {
   "cell_type": "markdown",
   "id": "4fed5d10-445f-4a28-b69b-e9448647d358",
   "metadata": {},
   "source": [
    "Сделаем естественную оптимизацию – выделим память под результирущий список и оценим скорость работы."
   ]
  },
  {
   "cell_type": "code",
   "execution_count": null,
   "id": "cf04d07d-3c6c-4359-87a3-e35200203d87",
   "metadata": {},
   "outputs": [],
   "source": [
    "@numba.njit\n",
    "def fill_array(a):\n",
    "    result = np.empty(len(a), dtype=np.int32)\n",
    "    \n",
    "    for i, e in enumerate(a):\n",
    "        e = int(e % 2 == 0)\n",
    "        result[i] = e\n",
    "        \n",
    "    return result"
   ]
  },
  {
   "cell_type": "code",
   "execution_count": null,
   "id": "98431018-1290-46b0-812c-49b75f5d78a8",
   "metadata": {},
   "outputs": [],
   "source": [
    "%%timeit\n",
    "\n",
    "_ = fill_array(a_np)"
   ]
  },
  {
   "cell_type": "markdown",
   "id": "e38429fa-c67c-44f6-881f-cd72c79f8b62",
   "metadata": {},
   "source": [
    "Более того, для `numpy` можно делать векторизированные функции."
   ]
  },
  {
   "cell_type": "code",
   "execution_count": null,
   "id": "d18a5651-162c-44ae-91f3-18dd872b6843",
   "metadata": {},
   "outputs": [],
   "source": [
    "@numba.vectorize\n",
    "def calc_val(e):\n",
    "    return int(e % 2 == 0)\n",
    "\n",
    "calc_val_np = np.vectorize(lambda e: int(e % 2 == 0))"
   ]
  },
  {
   "cell_type": "code",
   "execution_count": null,
   "id": "b7f20769-aa11-4699-b0ec-2bc7bf83f3b7",
   "metadata": {},
   "outputs": [],
   "source": [
    "calc_val(10)"
   ]
  },
  {
   "cell_type": "code",
   "execution_count": null,
   "id": "2ca77dda-8ae4-4268-81d4-44bdd5b914d1",
   "metadata": {},
   "outputs": [],
   "source": [
    "%%timeit\n",
    "\n",
    "_ = calc_val(a_np)"
   ]
  },
  {
   "cell_type": "code",
   "execution_count": null,
   "id": "16ce3eae-1ead-441f-8734-30ecd93a2aae",
   "metadata": {},
   "outputs": [],
   "source": [
    "%%timeit\n",
    "\n",
    "_ = a_np % 2 == 0"
   ]
  },
  {
   "cell_type": "code",
   "execution_count": null,
   "id": "cc0c65c2-d735-456a-a4ff-36d0290b42b2",
   "metadata": {},
   "outputs": [],
   "source": [
    "%%timeit\n",
    "\n",
    "_ = calc_val_np(a_np)"
   ]
  },
  {
   "cell_type": "markdown",
   "id": "e3af4f58-549b-40e8-9f8e-01d69916f12f",
   "metadata": {},
   "source": [
    "### Не используйте глобальные переменные"
   ]
  },
  {
   "cell_type": "code",
   "execution_count": null,
   "id": "cc5089bb-0e8e-4775-81b7-6321be4a446f",
   "metadata": {},
   "outputs": [],
   "source": [
    "N = 42"
   ]
  },
  {
   "cell_type": "code",
   "execution_count": null,
   "id": "1f0c57c9-91e7-417a-a516-aa35b5583ea7",
   "metadata": {},
   "outputs": [],
   "source": [
    "@numba.njit\n",
    "def magic(a):\n",
    "    return a + N\n",
    "\n",
    "magic(np.arange(10))"
   ]
  },
  {
   "cell_type": "code",
   "execution_count": null,
   "id": "c97cb7c1-c209-4a05-b78e-a571697a3e4e",
   "metadata": {},
   "outputs": [],
   "source": [
    "N = 0"
   ]
  },
  {
   "cell_type": "code",
   "execution_count": null,
   "id": "88f55d76-c28f-451c-b126-dc4d0d3e362d",
   "metadata": {},
   "outputs": [],
   "source": [
    "magic(np.arange(10))"
   ]
  },
  {
   "cell_type": "code",
   "execution_count": null,
   "id": "55fee406-2b6d-48ff-a3af-c6a14b2881a2",
   "metadata": {},
   "outputs": [],
   "source": [
    "magic.recompile()"
   ]
  },
  {
   "cell_type": "code",
   "execution_count": null,
   "id": "3bee18c8-8e82-45fe-810e-66a437231fe3",
   "metadata": {},
   "outputs": [],
   "source": [
    "magic(np.arange(10))"
   ]
  },
  {
   "cell_type": "markdown",
   "id": "6d343f8b-4593-4a73-aabb-6f8679944567",
   "metadata": {},
   "source": [
    "### Поддержка классов в Numba"
   ]
  },
  {
   "cell_type": "markdown",
   "id": "2496914f-0313-46a0-95d0-265123d39929",
   "metadata": {},
   "source": [
    "Она [есть](https://numba.pydata.org/numba-doc/dev/user/jitclass.html), но в экспериментальном режиме, так что нужно быть аккуратнее. Лучше использовать `numpy` структуры.\n",
    "\n",
    "Для примера рассмотрим задачу взаимодействия N тел. Для каждого из тел хотим посчитать потенциальную энергию взаимодействия тел:\n",
    "\n",
    "$$ E_p = -G \\frac{m_i m_j}{\\left\\| r_i - r_j \\right\\|_2} $$"
   ]
  },
  {
   "cell_type": "code",
   "execution_count": null,
   "id": "74b0c642-18d3-4b44-9768-bb4a5d3d6032",
   "metadata": {},
   "outputs": [],
   "source": [
    "ParticleType = np.dtype([\n",
    "    ('x',  np.float32),\n",
    "    ('y',  np.float32),\n",
    "    ('z',  np.float32),\n",
    "    ('m',  np.float32),\n",
    "    ('Ep', np.float32),\n",
    "])\n",
    "\n",
    "ParticleType"
   ]
  },
  {
   "cell_type": "code",
   "execution_count": null,
   "id": "c8493276-946d-4ac8-a0da-003e3ac1a1ef",
   "metadata": {},
   "outputs": [],
   "source": [
    "particles = np.empty(1_000, ParticleType)\n",
    "\n",
    "particles['x'] = (np.random.random(len(particles)) - 0.5) * 10\n",
    "particles['y'] = (np.random.random(len(particles)) - 0.5) * 10\n",
    "particles['z'] = (np.random.random(len(particles)) - 0.5) * 10\n",
    "particles['m'] = 1.0\n",
    "particles['Ep'] = 0"
   ]
  },
  {
   "cell_type": "code",
   "execution_count": null,
   "id": "ed60a2d7-5d6b-4639-99fb-20c4fa507fad",
   "metadata": {},
   "outputs": [],
   "source": [
    "@numba.njit\n",
    "def distance(a, b):\n",
    "    return np.sqrt((b.x - a.x) ** 2 + (b.y - a.y) ** 2 + (b.z - a.z) ** 2)\n",
    "\n",
    "\n",
    "@numba.njit\n",
    "def solve(particles):\n",
    "    num = len(particles)\n",
    "    \n",
    "    for i in range(0, num):\n",
    "        for j in range(0, num):\n",
    "            if i <= j:\n",
    "                break\n",
    "            \n",
    "            p_i, p_j = particles[i], particles[j]\n",
    "            Ep_delta = p_i.m * p_j.m * distance(p_i, p_j)\n",
    "\n",
    "            p_i.Ep += Ep_delta\n",
    "            p_j.Ep += Ep_delta\n",
    "            \n",
    "    return particles"
   ]
  },
  {
   "cell_type": "code",
   "execution_count": null,
   "id": "1314884b-509e-4035-bd02-c9de05878ea8",
   "metadata": {},
   "outputs": [],
   "source": [
    "# compile on small data\n",
    "\n",
    "_ = solve(np.empty(10, ParticleType))"
   ]
  },
  {
   "cell_type": "code",
   "execution_count": null,
   "id": "bb91cab3-39d7-4039-9a80-101e52a90047",
   "metadata": {},
   "outputs": [],
   "source": [
    "%%timeit\n",
    "\n",
    "_ = solve(particles)"
   ]
  },
  {
   "cell_type": "code",
   "execution_count": null,
   "id": "8a9e1955-4ce6-46f9-a069-08a7f04fa2af",
   "metadata": {},
   "outputs": [],
   "source": [
    "particles['Ep'][:10]"
   ]
  },
  {
   "cell_type": "markdown",
   "id": "019d2f0d-7a59-4412-986e-6896414495ad",
   "metadata": {},
   "source": [
    "### Ускоряемся дальше"
   ]
  },
  {
   "cell_type": "markdown",
   "id": "12e75c50-2ba7-4b09-8169-a9f5daf909aa",
   "metadata": {},
   "source": [
    "Продолжение в другом ноутбуке."
   ]
  },
  {
   "cell_type": "code",
   "execution_count": null,
   "id": "c9092ade-7132-42f0-942d-8e2edf24b64e",
   "metadata": {},
   "outputs": [],
   "source": []
  }
 ],
 "metadata": {
  "kernelspec": {
   "display_name": "Python 3",
   "language": "python",
   "name": "python3"
  },
  "language_info": {
   "codemirror_mode": {
    "name": "ipython",
    "version": 3
   },
   "file_extension": ".py",
   "mimetype": "text/x-python",
   "name": "python",
   "nbconvert_exporter": "python",
   "pygments_lexer": "ipython3",
   "version": "3.7.3"
  },
  "widgets": {
   "application/vnd.jupyter.widget-state+json": {
    "state": {},
    "version_major": 2,
    "version_minor": 0
   }
  }
 },
 "nbformat": 4,
 "nbformat_minor": 5
}
