{
 "cells": [
  {
   "cell_type": "code",
   "execution_count": null,
   "id": "89f91378",
   "metadata": {},
   "outputs": [],
   "source": [
    "import numpy as np"
   ]
  },
  {
   "cell_type": "code",
   "execution_count": null,
   "id": "c25aae8b",
   "metadata": {},
   "outputs": [],
   "source": [
    "vec_a = np.random.random(size=(150, 100))\n",
    "vec_b = np.random.random(size=(250, 100))\n",
    "\n",
    "vec_a.shape, vec_b.shape"
   ]
  },
  {
   "cell_type": "markdown",
   "id": "3f513790",
   "metadata": {},
   "source": [
    "### Нативная реализация на Python"
   ]
  },
  {
   "cell_type": "code",
   "execution_count": null,
   "id": "491b2e05",
   "metadata": {},
   "outputs": [],
   "source": [
    "def euclidean_distances_py(a, b):\n",
    "    num_a, dim = a.shape\n",
    "    num_b, dim = b.shape\n",
    "    \n",
    "    distances = np.zeros(shape=(num_a, num_b, ))\n",
    "    \n",
    "    for i_a in range(num_a):\n",
    "        for i_b in range(num_b):\n",
    "            row_a = a[i_a]\n",
    "            row_b = b[i_b]\n",
    "            \n",
    "            d = 0\n",
    "            for j in range(dim):\n",
    "                d += (row_a[j] - row_b[j]) ** 2\n",
    "            distances[i_a, i_b] = d ** 0.5\n",
    "\n",
    "    return distances"
   ]
  },
  {
   "cell_type": "code",
   "execution_count": null,
   "id": "195d1618",
   "metadata": {},
   "outputs": [],
   "source": [
    "%%timeit\n",
    "\n",
    "_ = euclidean_distances_py(vec_a, vec_b)"
   ]
  },
  {
   "cell_type": "markdown",
   "id": "cbf668f3",
   "metadata": {},
   "source": [
    "### Реализация на NumPy"
   ]
  },
  {
   "cell_type": "markdown",
   "id": "5142b627-55f4-4c72-b5f4-7917d4e640a9",
   "metadata": {},
   "source": [
    "Для начала сделаем реализацию в лоб через мезанизм `broadcasting`. Какие минусы у такого подхода?"
   ]
  },
  {
   "cell_type": "code",
   "execution_count": null,
   "id": "25e69c2d",
   "metadata": {},
   "outputs": [],
   "source": [
    "def euclidean_distances_np(a, b):\n",
    "    a = a[:, np.newaxis, :]\n",
    "    b = b[np.newaxis, :, :]\n",
    "    return np.sqrt(((a - b) ** 2).sum(axis=-1))"
   ]
  },
  {
   "cell_type": "code",
   "execution_count": null,
   "id": "4c4435e8",
   "metadata": {},
   "outputs": [],
   "source": [
    "%%timeit\n",
    "\n",
    "_ = euclidean_distances_np(vec_a, vec_b)"
   ]
  },
  {
   "cell_type": "markdown",
   "id": "310ddf11-4c15-40c5-bebc-3967859ee882",
   "metadata": {},
   "source": [
    "Выполним оптимизацию – для этого рассмотрим, как можно эффективно вычислить попарное евклидово расстояние.\n",
    "\n",
    "$$\n",
    "\\rho^2(x, z) = \\sum_{s=1}^{d} (x^s - z^s) ^ 2 =\n",
    "\\sum_{s=1}^{d} (x^s)^2 + \\sum_{s=1}^{d} (z^s)^2 - 2 \\sum_{s=1}^{d} x^s z^s =\n",
    "\\left\\| x \\right\\| ^ 2 _ 2 + \\left\\| z \\right\\| ^ 2 _ 2 - \\left\\langle x, z \\right\\rangle\n",
    "$$\n",
    "\n",
    "Отсюда вытекает любопытный факт для нормированных векторов: \n",
    "\n",
    "$$ \\rho^2(x, z) = 2 (1 - \\cos(x, z)) $$\n",
    "\n",
    "https://scikit-learn.org/stable/modules/generated/sklearn.metrics.pairwise.euclidean_distances.html"
   ]
  },
  {
   "cell_type": "code",
   "execution_count": null,
   "id": "bafd08d2",
   "metadata": {},
   "outputs": [],
   "source": [
    "def euclidean_distances_np(a, b):\n",
    "    a_norm = (a ** 2).sum(axis=1, keepdims=True) \n",
    "    b_norm = (b ** 2).sum(axis=1)[np.newaxis, :]\n",
    "    return np.sqrt(a_norm - 2 * np.dot(a, b.T) + b_norm)"
   ]
  },
  {
   "cell_type": "code",
   "execution_count": null,
   "id": "7722dff0",
   "metadata": {},
   "outputs": [],
   "source": [
    "%%timeit\n",
    "\n",
    "_ = euclidean_distances_np(vec_a, vec_b)"
   ]
  },
  {
   "cell_type": "markdown",
   "id": "5695c1bd",
   "metadata": {},
   "source": [
    "Давайте убедимся, что новое решнеи эффективно не только по времени, но и по памяти.\n",
    "\n",
    "https://jakevdp.github.io/PythonDataScienceHandbook/01.07-timing-and-profiling.html"
   ]
  },
  {
   "cell_type": "code",
   "execution_count": null,
   "id": "ab7c6c99-ce10-4a56-979a-7fa75f2fec6e",
   "metadata": {},
   "outputs": [],
   "source": [
    "!ls -l scripts/"
   ]
  },
  {
   "cell_type": "code",
   "execution_count": null,
   "id": "713cfb77-7e62-4f19-9db0-4722e0444cb3",
   "metadata": {},
   "outputs": [],
   "source": [
    "%%bash\n",
    "\n",
    "python -m memory_profiler scripts/euclidean_distances_01.py"
   ]
  },
  {
   "cell_type": "code",
   "execution_count": null,
   "id": "ee98b721-c5bc-48d0-8cfd-ca5a2945cfd4",
   "metadata": {},
   "outputs": [],
   "source": [
    "%%bash\n",
    "\n",
    "python -m memory_profiler scripts/euclidean_distances_02.py"
   ]
  },
  {
   "cell_type": "markdown",
   "id": "ae7c27a6-20d2-4af4-9ed7-059c76839669",
   "metadata": {},
   "source": [
    "Удивительно, что при некоторых условиях, наша реализация может работать быстрее, чем реализация из `scipy`."
   ]
  },
  {
   "cell_type": "code",
   "execution_count": null,
   "id": "5cb0538a",
   "metadata": {},
   "outputs": [],
   "source": [
    "from scipy.spatial.distance import cdist"
   ]
  },
  {
   "cell_type": "code",
   "execution_count": null,
   "id": "8442727d",
   "metadata": {},
   "outputs": [],
   "source": [
    "%%timeit\n",
    "\n",
    "_ = cdist(vec_a, vec_b)"
   ]
  },
  {
   "cell_type": "markdown",
   "id": "827fb9cf",
   "metadata": {},
   "source": [
    "### Реализация на numba"
   ]
  },
  {
   "cell_type": "code",
   "execution_count": null,
   "id": "fccc275c-e674-4e29-81b1-f80c663b7fd1",
   "metadata": {},
   "outputs": [],
   "source": [
    "import numba"
   ]
  },
  {
   "cell_type": "markdown",
   "id": "18ee83c4-4e5e-407a-baf7-ee2f0aeb1270",
   "metadata": {},
   "source": [
    "Возьмем нативную реализацию и навесим на функцию декоратор `numba.jit(nopython=True)`."
   ]
  },
  {
   "cell_type": "code",
   "execution_count": null,
   "id": "31bcb296",
   "metadata": {},
   "outputs": [],
   "source": [
    "@numba.jit(nopython=True)\n",
    "def euclidean_distances_nb(a, b):\n",
    "    num_a, dim = a.shape\n",
    "    num_b, dim = b.shape\n",
    "    \n",
    "    distances = np.zeros(shape=(num_a, num_b, ))\n",
    "    \n",
    "    for i_a in range(num_a):\n",
    "        for i_b in range(num_b):\n",
    "            row_a = a[i_a]\n",
    "            row_b = b[i_b]\n",
    "            \n",
    "            d = 0\n",
    "            for j in range(dim):\n",
    "                d += (row_a[j] - row_b[j]) ** 2\n",
    "            distances[i_a, i_b] = d ** 0.5\n",
    "\n",
    "    return distances"
   ]
  },
  {
   "cell_type": "code",
   "execution_count": null,
   "id": "62c33a86",
   "metadata": {},
   "outputs": [],
   "source": [
    "%%timeit\n",
    "\n",
    "_ = euclidean_distances_nb(vec_a, vec_b)"
   ]
  },
  {
   "cell_type": "markdown",
   "id": "2f2f9c50-0680-446c-b670-de6c0db51f16",
   "metadata": {},
   "source": [
    "Попробуем совместить `numpy` и `numba`."
   ]
  },
  {
   "cell_type": "code",
   "execution_count": null,
   "id": "dce2b32e-d17d-4463-928a-a7f5b98a4dd3",
   "metadata": {},
   "outputs": [],
   "source": [
    "@numba.jit(nopython=True)\n",
    "def euclidean_distances_nb(a, b):\n",
    "    num_a, dim = a.shape\n",
    "    num_b, dim = b.shape\n",
    "    \n",
    "    distances = np.zeros(shape=(num_a, num_b, ))\n",
    "    \n",
    "    for i_a in range(num_a):\n",
    "        for i_b in range(num_b):\n",
    "            row_a = a[i_a]\n",
    "            row_b = b[i_b]\n",
    "            \n",
    "            d = ((row_a - row_b) ** 2).sum()\n",
    "            distances[i_a, i_b] = d ** 0.5\n",
    "\n",
    "    return distances"
   ]
  },
  {
   "cell_type": "code",
   "execution_count": null,
   "id": "34292d9d-4acd-409c-a1a9-c209add9fe50",
   "metadata": {},
   "outputs": [],
   "source": [
    "%%timeit\n",
    "\n",
    "_ = euclidean_distances_nb(vec_a, vec_b)"
   ]
  },
  {
   "cell_type": "markdown",
   "id": "67045cb5-0ff6-4be6-b735-94860da7cd18",
   "metadata": {},
   "source": [
    "Два внешних цикла можно расчитывать независимо друг от друга. Только в самом внутрнеем цикле есть разделяемая переменная `d`. Не забываем заменить `range` на `numba.prange`."
   ]
  },
  {
   "cell_type": "code",
   "execution_count": null,
   "id": "844414b6",
   "metadata": {},
   "outputs": [],
   "source": [
    "@numba.jit(nopython=True)\n",
    "def pair_euclidean_distances_nb(a, b):\n",
    "    dim = len(a)\n",
    "\n",
    "    d = 0\n",
    "    for j in range(dim):\n",
    "        d += (a[j] - b[j]) ** 2\n",
    "    return d ** 0.5\n",
    "\n",
    "\n",
    "@numba.jit(nopython=True, parallel=True)\n",
    "def euclidean_distances_nb(a, b):\n",
    "    num_a, dim = a.shape\n",
    "    num_b, dim = b.shape\n",
    "    \n",
    "    distances = np.zeros(shape=(num_a, num_b, ))\n",
    "    \n",
    "    for i_a in numba.prange(num_a):\n",
    "        for i_b in numba.prange(num_b):\n",
    "            distances[i_a, i_b] = pair_euclidean_distances_nb(a[i_a], b[i_b])\n",
    "\n",
    "    return distances"
   ]
  },
  {
   "cell_type": "code",
   "execution_count": null,
   "id": "e35793bf",
   "metadata": {},
   "outputs": [],
   "source": [
    "%%timeit\n",
    "\n",
    "_ = euclidean_distances_nb(vec_a, vec_b)"
   ]
  },
  {
   "cell_type": "markdown",
   "id": "780e4bdb",
   "metadata": {},
   "source": [
    "### Реализация на Cython"
   ]
  },
  {
   "cell_type": "code",
   "execution_count": null,
   "id": "1e00dffb",
   "metadata": {},
   "outputs": [],
   "source": [
    "# !pip install cython"
   ]
  },
  {
   "cell_type": "markdown",
   "id": "ce4ff2fd-bdb8-45a5-b77d-8e448c1a90b7",
   "metadata": {},
   "source": [
    "Запустим реализацию на `cython` прямо внутри ноутбука."
   ]
  },
  {
   "cell_type": "code",
   "execution_count": null,
   "id": "6fea0776",
   "metadata": {},
   "outputs": [],
   "source": [
    "%load_ext cython"
   ]
  },
  {
   "cell_type": "code",
   "execution_count": null,
   "id": "0ed2f738",
   "metadata": {},
   "outputs": [],
   "source": [
    "%%cython\n",
    "\n",
    "import numpy as np\n",
    "\n",
    "cimport cython\n",
    "cimport numpy as np\n",
    "\n",
    "from libc.math cimport sqrt\n",
    "\n",
    "@cython.boundscheck(False)\n",
    "@cython.wraparound(False)\n",
    "def euclidean_distances_cy(np.ndarray[np.float_t, ndim=2] a,\n",
    "                           np.ndarray[np.float_t, ndim=2] b):\n",
    "    cdef int num_a = a.shape[0]\n",
    "    cdef int num_b = b.shape[0]\n",
    "    cdef int dim = a.shape[1]\n",
    "\n",
    "    cdef double d\n",
    "    cdef double[:, ::1] distances = np.empty((num_a, num_b), dtype=np.float64)\n",
    " \n",
    "    for i in range(num_a):\n",
    "        for j in range(num_b):\n",
    "            d = 0\n",
    "            for k in range(dim):\n",
    "                d += (a[i, k] - b[i, k]) ** 2\n",
    "            distances[i, j] = sqrt(d)\n",
    "            \n",
    "    return np.asarray(distances)"
   ]
  },
  {
   "cell_type": "code",
   "execution_count": null,
   "id": "38f2c0ed",
   "metadata": {},
   "outputs": [],
   "source": [
    "%%timeit\n",
    "\n",
    "_ = euclidean_distances_cy(vec_a, vec_b)"
   ]
  },
  {
   "cell_type": "markdown",
   "id": "9fb1eb0c-4552-4303-a630-101f3deb2dbc",
   "metadata": {},
   "source": [
    "Если есть необходимость делать переносимый пакет (бибилиотеку), то можно скомпилировать код в shared library и добавить ее в python-пакет. Либо в настройках установки пакета прописать, что библиотеку нужно скомпилировать на машине при установке через `pip`.\n",
    "\n",
    "При вызове функции внутри будет вызываться скомпилированный Си код."
   ]
  },
  {
   "cell_type": "code",
   "execution_count": null,
   "id": "38fb8661-61e7-44a0-b160-63583fba4608",
   "metadata": {},
   "outputs": [],
   "source": [
    "%%bash\n",
    "\n",
    "cd impl/cython/\n",
    "make clean\n",
    "make\n",
    "ls -l euclidean_distance.cpython-37m-darwin.so"
   ]
  },
  {
   "cell_type": "code",
   "execution_count": null,
   "id": "bce71017-fdf7-4386-b0f8-911acddaf5e5",
   "metadata": {},
   "outputs": [],
   "source": [
    "from impl.cython.euclidean_distance import euclidean_distances_cy"
   ]
  },
  {
   "cell_type": "code",
   "execution_count": null,
   "id": "54c5848f-ec0b-48cc-b9c8-61e1b8b38438",
   "metadata": {},
   "outputs": [],
   "source": [
    "%%timeit\n",
    "\n",
    "_ = euclidean_distances_cy(vec_a, vec_b)"
   ]
  },
  {
   "cell_type": "markdown",
   "id": "b33bac72-22cd-42bd-8e3c-b7f13aa96125",
   "metadata": {},
   "source": [
    "Можно добавить паралеллизацию через [openmp](https://cython.readthedocs.io/en/latest/src/userguide/parallelism.html)."
   ]
  },
  {
   "cell_type": "markdown",
   "id": "ada26703",
   "metadata": {},
   "source": [
    "### Реализация на языке C"
   ]
  },
  {
   "cell_type": "markdown",
   "id": "0cfb6e8c-9e52-4db4-b9f3-6121162a8999",
   "metadata": {},
   "source": [
    "Если Cython Вам не очень по душе, можно самостоятельно написать функции с необходимой логикой. В Python нужно будет написать специальную функцию обертку, которая вызовет Си код с правильными аргументами и типизацией."
   ]
  },
  {
   "cell_type": "code",
   "execution_count": null,
   "id": "a6153e51",
   "metadata": {},
   "outputs": [],
   "source": [
    "!cat impl/ctypes/euclidean_distance.c"
   ]
  },
  {
   "cell_type": "code",
   "execution_count": null,
   "id": "130f9656",
   "metadata": {},
   "outputs": [],
   "source": [
    "%%bash\n",
    "\n",
    "cd impl/ctypes\n",
    "make clean\n",
    "make\n",
    "ls -l euclidean_distance.so"
   ]
  },
  {
   "cell_type": "code",
   "execution_count": null,
   "id": "ed98ff4b",
   "metadata": {},
   "outputs": [],
   "source": [
    "import ctypes"
   ]
  },
  {
   "cell_type": "code",
   "execution_count": null,
   "id": "54048da0",
   "metadata": {},
   "outputs": [],
   "source": [
    "# грузим библиотеку\n",
    "\n",
    "cpp_lib = ctypes.cdll.LoadLibrary('./impl/ctypes/euclidean_distance.so')"
   ]
  },
  {
   "cell_type": "code",
   "execution_count": null,
   "id": "08f8de8f",
   "metadata": {},
   "outputs": [],
   "source": [
    "cpp_lib.euclidean_distances"
   ]
  },
  {
   "cell_type": "code",
   "execution_count": null,
   "id": "ae30a23a",
   "metadata": {},
   "outputs": [],
   "source": [
    "# устанавливаем правильную типизацию\n",
    "\n",
    "p_double_t = ctypes.POINTER(ctypes.c_double)\n",
    "\n",
    "cpp_lib.euclidean_distances.argtypes = [\n",
    "    p_double_t,\n",
    "    p_double_t,\n",
    "    p_double_t,\n",
    "    ctypes.c_size_t,\n",
    "    ctypes.c_size_t,\n",
    "    ctypes.c_size_t,\n",
    "]\n",
    "\n",
    "cpp_lib.euclidean_distances.restype = p_double_t"
   ]
  },
  {
   "cell_type": "code",
   "execution_count": null,
   "id": "af4c8294",
   "metadata": {},
   "outputs": [],
   "source": [
    "def euclidean_distance_cpp(a, b):\n",
    "    num_a, dim = a.shape\n",
    "    num_b, dim = b.shape\n",
    "    \n",
    "    distances = np.zeros(shape=(num_a, num_b, ))\n",
    "    \n",
    "    _ = cpp_lib.euclidean_distances(\n",
    "        distances.ctypes.data_as(p_double_t),\n",
    "        a.ctypes.data_as(p_double_t),\n",
    "        b.ctypes.data_as(p_double_t),\n",
    "        num_a, num_b, dim,\n",
    "    )\n",
    "    \n",
    "    return distances"
   ]
  },
  {
   "cell_type": "code",
   "execution_count": null,
   "id": "354d3595",
   "metadata": {},
   "outputs": [],
   "source": [
    "%%timeit\n",
    "\n",
    "_ = euclidean_distance_cpp(vec_a, vec_b)"
   ]
  },
  {
   "cell_type": "markdown",
   "id": "ecb48e09-aa9b-47ec-9ee8-782ebe237cf7",
   "metadata": {},
   "source": [
    "### Реализация на языке C с OpenMP"
   ]
  },
  {
   "cell_type": "markdown",
   "id": "98127966-506d-429c-b6d7-d6d18b9dc74b",
   "metadata": {},
   "source": [
    "Можно пойти дальше и воспользоваться библиотеками для параллелизации вычислений: [OpenMP](https://www.openmp.org/) и MPI."
   ]
  },
  {
   "cell_type": "markdown",
   "id": "298bfe45-6132-4166-9d74-e5dcf22c448b",
   "metadata": {},
   "source": [
    "Для CLang на MacOS:\n",
    "```bash\n",
    "brew install llvm libomp\n",
    "```"
   ]
  },
  {
   "cell_type": "code",
   "execution_count": null,
   "id": "c822ea06-4f4c-47f6-a3e7-b62b5435944a",
   "metadata": {},
   "outputs": [],
   "source": [
    "!cat impl/ctypes_omp/euclidean_distance.c"
   ]
  },
  {
   "cell_type": "code",
   "execution_count": null,
   "id": "edce98fa-3c07-4641-b721-4bba05fe291c",
   "metadata": {},
   "outputs": [],
   "source": [
    "%%bash\n",
    "\n",
    "cd impl/ctypes_omp\n",
    "make clean\n",
    "make\n",
    "ls -l euclidean_distance.so"
   ]
  },
  {
   "cell_type": "code",
   "execution_count": null,
   "id": "ae39846c-6684-480f-b531-e345ae962858",
   "metadata": {},
   "outputs": [],
   "source": [
    "import ctypes"
   ]
  },
  {
   "cell_type": "code",
   "execution_count": null,
   "id": "1e6ce9e5-0378-4e87-a3af-f699eed6e1f3",
   "metadata": {},
   "outputs": [],
   "source": [
    "cpp_lib = ctypes.cdll.LoadLibrary('./impl/ctypes_omp/euclidean_distance.so')"
   ]
  },
  {
   "cell_type": "code",
   "execution_count": null,
   "id": "ca6ba88d-2203-4f5b-ae1f-e992ba0d4152",
   "metadata": {},
   "outputs": [],
   "source": [
    "cpp_lib.euclidean_distances"
   ]
  },
  {
   "cell_type": "code",
   "execution_count": null,
   "id": "483c998b-e1b0-4297-a0bb-a6716364adc9",
   "metadata": {},
   "outputs": [],
   "source": [
    "p_double_t = ctypes.POINTER(ctypes.c_double)\n",
    "\n",
    "cpp_lib.euclidean_distances.argtypes = [\n",
    "    p_double_t,\n",
    "    p_double_t,\n",
    "    p_double_t,\n",
    "    ctypes.c_size_t,\n",
    "    ctypes.c_size_t,\n",
    "    ctypes.c_size_t,\n",
    "]\n",
    "\n",
    "cpp_lib.euclidean_distances.restype = p_double_t"
   ]
  },
  {
   "cell_type": "code",
   "execution_count": null,
   "id": "d89e9dae-5d98-4479-b3f9-19d9e3ff72a8",
   "metadata": {},
   "outputs": [],
   "source": [
    "def euclidean_distance_cpp(a, b):\n",
    "    num_a, dim = a.shape\n",
    "    num_b, dim = b.shape\n",
    "    \n",
    "    distances = np.zeros(shape=(num_a, num_b, ))\n",
    "    \n",
    "    _ = cpp_lib.euclidean_distances(\n",
    "        distances.ctypes.data_as(p_double_t),\n",
    "        a.ctypes.data_as(p_double_t),\n",
    "        b.ctypes.data_as(p_double_t),\n",
    "        num_a, num_b, dim,\n",
    "    )\n",
    "    \n",
    "    return distances"
   ]
  },
  {
   "cell_type": "code",
   "execution_count": null,
   "id": "bc5c2a1a-e320-4b18-a0cf-a95d819bb1ae",
   "metadata": {},
   "outputs": [],
   "source": [
    "%%timeit\n",
    "\n",
    "_ = euclidean_distance_cpp(vec_a, vec_b)"
   ]
  },
  {
   "cell_type": "code",
   "execution_count": null,
   "id": "e1aaca15-f085-449a-bbc9-79c5a7fee67c",
   "metadata": {},
   "outputs": [],
   "source": []
  }
 ],
 "metadata": {
  "kernelspec": {
   "display_name": "Python 3",
   "language": "python",
   "name": "python3"
  },
  "language_info": {
   "codemirror_mode": {
    "name": "ipython",
    "version": 3
   },
   "file_extension": ".py",
   "mimetype": "text/x-python",
   "name": "python",
   "nbconvert_exporter": "python",
   "pygments_lexer": "ipython3",
   "version": "3.7.3"
  },
  "widgets": {
   "application/vnd.jupyter.widget-state+json": {
    "state": {},
    "version_major": 2,
    "version_minor": 0
   }
  }
 },
 "nbformat": 4,
 "nbformat_minor": 5
}
