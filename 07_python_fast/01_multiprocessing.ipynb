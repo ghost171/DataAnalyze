{
 "cells": [
  {
   "cell_type": "markdown",
   "id": "be7b8410-e186-4254-9b42-3a6bfdf0bcca",
   "metadata": {},
   "source": [
    "# Многопроцессность и многопоточность"
   ]
  },
  {
   "cell_type": "markdown",
   "id": "51cec618-36d2-424b-881c-dead7e20ad20",
   "metadata": {},
   "source": [
    "### В чем разница между concurrency и parallelism?\n",
    "\n",
    "Конкурентность — это выполнение задач за определённое время (например, есть 5 процессов и все они в сумме выполняются в течение 60 минут по очереди). Важная деталь заключается в том, что задачи необязательно выполняются одновременно, поэтому их можно разделить на более мелкие и чередующиеся.\n",
    "\n",
    "<center>\n",
    "<img src=\"https://iamluminousmen-media.s3.amazonaws.com/media/concurrency-and-parallelism-are-different/concurrency-and-parallelism-are-different-2.jpg\" width=480>\n",
    "</center>\n",
    "\n",
    "Параллелизм — это выполнение задач в одно и то же время (например, есть 5 задач, каждая из них выполняется в течение 60 минут). Само название подразумевает, что они выполняются параллельно.\n",
    "\n",
    "<center>\n",
    "<img src=\"https://iamluminousmen-media.s3.amazonaws.com/media/concurrency-and-parallelism-are-different/concurrency-and-parallelism-are-different-3.jpg\" width=480>\n",
    "</center>\n",
    "\n",
    "В Python есть подержка обоих механизмов:\n",
    "- `asyncio` – конкурентность;\n",
    "- `multiprocessing` – параллелизм."
   ]
  },
  {
   "cell_type": "markdown",
   "id": "eff31630-b487-4ab5-9c1c-f9f74d9da19d",
   "metadata": {},
   "source": [
    "### В чем разница между процессами и потоками?\n",
    "\n",
    "Процесс — запущенная программа. У каждого процесса есть изолированное от других процессов состояние:\n",
    "- виртуальное адресное пространство;\n",
    "- указатель на исполняемую инструкцию;\n",
    "- стек вызовов;\n",
    "- системные ресурсы, например, открытые файловые дескрипторы.\n",
    "\n",
    "Процессы удобны для одновременного выполнения нескольких задач.\n",
    "\n",
    "Поток похож на процесс тем, что его исполнение происходит независимо от других потоков (и процессов). В отличие от процесса поток исполняется внутри процесса и разделяет с ним адресное пространство и системные ресурсы.\n",
    "\n",
    "Потоки удобны для одновременного выполнения нескольких задач, которым требуется доступ к разделяемому состоянию."
   ]
  },
  {
   "cell_type": "markdown",
   "id": "88a752d2-8bf4-4131-b949-f57e3d3db0b2",
   "metadata": {},
   "source": [
    "### Все ли так хорошо с потоками в Python?"
   ]
  },
  {
   "cell_type": "markdown",
   "id": "fee2a4e8-8e2d-4cd8-840a-b5fa0bcabbff",
   "metadata": {},
   "source": [
    "Если два или более потока попытаются манипулировать одним и тем же объектом в одно и то же время, то неизбежно возникнут проблемы. Глобальная блокировка интерпретатора (GIL) исправляет это. В любой момент времени действия может выполнять только один поток. Python автоматически переключается между потоками, когда в этом возникает необходимость.\n",
    "\n",
    "GIL (global interpreter lock) — это мьютекс, который гарантирует, что в каждый момент времени только один поток имеет доступ к внутреннему состоянию интерпретатора.\n",
    "\n",
    "Почему GIL для Python так важен? Дело в том, что у каждого объекта есть специальный счетчик ссылок на этот объект. Объект удаляется GC (garbage collector), когда число ссылок на объект равно 0."
   ]
  },
  {
   "cell_type": "code",
   "execution_count": null,
   "id": "9d632816-2a9a-42ee-a090-d7f6cd23b0d6",
   "metadata": {},
   "outputs": [],
   "source": [
    "import sys"
   ]
  },
  {
   "cell_type": "code",
   "execution_count": null,
   "id": "d1c3b021-a48e-4e32-8521-8b4433fbb6a4",
   "metadata": {},
   "outputs": [],
   "source": [
    "a = []\n",
    "b = a\n",
    "\n",
    "sys.getrefcount(a)  # почему ответ такой?"
   ]
  },
  {
   "cell_type": "code",
   "execution_count": null,
   "id": "bdd8454b-caca-42c2-aad2-35f6e18f76ba",
   "metadata": {},
   "outputs": [],
   "source": [
    "del a\n",
    "sys.getrefcount(b)"
   ]
  },
  {
   "cell_type": "markdown",
   "id": "d80d5d63-509a-4dbe-a40d-98cdff24cd42",
   "metadata": {},
   "source": [
    "Продемонстрируем, что GIL действительно не ускоряет python код."
   ]
  },
  {
   "cell_type": "code",
   "execution_count": null,
   "id": "63d381c7-547a-47c7-88ef-11f1e4c8d6f5",
   "metadata": {},
   "outputs": [],
   "source": [
    "import random\n",
    "\n",
    "def countdown(n):\n",
    "    while n > 0:\n",
    "        a = random.randint(-3, 3)\n",
    "        b = random.randint(-3, 3)\n",
    "        c = random.randint(-3, 3)\n",
    "        \n",
    "        d = (a - b) ** 2 + (a - c) ** 2 + (b - c) ** 2\n",
    "        n -= 1"
   ]
  },
  {
   "cell_type": "code",
   "execution_count": null,
   "id": "2639e450-91e7-46ac-abb9-3a396ba6276d",
   "metadata": {},
   "outputs": [],
   "source": [
    "%%time\n",
    "\n",
    "countdown(100_000)"
   ]
  },
  {
   "cell_type": "markdown",
   "id": "bc8df38e-4c79-4f88-9ceb-49ddb86475c9",
   "metadata": {},
   "source": [
    "Для работы с потоками в python есть модуль `threading`."
   ]
  },
  {
   "cell_type": "code",
   "execution_count": null,
   "id": "47c2c14f-e6db-4d2c-95b7-8af380553674",
   "metadata": {},
   "outputs": [],
   "source": [
    "%%time\n",
    "\n",
    "from threading import Thread\n",
    "\n",
    "# создаем потоки\n",
    "t1 = Thread(target=countdown, args=(50_000, ))\n",
    "t2 = Thread(target=countdown, args=(50_000, ))\n",
    "\n",
    "# запускаем потоки\n",
    "t1.start()\n",
    "t2.start()\n",
    "\n",
    "# дожидаемся потоки\n",
    "t1.join()\n",
    "t2.join()"
   ]
  },
  {
   "cell_type": "markdown",
   "id": "da4dd37b-ee72-4d76-be73-f6c6afdbf6bc",
   "metadata": {},
   "source": [
    "К счастью, не все так плохо – некоторые операции позволяют \"отпустить\" GIL:\n",
    "- работа с файловыми дескрипторами (I/O операции);\n",
    "- вызов C/C++ кода."
   ]
  },
  {
   "cell_type": "code",
   "execution_count": null,
   "id": "bd9a9aba-6cc0-4162-b6da-6875cac8672f",
   "metadata": {},
   "outputs": [],
   "source": [
    "import requests"
   ]
  },
  {
   "cell_type": "code",
   "execution_count": null,
   "id": "e801a836-73dd-4271-8795-52fdbc569a2a",
   "metadata": {},
   "outputs": [],
   "source": [
    "%%time\n",
    "\n",
    "pages = []\n",
    "\n",
    "for post_id in range(349000, 349200, 10):\n",
    "    post_url = f'https://habr.com/post/{post_id}/'\n",
    "    page = requests.get(post_url)\n",
    "    pages.append(page)\n",
    "    \n",
    "len(pages)"
   ]
  },
  {
   "cell_type": "markdown",
   "id": "823b3404-04e0-4338-9076-c17db5175c64",
   "metadata": {},
   "source": [
    "В `python` есть специальные удобные пулы процессов/потоков, которые очень удобно использовать в простых задачах, наподобие предыдущей."
   ]
  },
  {
   "cell_type": "code",
   "execution_count": null,
   "id": "98698827-a5d9-4cf1-9f06-29cef8834797",
   "metadata": {},
   "outputs": [],
   "source": [
    "from multiprocessing.dummy import Pool as ThreadPool\n",
    "\n",
    "\n",
    "def retrieve(post_id):\n",
    "    post_url = f'https://habr.com/post/{post_id}/'\n",
    "    page = requests.get(post_url)\n",
    "    return page"
   ]
  },
  {
   "cell_type": "code",
   "execution_count": null,
   "id": "4d3c97ba-a77b-4228-844e-40c862e8d7f7",
   "metadata": {},
   "outputs": [],
   "source": [
    "%%time\n",
    "\n",
    "with ThreadPool(2) as pool:\n",
    "    pages = pool.map(retrieve, range(349000, 349200, 10))\n",
    "    pool.close()\n",
    "    pool.join()\n",
    "    \n",
    "len(pages)"
   ]
  },
  {
   "cell_type": "markdown",
   "id": "3b71045a-b340-44e2-93da-1e67e91358d9",
   "metadata": {},
   "source": [
    "При работе с потоками важно помнить про синхронизацию."
   ]
  },
  {
   "cell_type": "code",
   "execution_count": null,
   "id": "3c2a8104-1db5-4e91-8271-16eefaa11b54",
   "metadata": {},
   "outputs": [],
   "source": [
    "def increment():\n",
    "    global x\n",
    "    x += 1\n",
    "\n",
    "def thread_task():\n",
    "    for _ in range(100000):\n",
    "        increment()"
   ]
  },
  {
   "cell_type": "code",
   "execution_count": null,
   "id": "8b305565-c9ac-40ce-8398-91a1ea478c24",
   "metadata": {},
   "outputs": [],
   "source": [
    "x = 0\n",
    "\n",
    "t1 = Thread(target=thread_task)\n",
    "t2 = Thread(target=thread_task)\n",
    "  \n",
    "t1.start()\n",
    "t2.start()\n",
    "  \n",
    "t1.join()\n",
    "t2.join()\n",
    "\n",
    "x"
   ]
  },
  {
   "cell_type": "markdown",
   "id": "2aa18043-2b7f-4b2f-a8c1-13b10d1b611d",
   "metadata": {},
   "source": [
    "Добавим специальный объект (мьютекс) для синхронизации потоков."
   ]
  },
  {
   "cell_type": "code",
   "execution_count": null,
   "id": "d44b33b4-7e70-4169-9b11-a07c1dba5cca",
   "metadata": {},
   "outputs": [],
   "source": [
    "from threading import Lock\n",
    "\n",
    "\n",
    "def thread_task(lock):\n",
    "    for _ in range(100000):\n",
    "        with lock:\n",
    "            increment()\n",
    "            \n",
    "        # same as:\n",
    "        # lock.acquire()\n",
    "        # increment()\n",
    "        # lock.release()"
   ]
  },
  {
   "cell_type": "code",
   "execution_count": null,
   "id": "7116a601-d080-43aa-b2a2-4939ab2a5ec1",
   "metadata": {},
   "outputs": [],
   "source": [
    "x = 0\n",
    "\n",
    "lock = Lock()\n",
    "\n",
    "t1 = Thread(target=thread_task, args=(lock, ))\n",
    "t2 = Thread(target=thread_task, args=(lock, ))\n",
    "  \n",
    "t1.start()\n",
    "t2.start()\n",
    "  \n",
    "t1.join()\n",
    "t2.join()\n",
    "\n",
    "x"
   ]
  },
  {
   "cell_type": "markdown",
   "id": "aac7bb4a-b398-4b2f-bb3d-0c8a76fa7477",
   "metadata": {},
   "source": [
    "### Процессы"
   ]
  },
  {
   "cell_type": "markdown",
   "id": "a0469f22-5b46-47f6-9b78-05a6966716c5",
   "metadata": {},
   "source": [
    "Процессы можно также создавать по-одиночке, как и потоки."
   ]
  },
  {
   "cell_type": "code",
   "execution_count": null,
   "id": "83d447e2-4520-4654-b067-af52294ca2eb",
   "metadata": {},
   "outputs": [],
   "source": [
    "%%time\n",
    "\n",
    "countdown(100_000)"
   ]
  },
  {
   "cell_type": "code",
   "execution_count": null,
   "id": "7fd7ea46-436e-4398-b419-44b2e9b2c7d5",
   "metadata": {},
   "outputs": [],
   "source": [
    "%%time\n",
    "\n",
    "from multiprocessing import Process\n",
    "\n",
    "# создаем процессы\n",
    "p1 = Process(target=countdown, args=(50_000, ))\n",
    "p2 = Process(target=countdown, args=(50_000, ))\n",
    "\n",
    "# запускаем процессы\n",
    "p1.start()\n",
    "p2.start()\n",
    "\n",
    "# дожидаемся процессы\n",
    "p1.join()\n",
    "p2.join()"
   ]
  },
  {
   "cell_type": "code",
   "execution_count": null,
   "id": "04177256-9fbf-4fd1-a7ab-4a511e498e72",
   "metadata": {},
   "outputs": [],
   "source": [
    "p = Process(target=countdown, args=(100_000, ))\n",
    "p.start()"
   ]
  },
  {
   "cell_type": "code",
   "execution_count": null,
   "id": "e9131f28-bd52-4305-b7f5-c261bd4f491a",
   "metadata": {},
   "outputs": [],
   "source": [
    "p.name, p.pid"
   ]
  },
  {
   "cell_type": "code",
   "execution_count": null,
   "id": "2a580dcc-a7fb-4eee-b210-b1b980fee92e",
   "metadata": {},
   "outputs": [],
   "source": [
    "%%time\n",
    "\n",
    "p.join()\n",
    "p.exitcode"
   ]
  },
  {
   "cell_type": "markdown",
   "id": "5bb530bc-b1d3-4ca9-bebd-c676f5c8bd6e",
   "metadata": {},
   "source": [
    "Или группами..."
   ]
  },
  {
   "cell_type": "code",
   "execution_count": null,
   "id": "b4cb512b-3a81-4789-ac6b-d6f356796c71",
   "metadata": {},
   "outputs": [],
   "source": [
    "from multiprocessing import Pool"
   ]
  },
  {
   "cell_type": "code",
   "execution_count": null,
   "id": "d7d99a24-869f-4052-bd47-c34b59b5c6b4",
   "metadata": {},
   "outputs": [],
   "source": [
    "%%time\n",
    "\n",
    "with Pool(2) as pool:\n",
    "    pages = pool.map(retrieve, range(349000, 349200, 10))\n",
    "    pool.close()\n",
    "    pool.join()\n",
    "    \n",
    "len(pages)"
   ]
  },
  {
   "cell_type": "markdown",
   "id": "4be59d23-72f8-411b-99f1-02bcc55c057e",
   "metadata": {},
   "source": [
    "Пример работы с разделяемым объектом"
   ]
  },
  {
   "cell_type": "code",
   "execution_count": null,
   "id": "a08bf194-6f70-4612-a615-c80b1e44c10f",
   "metadata": {},
   "outputs": [],
   "source": [
    "from multiprocessing import Value, Lock"
   ]
  },
  {
   "cell_type": "code",
   "execution_count": null,
   "id": "b263f4dd-92a9-4a9f-b400-58f336f0ee61",
   "metadata": {},
   "outputs": [],
   "source": [
    "def increment():\n",
    "    global x\n",
    "    x.value += 1\n",
    "\n",
    "def process_task():\n",
    "    for _ in range(100000):\n",
    "        increment()"
   ]
  },
  {
   "cell_type": "code",
   "execution_count": null,
   "id": "ff7c2a67-eec6-46e6-b759-2f15870e7218",
   "metadata": {},
   "outputs": [],
   "source": [
    "x = Value('i', 0)\n",
    "\n",
    "p1 = Process(target=process_task)\n",
    "p2 = Process(target=process_task)\n",
    "  \n",
    "p1.start()\n",
    "p2.start()\n",
    "  \n",
    "p1.join()\n",
    "p2.join()\n",
    "\n",
    "x.value"
   ]
  },
  {
   "cell_type": "code",
   "execution_count": null,
   "id": "f6126f6d-eec6-4984-9523-ca10df230191",
   "metadata": {},
   "outputs": [],
   "source": [
    "def increment():\n",
    "    global x\n",
    "    x.value += 1\n",
    "\n",
    "def process_task(lock):\n",
    "    for _ in range(100000):\n",
    "        with lock:\n",
    "            increment()"
   ]
  },
  {
   "cell_type": "code",
   "execution_count": null,
   "id": "8f2b7443-f9da-43f6-bf26-72acfa3a55e4",
   "metadata": {},
   "outputs": [],
   "source": [
    "x = Value('i', 0)\n",
    "\n",
    "lock = Lock()\n",
    "\n",
    "p1 = Process(target=process_task, args=(lock, ))\n",
    "p2 = Process(target=process_task, args=(lock, ))\n",
    "  \n",
    "p1.start()\n",
    "p2.start()\n",
    "\n",
    "p1.join()\n",
    "p2.join()\n",
    "\n",
    "x.value"
   ]
  },
  {
   "cell_type": "code",
   "execution_count": null,
   "id": "d1628169-4311-4093-83b4-872423893d85",
   "metadata": {},
   "outputs": [],
   "source": []
  }
 ],
 "metadata": {
  "kernelspec": {
   "display_name": "Python 3",
   "language": "python",
   "name": "python3"
  },
  "language_info": {
   "codemirror_mode": {
    "name": "ipython",
    "version": 3
   },
   "file_extension": ".py",
   "mimetype": "text/x-python",
   "name": "python",
   "nbconvert_exporter": "python",
   "pygments_lexer": "ipython3",
   "version": "3.7.3"
  },
  "widgets": {
   "application/vnd.jupyter.widget-state+json": {
    "state": {},
    "version_major": 2,
    "version_minor": 0
   }
  }
 },
 "nbformat": 4,
 "nbformat_minor": 5
}
