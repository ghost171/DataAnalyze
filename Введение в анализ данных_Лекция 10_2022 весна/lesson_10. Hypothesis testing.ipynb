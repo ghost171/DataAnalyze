{
 "cells": [
  {
   "cell_type": "markdown",
   "metadata": {},
   "source": [
    "# Проверка статистических гипотез"
   ]
  },
  {
   "cell_type": "markdown",
   "metadata": {},
   "source": [
    "**Статистическая гипотеза** — это некоторое предположение о свойствах генеральной совокупности, которое необходимо проверить. \n",
    "\n",
    "\n",
    "**Проверка статистических гипотез** – это процедура проверки действительны ли результаты, полученные на выборке, и для генеральной совокупности.\n"
   ]
  },
  {
   "cell_type": "markdown",
   "metadata": {},
   "source": [
    "**Ошибка первого рода** — ситуация, когда отвергнута правильная нулевая гипотеза (англ. type I errors, α errors, false positive, ошибочное отвержение).\n",
    "**Ошибка второго рода** — ситуация, когда принята неправильная нулевая гипотеза (англ. type II errors, β errors, false negative, ошибочное принятие). Величина 1 – β называется мощностью критерия."
   ]
  },
  {
   "cell_type": "markdown",
   "metadata": {},
   "source": [
    "<img width = '300px' src=\"images/errors_.jpg\">"
   ]
  },
  {
   "cell_type": "markdown",
   "metadata": {},
   "source": [
    "**Уровень значимости** — допустимая для данной задачи вероятность ошибки первого рода (ложноположительного решения, false positive), то есть вероятность отклонить нулевую гипотезу, когда на самом деле она верна."
   ]
  },
  {
   "cell_type": "markdown",
   "metadata": {},
   "source": [
    "<img width = '600px' src=\"images/errors_plot.png\">"
   ]
  },
  {
   "cell_type": "markdown",
   "metadata": {},
   "source": [
    "Вопрос: почему бы не установить уровень alpha крайне маленьким? Хочется совершать ошибку первого рода крайне мало!\n",
    "\n",
    "Ответ: если установить alpha ничтожно малым - возрастут ошибки второго рода."
   ]
  },
  {
   "cell_type": "markdown",
   "metadata": {},
   "source": [
    "При выборе уровня значимости α исследователь исходит из практических соображений, отвечая на вопрос: какую вероятность ошибки он считает допустимой для его конкретной задачи? Обычно считают достаточным α= 0,05 (5%), иногда α=0,01, редко α=0,001."
   ]
  },
  {
   "cell_type": "markdown",
   "metadata": {},
   "source": [
    "**Виды альтернативных гипотез**"
   ]
  },
  {
   "cell_type": "markdown",
   "metadata": {},
   "source": [
    "Различают односторонние альтернативы: правосторонняя либо левосторонняя -  в данном случае ошибку первого рода переносят на один из хвостов и двустороннюю альтернативу – когда нет уверенности в направлении различий. \n",
    "\n",
    "При этом стоит помнить, что ни в коем случае нельзя выбирать тот или иной критерий после проведения эксперимента на основе анализа экспериментальных данных, поскольку это может привести к неверным выводам.\n"
   ]
  },
  {
   "cell_type": "markdown",
   "metadata": {},
   "source": [
    "<img width = '300px' src=\"images/althyp.png\">"
   ]
  },
  {
   "cell_type": "markdown",
   "metadata": {},
   "source": [
    "**Процедура проверки гипотез обычно проводится по следующей схеме:**\n",
    "1. формулируются гипотезы Н0 и Н1;\n",
    "2. фиксируется уровень значимости критерия α;\n",
    "3. выбирается статистический критерий для проверки гипотезы, данный критерий имеет известное стандартное распределение (нормальное, Т-распределение Стьюдента, Фишера и т.п.);\n",
    "4. по выборочным данным вычисляется значение K-наблюдаемое по распределению выбранной статистики;\n",
    "5. с учетом выбранного уровня значимости вычисляется критическая область и область принятия гипотезы, то есть находится K-критическое;\n",
    "6. найденное значение K-наблюдаемое критерия сравнивается с K-критическое и по результатам сравнения делается вывод.\n"
   ]
  },
  {
   "cell_type": "markdown",
   "metadata": {},
   "source": [
    "<img width = '800px' src=\"images/example_hyp_test.png\">"
   ]
  },
  {
   "cell_type": "markdown",
   "metadata": {},
   "source": [
    "### Однофакторный дисперсионный анализ"
   ]
  },
  {
   "cell_type": "markdown",
   "metadata": {},
   "source": [
    "**Задача**\n",
    "\n",
    "Работаем операционным директором в курьерской службе. Курьеры передвигаются на электроскутерах, велосипедах и самокатах. Нам нужно понять, стоит ли пересаживать всех курьеров на один вид транспорта, то есть отличается ли в среднем скорость доставки **хотя бы у одного** транспортного средства **от других**.\n",
    "\n",
    "Статистическая формулировка:\n",
    "все ли выборки по разным транспортным средствам из одного (схожего) распредления ЛИБО какова вероятность получить такие различия в группах, которые будут найдены извлекая случайные выборки из генеральной совокупности?"
   ]
  },
  {
   "cell_type": "markdown",
   "metadata": {},
   "source": [
    "Допустив, что курьеры на разных транспортных средствах передвигаются с одинаковой скоростью (при реальном эксперименте мы этого не знаем, также мы не знаем, как будет выглядеть генеральная совокупность), то есть все скорости доставки взяты из одной генеральной совокупности.  \n",
    "\n",
    "Сгенерируем теоретическую генеральную совокупность."
   ]
  },
  {
   "cell_type": "code",
   "execution_count": null,
   "metadata": {},
   "outputs": [],
   "source": [
    "import pandas as pd\n",
    "import matplotlib.pyplot as plt\n",
    "%matplotlib inline\n",
    "import seaborn as sns\n",
    "import numpy as np\n",
    "import itertools\n",
    "import scipy\n",
    "import tqdm\n",
    "from scipy import stats\n",
    "import random\n",
    "\n",
    "from IPython.display import *"
   ]
  },
  {
   "cell_type": "code",
   "execution_count": 466,
   "metadata": {},
   "outputs": [
    {
     "data": {
      "image/png": "[encoded data removed]",
      "text/plain": [
       "<Figure size 1008x504 with 1 Axes>"
      ]
     },
     "metadata": {
      "needs_background": "light"
     },
     "output_type": "display_data"
    }
   ],
   "source": [
    "distrib = stats.norm(loc = 35, scale = 10)\n",
    "gen_pop = distrib.rvs(size=10000)\n",
    "\n",
    "fig = plt.figure(figsize=(14, 7))\n",
    "ax1 = plt.subplot(111)\n",
    "plt.hist(gen_pop, 100)\n",
    "plt.show()"
   ]
  },
  {
   "cell_type": "markdown",
   "metadata": {},
   "source": [
    "Извлечем из нашей совокупности 3 случайные подгруппы по 50 заказов в каждой - пусть это будут наблюдения, полученные в реальном эксперименте."
   ]
  },
  {
   "cell_type": "code",
   "execution_count": 467,
   "metadata": {},
   "outputs": [
    {
     "data": {
      "text/plain": [
       "array([[25, 33, 43, 36, 26, 46, 40, 38, 45, 19, 36, 25, 20, 16, 37, 32,\n",
       "        18, 22, 46, 41, 50, 39, 54, 42, 26, 44, 29, 30, 36, 26, 25, 20,\n",
       "        35, 41, 40, 31, 32, 27, 28, 50, 25, 44, 43, 45, 27, 38, 31, 27,\n",
       "        30, 21],\n",
       "       [48, 41, 43,  9, 16, 37, 29, 25, 21, 59, 35, 36, 38, 37, 21, 25,\n",
       "        32, 34, 36, 25, 16, 25, 28, 38, 48, 45, 44, 31, 23, 23, 24, 16,\n",
       "        22, 22, 27, 27, 37, 39, 37, 41, 24, 29, 49, 30, 34, 33, 39, 45,\n",
       "        23, 34],\n",
       "       [33, 45, 40, 51, 28, 41, 25, 35, 22, 55, 44, 28, 42, 36, 24, 32,\n",
       "        38, 41, 34, 25, 27, 39, 31, 22, 41, 37, 34, 34, 41, 24, 37, 30,\n",
       "        36, 35, 46, 26, 37, 28, 51, 39, 31, 48, 31, 29, 41, 50, 33, 41,\n",
       "        31, 31]])"
      ]
     },
     "execution_count": 467,
     "metadata": {},
     "output_type": "execute_result"
    }
   ],
   "source": [
    "np.random.seed(3106)\n",
    "sample_groups = []\n",
    "for i in range(3):\n",
    "    sample_groups.append(np.random.choice(gen_pop, size = 50).astype(int))\n",
    "sample_groups = np.array(sample_groups)\n",
    "sample_groups"
   ]
  },
  {
   "cell_type": "markdown",
   "metadata": {},
   "source": [
    "Рассчитаем:\n",
    "- среднее каждой выборки и стандартное отклонение (голубые линии на графике)\n",
    "- среднее средних и стандартное отклонение средних (оранжевая линия на графике)"
   ]
  },
  {
   "cell_type": "code",
   "execution_count": 468,
   "metadata": {},
   "outputs": [
    {
     "data": {
      "image/png": "[encoded data removed]",
      "text/plain": [
       "<Figure size 1008x504 with 1 Axes>"
      ]
     },
     "metadata": {
      "needs_background": "light"
     },
     "output_type": "display_data"
    }
   ],
   "source": [
    "x = np.mean(sample_groups,axis = 1)\n",
    "y = np.arange(sample_groups.shape[0])\n",
    "e = np.std(sample_groups,axis = 1)\n",
    "\n",
    "fig = plt.figure(figsize=(14, 7))\n",
    "plt.errorbar(x, y, xerr = e, linestyle='None', marker='o')\n",
    "plt.errorbar( np.mean(x), y.shape[0] ,xerr =  np.std(x), linestyle='None', marker='o')\n",
    "\n",
    "plt.show()"
   ]
  },
  {
   "cell_type": "markdown",
   "metadata": {},
   "source": [
    "**1)\tформулируются гипотезы Н0 и Н1;**\n",
    "\n",
    "\n",
    "H0 - выборки взяты из одного распределения (средние всех выборок равны)\n",
    "\n",
    "H1 - выборки взяты из разных распределений (хотя бы пара средних различается между собой)"
   ]
  },
  {
   "cell_type": "markdown",
   "metadata": {},
   "source": [
    "**2)\tфиксируется уровень значимости критерия значимости**\n",
    "\n",
    "Зададим α на уровне значимости 5%."
   ]
  },
  {
   "cell_type": "markdown",
   "metadata": {},
   "source": [
    "**3)выбирается статистический критерий для проверки гипотезы;**"
   ]
  },
  {
   "cell_type": "markdown",
   "metadata": {},
   "source": [
    "Однофакторный дисперсонный анализ проверяет, что чем больше разброс средних (стандартное отклонение среднего средних) и чем меньше разброс значений внутри групп (стандартные отклонения средних), тем меньше вероятность того, что наши группы — это случайные выборки из одной совокупности."
   ]
  },
  {
   "cell_type": "markdown",
   "metadata": {},
   "source": [
    "Критерий F (Фишера) передает вышеназванную идею:"
   ]
  },
  {
   "cell_type": "markdown",
   "metadata": {},
   "source": [
    " $ \\Large F =   \\frac{S^2меж.} {S^2внутр.} = \\frac{\\frac{SSB} {m-1}} {\\frac{SSW} {N - m}} $"
   ]
  },
  {
   "cell_type": "markdown",
   "metadata": {},
   "source": [
    "$ SSB - \\text{межгрупповая изменчивость}, $ \n",
    "$ SSW - \\text{внутригрупповая изменчивость}$ \n",
    "\n",
    "$m - \\text{кол-во групп}, $\n",
    "$N - \\text{число наблюдений} $"
   ]
  },
  {
   "cell_type": "markdown",
   "metadata": {},
   "source": [
    "При большем значении критерия F: дисперсия между средними групп больше, чем внутригрупповая дисперсия - означает, что выборки взяты не из одного распределения."
   ]
  },
  {
   "cell_type": "markdown",
   "metadata": {},
   "source": [
    "Обобщая, формула большинства статистических критериев можно представить в следюущем виде: "
   ]
  },
  {
   "cell_type": "markdown",
   "metadata": {},
   "source": [
    "$ \\Large \\frac{\\text{СИГНАЛ}} {\\text{ШУМ}}$"
   ]
  },
  {
   "cell_type": "markdown",
   "metadata": {},
   "source": [
    "Также критерий Фишера в числителе рассчитывает дисперсию среди средних (то есть значение, на основе которого мы можем принять решение о разнице распределенией), в знаменателе нормализуя на разброс данных в каждой из групп."
   ]
  },
  {
   "cell_type": "markdown",
   "metadata": {},
   "source": [
    "**4) по выборочным данным вычисляется значение K-наблюдаемое по распределению выбранной статистики**"
   ]
  },
  {
   "cell_type": "code",
   "execution_count": 469,
   "metadata": {},
   "outputs": [],
   "source": [
    "num_of_groups = sample_groups.shape[0]"
   ]
  },
  {
   "cell_type": "code",
   "execution_count": 481,
   "metadata": {},
   "outputs": [
    {
     "data": {
      "text/plain": [
       "33.733333333333334"
      ]
     },
     "execution_count": 481,
     "metadata": {},
     "output_type": "execute_result"
    }
   ],
   "source": [
    "#Рассчитаем среднее по всем наблюдениям:\n",
    "X_mean = sample_groups.mean()\n",
    "X_mean"
   ]
  },
  {
   "cell_type": "code",
   "execution_count": 484,
   "metadata": {},
   "outputs": [],
   "source": [
    "# Рассчитаем среднее для каждой группы\n",
    "group_means = sample_groups.mean(axis = 1)\n",
    "group_means_reshaped = group_means.reshape(num_of_groups, 1)"
   ]
  },
  {
   "cell_type": "code",
   "execution_count": 485,
   "metadata": {},
   "outputs": [
    {
     "data": {
      "text/plain": [
       "12584.0"
      ]
     },
     "execution_count": 485,
     "metadata": {},
     "output_type": "execute_result"
    }
   ],
   "source": [
    "# SSW\n",
    "SSW  = np.sum((sample_groups  - group_means_reshaped)**2)\n",
    "SSW"
   ]
  },
  {
   "cell_type": "code",
   "execution_count": 486,
   "metadata": {},
   "outputs": [
    {
     "data": {
      "text/plain": [
       "325.3333333333336"
      ]
     },
     "execution_count": 486,
     "metadata": {},
     "output_type": "execute_result"
    }
   ],
   "source": [
    "# SSB\n",
    "group_lengths = [x.shape[0] for x in sample_groups]\n",
    "\n",
    "SSB  = np.sum((group_means - X_mean)**2 * group_lengths)\n",
    "SSB"
   ]
  },
  {
   "cell_type": "code",
   "execution_count": 491,
   "metadata": {},
   "outputs": [
    {
     "data": {
      "text/plain": [
       "1.900190718372538"
      ]
     },
     "execution_count": 491,
     "metadata": {},
     "output_type": "execute_result"
    }
   ],
   "source": [
    "# F\n",
    "m = num_of_groups\n",
    "N = np.sum(group_lengths)\n",
    "\n",
    "F = (SSB/(m-1))/(SSW/(N-m))\n",
    "F"
   ]
  },
  {
   "cell_type": "markdown",
   "metadata": {},
   "source": [
    "Воспользуемся пакетом stats для аналогичного расчета:"
   ]
  },
  {
   "cell_type": "code",
   "execution_count": 488,
   "metadata": {},
   "outputs": [],
   "source": [
    "F, p = stats.f_oneway(*sample_groups)"
   ]
  },
  {
   "cell_type": "code",
   "execution_count": 480,
   "metadata": {},
   "outputs": [
    {
     "data": {
      "text/plain": [
       "1.900190718372537"
      ]
     },
     "execution_count": 480,
     "metadata": {},
     "output_type": "execute_result"
    }
   ],
   "source": [
    "# F-наблюдаемое\n",
    "F"
   ]
  },
  {
   "cell_type": "markdown",
   "metadata": {},
   "source": [
    "**5)\tс учетом выбранного уровня значимости вычисляется критическая область и область принятия гипотезы, то есть находится K-критическое**"
   ]
  },
  {
   "cell_type": "code",
   "execution_count": 522,
   "metadata": {},
   "outputs": [
    {
     "data": {
      "text/plain": [
       "2.6661487758521765"
      ]
     },
     "execution_count": 522,
     "metadata": {},
     "output_type": "execute_result"
    }
   ],
   "source": [
    "# F-критическое\n",
    "F_critical = scipy.stats.f.ppf(q=1-.05, dfn = m, dfd = N - m)\n",
    "F_critical"
   ]
  },
  {
   "cell_type": "markdown",
   "metadata": {},
   "source": [
    "**6)\tнайденное значение K-наблюдаемое критерия сравнивается с K-критическое и по результатам сравнения делается вывод**"
   ]
  },
  {
   "cell_type": "code",
   "execution_count": 500,
   "metadata": {},
   "outputs": [
    {
     "data": {
      "text/plain": [
       "True"
      ]
     },
     "execution_count": 500,
     "metadata": {},
     "output_type": "execute_result"
    }
   ],
   "source": [
    "F < F_critical"
   ]
  },
  {
   "cell_type": "markdown",
   "metadata": {},
   "source": [
    "**Вывод**: Мы не можем отвергнуть гипотезу H0"
   ]
  },
  {
   "cell_type": "markdown",
   "metadata": {},
   "source": [
    "**P-значение** упрощает проверку гипотез, нет необходимости искать критическое значение."
   ]
  },
  {
   "cell_type": "markdown",
   "metadata": {},
   "source": [
    "**p** - вероятность ошибочно отвергнуть верную нулевую гипотезу, то есть найти различия там, где их нет. Также p-значение называют достигаемым уровнем значимости.\n",
    "\n",
    "Это вероятность получить такие или более выраженные различия при условии, что между группами никаких различий на самом деле нет. Иными словами, это вероятность получить такие или еще более сильные различия между нашими группами, при условии, что, на самом деле, все передвигаются с одинаковой скоростью, то есть взяты из одного распределения."
   ]
  },
  {
   "cell_type": "code",
   "execution_count": 501,
   "metadata": {},
   "outputs": [
    {
     "data": {
      "text/plain": [
       "0.15319505983888268"
      ]
     },
     "execution_count": 501,
     "metadata": {},
     "output_type": "execute_result"
    }
   ],
   "source": [
    "p"
   ]
  },
  {
   "cell_type": "code",
   "execution_count": 502,
   "metadata": {},
   "outputs": [
    {
     "data": {
      "text/plain": [
       "True"
      ]
     },
     "execution_count": 502,
     "metadata": {},
     "output_type": "execute_result"
    }
   ],
   "source": [
    "p > 0.05"
   ]
  },
  {
   "cell_type": "markdown",
   "metadata": {},
   "source": [
    "Теперь давайте попробуем разобраться, откуда взялось распределение F, с которым мы работали.\n",
    "\n",
    "Будем из нашей генеральной совокупности извлекать выборки и считать F. Выборки будут также размером 50 и количество выборок будет равно 3, то есть по аналогии с тем же дизайном эксперимента, который мы проводили выше."
   ]
  },
  {
   "cell_type": "code",
   "execution_count": 509,
   "metadata": {},
   "outputs": [
    {
     "data": {
      "application/vnd.jupyter.widget-view+json": {
       "model_id": "43b844caada446ca95a19693a7200b1b",
       "version_major": 2,
       "version_minor": 0
      },
      "text/plain": [
       "  0%|          | 0/10000 [00:00<?, ?it/s]"
      ]
     },
     "metadata": {},
     "output_type": "display_data"
    }
   ],
   "source": [
    "def calculate_random_sample_group(sz = 50):\n",
    "    sample_groups = []\n",
    "    for i in range(num_of_groups):\n",
    "        sample_groups.append(np.random.choice(gen_pop,  size = sz))\n",
    "    F, _ = stats.f_oneway(*sample_groups)    \n",
    "    return sample_groups, F\n",
    "\n",
    "Fs = []\n",
    "sgs = []\n",
    "for i in tqdm.notebook.tqdm(range(10000)):\n",
    "    sg,F = calculate_random_sample_group()\n",
    "    Fs.append(F)\n",
    "    sgs.append(sg)"
   ]
  },
  {
   "cell_type": "markdown",
   "metadata": {},
   "source": [
    "Распределение приняло опредленную форму, такое распредление называется распредление Фишера, на основе рассчитанных статистик по нему мы как раз и принимали решения."
   ]
  },
  {
   "cell_type": "code",
   "execution_count": 510,
   "metadata": {},
   "outputs": [
    {
     "data": {
      "image/png": "[encoded data removed]",
      "text/plain": [
       "<Figure size 720x432 with 1 Axes>"
      ]
     },
     "metadata": {
      "needs_background": "light"
     },
     "output_type": "display_data"
    }
   ],
   "source": [
    "fig, ax = plt.subplots(figsize=(10, 6))\n",
    "plt.hist(Fs,bins = 100)\n",
    "plt.show()"
   ]
  },
  {
   "cell_type": "markdown",
   "metadata": {},
   "source": [
    "### Классификация критериев"
   ]
  },
  {
   "cell_type": "markdown",
   "metadata": {},
   "source": [
    "1. **Параметрические критерии** - включают расчет параметров конкретного распределения (t-критерий Стьюдента, F-критерий Фишера)\n",
    "2. **Непараметрические критерии** - не связаны с конкретным распределением (критерий Манна-Уитни и критерий Вилкоксона)\n",
    "3. **Критерии согласия** - проверяется гипотеза о виде неизвестного закона распределения (критерий Шапиро-Уилки, критерий хи-квадрат, критерий Колмогорова-Смирнова)\n",
    "\n",
    "\n",
    "Параметрические и непараметрические критерии также подразделяются на:\n",
    "- *одновыборочные* - проверяют гипотезы относительно ОДНОЙ выборки\n",
    "- *двувыборочные со связанными выборками* - элементы выборок являются парными результатами повторных измерений, выполненных в одном и том же множестве элементов\n",
    "- *двувыборочные с несвязанными выборками* - элементы выборок НЕ являются парными результатами повторных измерений, выполненных в одном и том же множестве элементов\n"
   ]
  },
  {
   "cell_type": "markdown",
   "metadata": {},
   "source": [
    "### Схема по работе со статистическими критериями"
   ]
  },
  {
   "cell_type": "markdown",
   "metadata": {},
   "source": [
    "<img width = '1200px' src=\"images/scheme.png\">"
   ]
  },
  {
   "cell_type": "markdown",
   "metadata": {},
   "source": [
    "### 1. Параметрические критерии для оценки среднего"
   ]
  },
  {
   "cell_type": "markdown",
   "metadata": {},
   "source": [
    "#### Одновыборочный критерий с большим числом наблюдений "
   ]
  },
  {
   "cell_type": "markdown",
   "metadata": {},
   "source": [
    "Наблюдаем: $X_1, X_2, …, X_n$\n",
    "\n",
    "Предполагаем: $X_i$  независимы и одинаково распределены (не обязательно нормально), количество наблюдений n велико\n",
    "\n",
    "Проверяемая гипотеза: $H_{0} : \\mu = \\mu_{0} , H_{1} : \\mu <> \\mu_{0} $ \n",
    "\n",
    "**Статистика:** $  \\large Z = \\frac{\\bar {X} - \\mu}{ \\frac{S}{\\sqrt{n}}  } $ ~  $N(0,1)$ при верной $H_0$"
   ]
  },
  {
   "cell_type": "markdown",
   "metadata": {},
   "source": [
    "Такой критерий называют асимптотический, так как использует ЦПТ."
   ]
  },
  {
   "cell_type": "markdown",
   "metadata": {},
   "source": [
    "#### Одновыборочный критерий с малым числом наблюдений  и известной дисперсией"
   ]
  },
  {
   "cell_type": "markdown",
   "metadata": {},
   "source": [
    "Наблюдаем: $X_1, X_2, …, X_n$, известна $\\large \\sigma^2$\n",
    "\n",
    "Предполагаем: $X_i$  независимы и одинаково **нормально** распределены, небольшое число наблюдений n\n",
    "\n",
    "Проверяемая гипотеза: $H_{0} : \\mu = \\mu_{0} , H_{1} : \\mu <> \\mu_{0} $ \n",
    "\n",
    "**Статистика:** $  \\large Z = \\frac{\\bar {X} - \\mu}{\\frac{\\sigma}{\\sqrt{n}}} $ ~  $N(0,1)$ при верной $H_0$"
   ]
  },
  {
   "cell_type": "markdown",
   "metadata": {},
   "source": [
    "#### Одновыборочный критерий с малым числом наблюдений и неизвестной дисперсией - критерий Стьюдента "
   ]
  },
  {
   "cell_type": "markdown",
   "metadata": {},
   "source": [
    "Наблюдаем: $X_1, X_2, …, X_n;$\n",
    "\n",
    "Предполагаем: $X_i$  независимы и одинаково **нормально** распределены, небольшое число наблюдений n\n",
    "\n",
    "Проверяемая гипотеза: $H_{0} : \\mu = \\mu_{0} , H_{1} : \\mu <> \\mu_{0} $ \n",
    "\n",
    "**Статистика:** $  \\large t = \\frac{\\bar {X} - \\mu}{\\frac{S}{\\sqrt{n}} } $ ~  $t$ при верной $H_0$\n"
   ]
  },
  {
   "cell_type": "code",
   "execution_count": 662,
   "metadata": {},
   "outputs": [
    {
     "data": {
      "text/plain": [
       "Ttest_1sampResult(statistic=-1.7634163815266284, pvalue=0.0883655567095017)"
      ]
     },
     "execution_count": 662,
     "metadata": {},
     "output_type": "execute_result"
    }
   ],
   "source": [
    "sample = [32.8, 44.3, 29. , 23.5, 26.7, 39. , 36.2, 25.6, 37.9, 36.5, 43.8,\n",
    "       59.7, 37.7, 38.4, 32.1, 28.2, 34.4, 22.1, 12.6, 26.9, 29.9, 55.5,\n",
    "       34.1, 22.4, 25.4, 40. , 22.5, 38.8, 43.6, 34.4]\n",
    "popmean = 37.\n",
    "alternative= 'two-sided'\n",
    "\n",
    "# a - выборка данных\n",
    "# popmean - среднее, с которым хотим сравнить гипотезу\n",
    "# alternative - вид альтернативной гипотезы\n",
    "\n",
    "stats.ttest_1samp(sample, popmean, alternative = alternative)"
   ]
  },
  {
   "cell_type": "markdown",
   "metadata": {},
   "source": [
    "При работе с данным критерием, чтобы убедиться, что выборка принадлежит к нормальному распределению используется один из критериев согласия."
   ]
  },
  {
   "cell_type": "markdown",
   "metadata": {},
   "source": [
    "#### Проверка распределений на нормальность"
   ]
  },
  {
   "cell_type": "markdown",
   "metadata": {},
   "source": [
    "Чаще всего используют следующие способы проверки распределений на нормальность:\n",
    "- визуальная оценка с помощью графика Q-Q графика\n",
    "- статистический критерий Шапиро-Уилко\n",
    "- статистический критерий Колмогорова-Смирнова\n",
    "- и т.д.\n",
    "\n",
    "У каждого критерия есть свои особенности и ограничения в применении."
   ]
  },
  {
   "cell_type": "markdown",
   "metadata": {},
   "source": [
    "**Пример построения Q-Q графика**"
   ]
  },
  {
   "cell_type": "code",
   "execution_count": 553,
   "metadata": {},
   "outputs": [],
   "source": [
    "d = stats.lognorm(0.5, loc = 25, scale = 10)\n",
    "sample_1 = d.rvs(size=300)\n",
    "\n",
    "d = stats.norm(loc = 25, scale = 10)\n",
    "sample_2 = d.rvs(size=300)"
   ]
  },
  {
   "cell_type": "code",
   "execution_count": 569,
   "metadata": {},
   "outputs": [
    {
     "data": {
      "image/png": "[encoded data removed]",
      "text/plain": [
       "<Figure size 1224x720 with 4 Axes>"
      ]
     },
     "metadata": {
      "needs_background": "light"
     },
     "output_type": "display_data"
    }
   ],
   "source": [
    "fig = plt.figure(figsize= (17,10))\n",
    "ax1 = fig.add_subplot(221)\n",
    "plt.hist(sample_1, bins = 20)\n",
    "ax2 = fig.add_subplot(222) \n",
    "plt.hist(sample_2, bins = 20)\n",
    "ax3 = fig.add_subplot(223)\n",
    "stats.probplot(sample_1, dist = \"norm\", plot = plt)\n",
    "ax3 = fig.add_subplot(224)\n",
    "stats.probplot(sample_2, dist = \"norm\", plot = plt)\n",
    "plt.show()"
   ]
  },
  {
   "cell_type": "markdown",
   "metadata": {},
   "source": [
    "Точки выборки с нормальным распределением лежат на прямой."
   ]
  },
  {
   "cell_type": "markdown",
   "metadata": {},
   "source": [
    "Как строится:\n",
    "\n",
    "1. берём 0.01-квантиль теоретического (с которым сравниваем) распределения, например нормального -- это $x_1$(≈-2.33 для нормального). \n",
    "2. берём 0.01-квантиль нашей выборки - это $y_1$. Рисуем на графике точку ($x_1,y_1$). \n",
    "3. берём 0.02-квантиль теоретического распределения - это $x_2$, и 0.02-квантиль выборки - это $y_2$. Опять рисуем на графике точку ($x_2,y_2$).\n",
    "4. и т.д.\n",
    "\n",
    "Естественно, рисовать точки можно с любым шагом, не только 0.01."
   ]
  },
  {
   "cell_type": "markdown",
   "metadata": {},
   "source": [
    "**Применение критерия Шапиро-Уилко**"
   ]
  },
  {
   "cell_type": "markdown",
   "metadata": {},
   "source": [
    "Критерий Шапиро-Уилка **W** используется для определения нормальности. Если **W** статистика значима, то гипотеза о нормальном распределении значений переменной отвергается. "
   ]
  },
  {
   "cell_type": "code",
   "execution_count": 577,
   "metadata": {},
   "outputs": [],
   "source": [
    "d = stats.lognorm(0.5, loc = 25, scale = 10)\n",
    "sample_1 = d.rvs(size=35)\n",
    "\n",
    "d = stats.norm(loc = 25, scale = 10)\n",
    "sample_2 = d.rvs(size=30)"
   ]
  },
  {
   "cell_type": "code",
   "execution_count": 578,
   "metadata": {},
   "outputs": [
    {
     "data": {
      "text/plain": [
       "ShapiroResult(statistic=0.8840447068214417, pvalue=0.0015135323628783226)"
      ]
     },
     "execution_count": 578,
     "metadata": {},
     "output_type": "execute_result"
    }
   ],
   "source": [
    "stats.shapiro(sample_1)"
   ]
  },
  {
   "cell_type": "code",
   "execution_count": 579,
   "metadata": {},
   "outputs": [
    {
     "data": {
      "text/plain": [
       "ShapiroResult(statistic=0.965752899646759, pvalue=0.43037518858909607)"
      ]
     },
     "execution_count": 579,
     "metadata": {},
     "output_type": "execute_result"
    }
   ],
   "source": [
    "stats.shapiro(sample_2)"
   ]
  },
  {
   "cell_type": "markdown",
   "metadata": {},
   "source": [
    "В первом случае нулевая гипотеза о нормальном распределении данных отвергается в пользу альтернативны, во втором случае принимается нулевая гипотеза ( p > 0.05), при заданном уровне значимости равным 5%.\n",
    "\n",
    "Данный критерий применяется для выборок размером до 50 наблюдений."
   ]
  },
  {
   "cell_type": "markdown",
   "metadata": {},
   "source": [
    "**Задача**"
   ]
  },
  {
   "cell_type": "markdown",
   "metadata": {},
   "source": [
    "Средняя сессия посетителя игрового компьютерного клуба составляет 90 минут. Владелец клуба хочет увеличить время игровых сессий, потому что так он сможет получить больше выручки, решая заменить старые компьютеры на новые. В итоге, в течение следующих дней игроки проводят 20 сессий средней длинной 102 минуты со стандартным отклонением 15 минут. \n",
    "\n",
    "Необходимо понять, увеличилось ли время сессии за счет того, что владелец клуба заменил компьютеры?"
   ]
  },
  {
   "cell_type": "markdown",
   "metadata": {},
   "source": [
    "**Решение задачи**"
   ]
  },
  {
   "cell_type": "markdown",
   "metadata": {},
   "source": [
    "1. Имеем дело с **одновыборочным** критерием, так как у нас только одна группа пользователей, над которыми проводился эксперимент.\n",
    "2. Данных немного (n = 20), поэтому не можем воспользоваться при расчете Z-критерием.\n",
    "3. Не имея возможности оценить выборку (данных к задаче просто не прилагается) можно сделать предположение о том, что данные в выборке 20 игровых сессий пользователей распределены нормально."
   ]
  },
  {
   "cell_type": "markdown",
   "metadata": {},
   "source": [
    "4. Проверяемая гипотеза: $H_{0} : \\mu $ = 90 минут , $H_{1} : \\mu > 90$ минут \n",
    "\n",
    "Стоит сразу обратить внимание, что будем проверять одностороннюю гипотезу, то есть хотим оценить именно эффект улучшения.\n",
    "\n",
    "5. Установим уровень значимости критерия α = 5%.\n",
    "6. С учетом предположения о нормальности данных для расчета будем использовать критерий Стьюдента.\n"
   ]
  },
  {
   "cell_type": "code",
   "execution_count": 594,
   "metadata": {},
   "outputs": [],
   "source": [
    "sample_mean = 102\n",
    "mu = 90\n",
    "n = 20\n",
    "sample_std = 15"
   ]
  },
  {
   "cell_type": "code",
   "execution_count": 597,
   "metadata": {},
   "outputs": [],
   "source": [
    "t = (sample_mean - mu) / (sample_std/np.sqrt(n))"
   ]
  },
  {
   "cell_type": "markdown",
   "metadata": {},
   "source": [
    "7. Рассчитаем t-критическое, обратим внимание, что в данном случае проверяем именно односторонюю гипотезу (в случае двухсторонней гипотезы на концах распределения приходилась бы вероятностная масса $\\large \\frac{\\alpha}{2}$)."
   ]
  },
  {
   "cell_type": "code",
   "execution_count": 601,
   "metadata": {},
   "outputs": [
    {
     "data": {
      "text/plain": [
       "1.7247182429207857"
      ]
     },
     "execution_count": 601,
     "metadata": {},
     "output_type": "execute_result"
    }
   ],
   "source": [
    "t_crit = stats.t.ppf(1-0.05, n)\n",
    "t_crit"
   ]
  },
  {
   "cell_type": "code",
   "execution_count": 629,
   "metadata": {
    "scrolled": true
   },
   "outputs": [
    {
     "data": {
      "image/png": "[encoded data removed]",
      "text/plain": [
       "<Figure size 720x288 with 1 Axes>"
      ]
     },
     "metadata": {
      "needs_background": "light"
     },
     "output_type": "display_data"
    }
   ],
   "source": [
    "fig = plt.figure(figsize= (10,4))\n",
    "xs = np.linspace(-5,5,1000)\n",
    "plt.plot(xs, stats.t.pdf(xs, n - 1))\n",
    "plt.axvline(t_crit, color='red', linestyle='dashed', linewidth=3, label = 't-крит')\n",
    "plt.axvline(t, color='blue', linestyle='dashed', linewidth=1,label = 't-наблюдаемое')\n",
    "plt.legend()\n",
    "plt.show()"
   ]
  },
  {
   "cell_type": "markdown",
   "metadata": {},
   "source": [
    "8. Вывод: на уровне значимости $\\alpha$ отвергаем нулевую гипотезу о невлиянии новых компьютеров на длину сессии в пользу альтернативной."
   ]
  },
  {
   "cell_type": "markdown",
   "metadata": {},
   "source": [
    "#### Двувыборочный критерий с большим числом наблюдений"
   ]
  },
  {
   "cell_type": "markdown",
   "metadata": {},
   "source": [
    "Наблюдаем: $X_1, X_2, …, X_{n_{x}}, Y_1, Y_2, …, Y_{n_{y}};$\n",
    "\n",
    "Предполагаем: $X_i$  независимы и одинаково распределены (не обязательно нормально), $Y_i$  независимы и одинаково распределены (не обязательно нормально),количество наблюдений $n_x$, $n_y$ велико. Все величины независимы.;\n",
    "\n",
    "Проверяемая гипотеза: $H_{0} : \\mu_x = \\mu_y , H_{1} : \\mu_x <> \\mu_y $ \n",
    "\n",
    "**Статистика:** $  \\large Z  = \\frac{\\overline{X}-\\overline{Y}}\n",
    "{ \\sqrt{ \\frac{S^2_x}{n_x} + \\frac{S^2_y}{n_y} } } $ \n",
    "~  $N(0,1)$ при верной $H_0$\n",
    "\n",
    "Опять же, как и при одновыборочном критерии, такие выводы мы можем сделать исходя из ЦПТ."
   ]
  },
  {
   "cell_type": "markdown",
   "metadata": {},
   "source": [
    "#### Двувыборочные критерии с малым числом наблюдений"
   ]
  },
  {
   "cell_type": "markdown",
   "metadata": {},
   "source": [
    "При работе с небольшим числом наблюдений мы не можем воспользоваться асимптотическим еритерием, работаем с так называемыми точными критериями, которые делают предположение исходя уже из самого распределения.\n",
    "\n",
    "Возможны три ситуации:\n",
    "1. известны дисперсии генеральной совокупности у обеих выборок, тогда:\n",
    "\n",
    "**Статистика:** $  \\large Z  = \\frac{\\overline{X}-\\overline{Y}}\n",
    "{ \\sqrt{ \\frac{\\sigma^2_x}{n_x} + \\frac{\\sigma^2_y}{n_y} } } $ \n",
    "~  $N(0,1)$ при верной $H_0$\n",
    "\n",
    "\n",
    "2. неизвестны дисперсии генеральной совокупности, известно только, что они равны, тогда:\n",
    "\n",
    "**Статистика:** $  \\large t  = \\frac{\\overline{X}-\\overline{Y}}\n",
    "{ \\sqrt{ \\frac{S^2_x}{n_x} + \\frac{S^2_y}{n_y} } } $ \n",
    "~  $t(n_x + n_y - 2)$ при верной $H_0$\n",
    "\n",
    "3. неизвестны дисперсии генеральной совокупности, также оцениваемые выборки могут быть неравны по размеру, тогда:\n",
    "\n",
    "**Статистика:** $  \\large W  = \\frac{\\overline{X}-\\overline{Y}}\n",
    "{ \\sqrt{ \\frac{S^2_x}{n_x} + \\frac{S^2_y}{n_y} } } $ \n",
    "~  $t(d)$ при верной $H_0$ - распределение Уэлча\n",
    "\n",
    "$ d = \\large \\frac{(\\frac{S^2_x}{n_x} + \\frac{S^2_y}{n_y})^2} \n",
    "{\\frac{S^4_x}{n_x^2(n_x - 1)} + \\frac{S^4_y}{n_y^2(n_y - 1)} }$\n",
    "\n",
    "\n",
    "Рассмотренные тесты требуют **нормальное** распределение данных в выборках."
   ]
  },
  {
   "cell_type": "markdown",
   "metadata": {},
   "source": [
    "Посмотрим, как можно рассчитывать статистики с помощью Python: "
   ]
  },
  {
   "cell_type": "code",
   "execution_count": 696,
   "metadata": {},
   "outputs": [],
   "source": [
    "sample_1 = [32.8, 44.3, 29. , 23.5, 26.7, 39. , 36.2, 25.6, 37.9, 36.5, 43.8,\n",
    "       59.7, 37.7, 38.4, 32.1, 28.2, 34.4, 22.1, 12.6, 26.9, 29.9, 55.5,\n",
    "       34.1, 22.4, 25.4, 40. , 22.5, 38.8, 43.6, 34.4]\n",
    "sample_2 = [34.2, 35.4, 53.2, 37.8, 34.6, 31.4, 35.8, 40.4, 32.4, 29.8, 30.9,\n",
    "       52.5, 44. , 32.3, 39.3, 31.7, 48.3, 34.7, 41.1, 52.3, 38.8, 55.8,\n",
    "       35.4, 32.3, 31.4, 37.6, 33.3, 42.9, 48.9, 39.2]\n",
    "alternative= 'two-sided'"
   ]
  },
  {
   "cell_type": "code",
   "execution_count": 698,
   "metadata": {},
   "outputs": [
    {
     "data": {
      "text/plain": [
       "(-2.246647443814713, 0.024662567532965064)"
      ]
     },
     "execution_count": 698,
     "metadata": {},
     "output_type": "execute_result"
    }
   ],
   "source": [
    "#Z - test\n",
    "from statsmodels.stats.weightstats import ztest as ztest\n",
    "ztest(sample_1, sample_2,alternative = alternative)"
   ]
  },
  {
   "cell_type": "code",
   "execution_count": 700,
   "metadata": {},
   "outputs": [
    {
     "data": {
      "text/plain": [
       "Ttest_indResult(statistic=-2.246647443814713, pvalue=0.028484307153437534)"
      ]
     },
     "execution_count": 700,
     "metadata": {},
     "output_type": "execute_result"
    }
   ],
   "source": [
    "# t-test\n",
    "stats.ttest_ind(sample_1, sample_2, alternative = alternative)"
   ]
  },
  {
   "cell_type": "code",
   "execution_count": 706,
   "metadata": {},
   "outputs": [
    {
     "data": {
      "text/plain": [
       "Ttest_indResult(statistic=-2.2466474438147124, pvalue=0.028761118010498955)"
      ]
     },
     "execution_count": 706,
     "metadata": {},
     "output_type": "execute_result"
    }
   ],
   "source": [
    "# W-test\n",
    "stats.ttest_ind(sample_1, sample_2, alternative = alternative, equal_var = False)"
   ]
  },
  {
   "cell_type": "code",
   "execution_count": 707,
   "metadata": {},
   "outputs": [],
   "source": [
    "from sklearn import datasets\n",
    "iris = datasets.load_iris()"
   ]
  },
  {
   "cell_type": "markdown",
   "metadata": {},
   "source": [
    "**Задача**"
   ]
  },
  {
   "cell_type": "markdown",
   "metadata": {},
   "source": [
    "Даны две выборки со средними оценками пользователей фильмов с двух разных кинопорталов. Необходимо проверить гипотезу о том, что пользователи второго кинопортала более консервативны в оценивании фильмов. "
   ]
  },
  {
   "cell_type": "code",
   "execution_count": 722,
   "metadata": {},
   "outputs": [],
   "source": [
    "ratings_1 = [\n",
    "       4.3, 5.8, 5.7, 5.4, 5.1, 5.7, 5.1, 5.4, 5.1, 4.6, 5.1, 4.8, 5. ,\n",
    "       5. , 5.2, 5.2, 4.7, 4.8, 5.4, 5.2, 5.5, 4.9, 5. , 5.5, 4.9, 4.4,\n",
    "       5.1, 5. , 4.5, 4.4, 5. , 5.1, 4.8, 5.1, 4.6, 5.3, 5. , 7. , 6.4,\n",
    "             3.9, 3.4, 3.4, 2.9, 3.1, 3.7, 3.4, 3. ,\n",
    "       3. , 4. , 4.4, 3.9, 3.5, 3.8, 3.8, 3.4, 3.7, 3.6,\n",
    "       6.8, 6.7, 6.7, 6.3, 6.5, 6.2, 5.9]\n",
    "\n",
    "ratings_2 = [3.5, 3. , 3.2, 3.1, 3.6, 3.9, 3.4, 3.4, 2.9, 3.1, 3.7, 3.4, 3. ,\n",
    "       3. , 4. , 4.4, 3.9, 3.5, 3.8, 3.8, 3.4, 3.7, 3.6, 3.3, 3.4, 3. ,\n",
    "       3.4, 3.5, 3.4, 3.2, 3.1, 3.4, 4.1, 4.2, 3.1, 3.2, 3.5, 3.6, 3. ,\n",
    "       3.4, 3.5, 2.3, 3.2, 3.5, 3.8, 3. , 3.8, 3.2, 3.7, 3.3, 3.2, 3.2,\n",
    "       3.1, 2.3, 2.8, 2.8, 3.3, 2.4, 2.9, 2.7, 2. , 3. , 2.2, 2.9, 2.9,\n",
    "       3.1, 3. , 2.7, 2.2, 2.5, 3.2, 2.8, 2.5, 2.8, 2.9, 3. , 2.8, 3. ,\n",
    "       2.9, 2.6, 2.4, 2.4, 2.7, 2.7, 3. , 3.4, 3.1, 2.3, 3. , 2.5, 2.6,\n",
    "       3. , 2.6, 2.3, 2.7, 3. , 2.9, 2.9, 2.5, 2.8, 3.3, 2.7, 3. , 2.9,\n",
    "       3. , 3. , 2.5, 2.9, 2.5, 3.6, 3.2, 2.7, 3. , 2.5, 2.8, 3.2, 3. ,\n",
    "       3.8, 2.6, 2.2, 3.2, 2.8, 2.8, 2.7, 3.3, 3.2, 2.8, 3. , 2.8, 3. ,\n",
    "       2.8, 3.8, 2.8, 2.8, 2.6, 3. , 3.4, 3.1, 3. , 3.1, 3.1, 3.1, 2.7,\n",
    "       3.2, 3.3, 3. , 2.5, 3. , 3.4, 3. ]"
   ]
  },
  {
   "cell_type": "markdown",
   "metadata": {},
   "source": [
    "**Решение задачи**"
   ]
  },
  {
   "cell_type": "markdown",
   "metadata": {},
   "source": [
    "1. Имеем дело с **двувыборочным** критерием, так как у нас две группы пользователей, над которыми проводился эксперимент.\n",
    "2. Выборки разные, при этом мы ничего не знаем про дисперсии генеральной совокупности, воспользуемся тестом Уэлча.\n",
    "3. Тест Уэлча требует нормальности распределения данных в обеих выборках"
   ]
  },
  {
   "cell_type": "code",
   "execution_count": 723,
   "metadata": {},
   "outputs": [
    {
     "data": {
      "text/plain": [
       "ShapiroResult(statistic=0.969359278678894, pvalue=0.11201612651348114)"
      ]
     },
     "execution_count": 723,
     "metadata": {},
     "output_type": "execute_result"
    }
   ],
   "source": [
    "stats.shapiro(ratings_1)"
   ]
  },
  {
   "cell_type": "code",
   "execution_count": 724,
   "metadata": {},
   "outputs": [
    {
     "data": {
      "text/plain": [
       "ShapiroResult(statistic=0.9849170446395874, pvalue=0.10113201290369034)"
      ]
     },
     "execution_count": 724,
     "metadata": {},
     "output_type": "execute_result"
    }
   ],
   "source": [
    "stats.shapiro(ratings_2)"
   ]
  },
  {
   "cell_type": "markdown",
   "metadata": {},
   "source": [
    "В обеих выборках не отвергается гипотеза о нормальности."
   ]
  },
  {
   "cell_type": "markdown",
   "metadata": {},
   "source": [
    "4. Проверяемая гипотеза: $H_{0} : \\mu_1 $ = $\\mu_2$ , $H_{1} : \\mu_1 $ > $\\mu_2$ \n",
    "\n",
    "Будем проверять одностороннюю гипотезу.\n",
    "\n",
    "5. Установим уровень значимости критерия α = 5%.\n",
    "6. Рассчитаем критерий Уэлча\n"
   ]
  },
  {
   "cell_type": "code",
   "execution_count": 730,
   "metadata": {},
   "outputs": [
    {
     "data": {
      "text/plain": [
       "Ttest_indResult(statistic=13.468527025019432, pvalue=8.548194524244958e-22)"
      ]
     },
     "execution_count": 730,
     "metadata": {},
     "output_type": "execute_result"
    }
   ],
   "source": [
    "stats.ttest_ind(ratings_1, ratings_2, alternative = 'greater', equal_var = False)"
   ]
  },
  {
   "cell_type": "markdown",
   "metadata": {},
   "source": [
    "7. Вывод: на уровне значимости $\\alpha$ отвергаем нулевую гипотезу об одинаковых средних в обеих выборках кинолюбителей в пользу альтернативной: пользователи, сидящие на втором кинопортале более консервативны в своих оценках."
   ]
  },
  {
   "cell_type": "markdown",
   "metadata": {},
   "source": [
    "#### Связанные критерии с малым числом наблюдений"
   ]
  },
  {
   "cell_type": "markdown",
   "metadata": {},
   "source": [
    "**Связанные выборки (зависимые, парные)** - каждое наблюдение одной выборки неразрывно связано (находится в паре) с одним из наблюдений другой выборки."
   ]
  },
  {
   "cell_type": "markdown",
   "metadata": {},
   "source": [
    "<img width = '400px' src=\"images/pp.png\">"
   ]
  },
  {
   "cell_type": "markdown",
   "metadata": {},
   "source": [
    "Наблюдаем: $X_1, X_2, …, X_{n_{x}}, Y_1, Y_2, …, Y_{n_{y}}$ \n",
    "\n",
    "Предполагаем: $X_i$  и $Y_i$ **зависимы** и нормально распредлены, количество наблюдений $n_x$, $n_y$ одинаково.;\n",
    "\n",
    "Проверяемая гипотеза: $H_{0} : \\mu_x = \\mu_y , H_{1} : \\mu_x <> \\mu_y $ \n",
    "\n",
    "**Статистика:** $  \\large Z  = \\frac{d}\n",
    "{ \\sqrt{ \\frac{S^2_d}{n_d} } } $ \n",
    "~  $N(0,1)$ при верной $H_0$\n",
    "\n",
    "d - среднее попарное изменение"
   ]
  },
  {
   "cell_type": "code",
   "execution_count": 734,
   "metadata": {},
   "outputs": [],
   "source": [
    "sample_1 = [32.8, 44.3, 29. , 23.5, 26.7, 39. , 36.2, 25.6, 37.9, 36.5, 43.8,\n",
    "       59.7, 37.7, 38.4, 32.1, 28.2, 34.4, 22.1, 12.6, 26.9, 29.9, 55.5,\n",
    "       34.1, 22.4, 25.4, 40. , 22.5, 38.8, 43.6, 34.4]\n",
    "sample_2 = [34.2, 35.4, 53.2, 37.8, 34.6, 31.4, 35.8, 40.4, 32.4, 29.8, 30.9,\n",
    "       52.5, 44. , 32.3, 39.3, 31.7, 48.3, 34.7, 41.1, 52.3, 38.8, 55.8,\n",
    "       35.4, 32.3, 31.4, 37.6, 33.3, 42.9, 48.9, 39.2]\n",
    "alternative= 'two-sided'"
   ]
  },
  {
   "cell_type": "code",
   "execution_count": 735,
   "metadata": {},
   "outputs": [
    {
     "data": {
      "text/plain": [
       "Ttest_relResult(statistic=-2.726336530171027, pvalue=0.01074988858275567)"
      ]
     },
     "execution_count": 735,
     "metadata": {},
     "output_type": "execute_result"
    }
   ],
   "source": [
    "stats.ttest_rel(sample_1,  sample_2, alternative = alternative)"
   ]
  },
  {
   "cell_type": "markdown",
   "metadata": {},
   "source": [
    "#### Бутстрап"
   ]
  },
  {
   "cell_type": "markdown",
   "metadata": {},
   "source": [
    "Очень много тестов со своей спецификой преминения и ограничениями!"
   ]
  },
  {
   "cell_type": "markdown",
   "metadata": {},
   "source": [
    "<img width = '300' src=\"images/book.png\">"
   ]
  },
  {
   "cell_type": "markdown",
   "metadata": {},
   "source": [
    "Есть универсальное решение для проверки гипотез - метод **бутстрап**."
   ]
  },
  {
   "cell_type": "markdown",
   "metadata": {},
   "source": [
    "Идея бутстрепа в том, чтобы использовать результаты вычислений по выборкам как \"фиктивную популяцию\" с целью определить выборочное распределение статистики. Фактически, при этом анализируется большое число \"фантомных\" выборок, называемых бутстреп-выборками.\n",
    "\n",
    "Выборки формируются методом \"с возращением\"."
   ]
  },
  {
   "cell_type": "markdown",
   "metadata": {},
   "source": [
    "В бутстрепе мы не получаем новой информации, но разумно используем имеющиеся данные, исходя из поставленной задачи.\n",
    "\n",
    "Например, бутстреп можно использовать для малых выборок, для оценок медианы, корреляций, построения доверительных интервалов и в других ситуациях."
   ]
  },
  {
   "cell_type": "markdown",
   "metadata": {},
   "source": [
    "Единственное **ограничение**, что выборка, с которой мы работаем при использовании бутстрепа должна быть похожа схожа с генеральной совокупностью."
   ]
  },
  {
   "cell_type": "markdown",
   "metadata": {},
   "source": [
    "<img width = '600' src=\"images/bootstrap.png\">"
   ]
  },
  {
   "cell_type": "markdown",
   "metadata": {},
   "source": [
    "**Задача**"
   ]
  },
  {
   "cell_type": "markdown",
   "metadata": {},
   "source": [
    "Разрабатываем алгоритм для высоконагруженной системы. Есть старая версия алгоритма, при этом было подготовлена новая версия алгоритма с использованием современных бибилотек. Нужно оценить 90-перцентиль времени работы алгоритмов, проверив одностороннюю гипотезу о том, что новый алгоритм эффективнее.      "
   ]
  },
  {
   "cell_type": "code",
   "execution_count": 810,
   "metadata": {},
   "outputs": [
    {
     "data": {
      "image/png": "[encoded data removed]",
      "text/plain": [
       "<Figure size 1008x216 with 2 Axes>"
      ]
     },
     "metadata": {
      "needs_background": "light"
     },
     "output_type": "display_data"
    }
   ],
   "source": [
    "ln_distrib = stats.lognorm(0.5, loc = 20, scale = 7)\n",
    "old_version = ln_distrib.rvs(size=1000)\n",
    "\n",
    "ln_distrib = stats.lognorm(0.5, loc = 17, scale = 8.3)\n",
    "new_version = ln_distrib.rvs(size=1000)\n",
    "\n",
    "fig = plt.figure(figsize=(14, 3))\n",
    "ax1 = plt.subplot(121)\n",
    "plt.hist(old_version, 100, alpha=0.8)\n",
    "plt.title('Распределение времени работы старого алгоритма')\n",
    "\n",
    "ax1 = plt.subplot(122)\n",
    "plt.hist(new_version, 100, alpha=0.8, color = 'r')\n",
    "plt.title('Распределение времени работы нового алгоритма')\n",
    "\n",
    "plt.show()"
   ]
  },
  {
   "cell_type": "markdown",
   "metadata": {},
   "source": [
    "**Решение задачи**"
   ]
  },
  {
   "cell_type": "markdown",
   "metadata": {},
   "source": [
    "1. Проверяемая гипотеза: $H_{0} : \\mu_1 $ = $\\mu_2$ , $H_{1} : \\mu_1 $ > $\\mu_2$ \n",
    "\n",
    "Будем проверять одностороннюю гипотезу.\n",
    "\n",
    "2. Установим уровень значимости критерия α = 5%.\n",
    "3. Используем бутстреп."
   ]
  },
  {
   "cell_type": "code",
   "execution_count": 811,
   "metadata": {},
   "outputs": [],
   "source": [
    "from sklearn.utils import resample"
   ]
  },
  {
   "cell_type": "code",
   "execution_count": 812,
   "metadata": {},
   "outputs": [],
   "source": [
    "old_version_90p_boostrap_distribution = []\n",
    "new_version_90p_boostrap_distribution = []\n",
    "\n",
    "for i in range(1000):\n",
    "    sample_old_version = resample(old_version, replace=True, n_samples=100, random_state=i)\n",
    "    sample_new_version = resample(new_version, replace=True, n_samples=100, random_state=i)\n",
    "    \n",
    "    old_version_90p_boostrap_distribution.append(np.percentile(sample_old_version, 90))\n",
    "    new_version_90p_boostrap_distribution.append(np.percentile(sample_new_version, 90))"
   ]
  },
  {
   "cell_type": "code",
   "execution_count": 813,
   "metadata": {},
   "outputs": [
    {
     "data": {
      "image/png": "[encoded data removed]",
      "text/plain": [
       "<Figure size 1008x216 with 2 Axes>"
      ]
     },
     "metadata": {
      "needs_background": "light"
     },
     "output_type": "display_data"
    }
   ],
   "source": [
    "fig = plt.figure(figsize=(14, 3))\n",
    "ax1 = plt.subplot(121)\n",
    "plt.hist(old_version_90p_boostrap_distribution, 100, alpha=0.8)\n",
    "\n",
    "ax1 = plt.subplot(122)\n",
    "plt.hist(new_version_90p_boostrap_distribution, 100, alpha=0.8, color = 'r')\n",
    "\n",
    "plt.show()"
   ]
  },
  {
   "cell_type": "code",
   "execution_count": 814,
   "metadata": {},
   "outputs": [],
   "source": [
    "t, p = stats.ttest_ind(old_version_90p_boostrap_distribution,\n",
    "                        new_version_90p_boostrap_distribution,\n",
    "                        alternative='greater')"
   ]
  },
  {
   "cell_type": "code",
   "execution_count": 815,
   "metadata": {},
   "outputs": [
    {
     "data": {
      "text/plain": [
       "13.292069447962712"
      ]
     },
     "execution_count": 815,
     "metadata": {},
     "output_type": "execute_result"
    }
   ],
   "source": [
    "t"
   ]
  },
  {
   "cell_type": "code",
   "execution_count": 816,
   "metadata": {},
   "outputs": [
    {
     "data": {
      "text/plain": [
       "5.3745482987169623e-39"
      ]
     },
     "execution_count": 816,
     "metadata": {},
     "output_type": "execute_result"
    }
   ],
   "source": [
    "p"
   ]
  },
  {
   "cell_type": "markdown",
   "metadata": {},
   "source": [
    "4. Вывод: отвергаем нулевую гипотезу о равенстве 90 перцентилей времени работы алгоритмов в пользу односторонней альтернативной."
   ]
  },
  {
   "cell_type": "markdown",
   "metadata": {},
   "source": [
    "### 2. Оценка долей"
   ]
  },
  {
   "cell_type": "markdown",
   "metadata": {},
   "source": [
    "#### Одновыборочный критерий с большим числом наблюдений "
   ]
  },
  {
   "cell_type": "markdown",
   "metadata": {},
   "source": [
    "Наблюдаем: $X_1, X_2, …, X_n;$\n",
    "\n",
    "Предполагаем: $X_i$  независимы и имеют распредление Бернулли, количество наблюдений n велико;\n",
    "\n",
    "Проверяемая гипотеза: $H_{0} : p = p_{0} , H_{1} : p <> p_{0} $ \n",
    "\n",
    "**Статистика:** $  \\large Z = \\frac{p - p_{0}} { \\frac{p_0(1 - p_0)}{n}  } $ ~  $N(0,1)$ при верной $H_0$"
   ]
  },
  {
   "cell_type": "code",
   "execution_count": 825,
   "metadata": {},
   "outputs": [
    {
     "data": {
      "text/plain": [
       "(-6.123724356957946, 9.141298408246598e-10)"
      ]
     },
     "execution_count": 825,
     "metadata": {},
     "output_type": "execute_result"
    }
   ],
   "source": [
    "from statsmodels.stats.proportion import proportions_ztest\n",
    "count = np.array(100)\n",
    "nobs = np.array(300)\n",
    "value = 0.5\n",
    "proportions_ztest(count, nobs, value = value)"
   ]
  },
  {
   "cell_type": "markdown",
   "metadata": {},
   "source": [
    "#### Двувыборочный критерий с большим числом наблюдений  для зависимых выборок\n"
   ]
  },
  {
   "cell_type": "markdown",
   "metadata": {},
   "source": [
    "Наблюдаем: $X_1, X_2, …, X_{n_{x}}, Y_1, Y_2, …, Y_{n_{y}};$\n",
    "\n",
    "Предполагаем: $X_i, Y_i$  **зависимы** и имеют распредление Бернулли, количество наблюдений n велико;\n",
    "\n",
    "Проверяемая гипотеза: $H_{0} : p_x = p_y , H_{1} : p_x <> p_y $ \n",
    "\n",
    "**Статистика:** $  \\large Z = \\Large \\frac{f - g}{\\sqrt{f + g - \\frac{(f-g)^2}{n}}} $ ~  $N(0,1)$ при верной $H_0$"
   ]
  },
  {
   "cell_type": "markdown",
   "metadata": {},
   "source": [
    "<img width = '400px' src=\"images/img-2022-01-12-19-05-24.png\">"
   ]
  },
  {
   "cell_type": "markdown",
   "metadata": {},
   "source": [
    "#### Двувыборочный критерий с большим числом наблюдений  для независимых выборок"
   ]
  },
  {
   "cell_type": "markdown",
   "metadata": {},
   "source": [
    "Наблюдаем: $X_1, X_2, …, X_{n_{x}}, Y_1, Y_2, …, Y_{n_{y}};$\n",
    "\n",
    "Предполагаем: $X_i, Y_i$  независимы и имеют распредление Бернулли, количество наблюдений n велико;\n",
    "\n",
    "Проверяемая гипотеза: $H_{0} : p_x = p_y , H_{1} : p_x <> p_y $ \n",
    "\n",
    "**Статистика:** $  \\large Z = \\Large \\frac{p_x-p_y} { \\sqrt{ \\frac{p_x(1-p_x)} {n_x} +  \\frac{p_y(1-p_y)} {n_y} } } $ ~  $N(0,1)$ при верной $H_0$"
   ]
  },
  {
   "cell_type": "code",
   "execution_count": null,
   "metadata": {},
   "outputs": [],
   "source": [
    "from statsmodels.stats.proportion import proportions_ztest\n",
    "count = np.array([100, 400])\n",
    "nobs = np.array([300, 800])\n",
    "proportions_ztest(count, nobs, alternative='smaller')"
   ]
  },
  {
   "cell_type": "markdown",
   "metadata": {},
   "source": [
    "**Задача**"
   ]
  },
  {
   "cell_type": "markdown",
   "metadata": {},
   "source": [
    "Проводилось CX исследование о положительном опыте использования приложения для доставки еды среди 200 клиентов, после этого клиентам выдали промокод одного из сервисов и через месяц среди этих же клиентов провели повторный опрос. Необходимо проверить гипотезу о том, что промокоды увеличивают положительный опыт от использования доставки."
   ]
  },
  {
   "cell_type": "code",
   "execution_count": 835,
   "metadata": {},
   "outputs": [],
   "source": [
    "survey_1 = [0, 0, 0, 0, 0, 0, 1, 0, 0, 1, 0, 0, 1, 1, 0, 0, 1, 0, 1, 1, 0, 1,\n",
    "       1, 1, 1, 0, 0, 1, 1, 1, 0, 0, 0, 1, 0, 0, 1, 0, 1, 0, 0, 1, 1, 0,\n",
    "       0, 0, 1, 1, 0, 0, 1, 1, 1, 1, 0, 0, 1, 1, 0, 1, 0, 0, 1, 0, 0, 0,\n",
    "       1, 0, 1, 1, 0, 1, 1, 1, 1, 0, 1, 1, 0, 0, 1, 1, 1, 1, 0, 1, 0, 1,\n",
    "       1, 0, 0, 1, 1, 0, 0, 1, 1, 1, 1, 0]\n",
    "survey_2 = [0, 0, 0, 1, 0, 0, 1, 1, 1, 0, 0, 1, 1, 1, 1, 0, 0, 0, 1, 1, 0, 0,\n",
    "       1, 1, 0, 0, 1, 1, 0, 0, 0, 1, 0, 1, 0, 1, 0, 1, 1, 0, 1, 1, 0, 1,\n",
    "       0, 1, 1, 1, 0, 1, 0, 1, 0, 0, 0, 1, 0, 0, 0, 1, 0, 1, 1, 1, 1, 1,\n",
    "       0, 1, 1, 1, 0, 0, 1, 0, 0, 0, 0, 0, 1, 1, 1, 1, 0, 0, 0, 1, 1, 0,\n",
    "       1, 1, 0, 0, 1, 0, 1, 1, 0, 0, 0, 0]"
   ]
  },
  {
   "cell_type": "markdown",
   "metadata": {},
   "source": [
    "**Решение задачи**"
   ]
  },
  {
   "cell_type": "markdown",
   "metadata": {},
   "source": [
    "1. Проверяемая гипотеза:  $H_{0} : p_x = p_y , H_{1} : p_x < p_y $ \n",
    "\n",
    "Будем проверять одностороннюю гипотезу.\n",
    "\n",
    "2. Установим уровень значимости критерия α = 5%.\n",
    "\n",
    "3. Будем использовать критерий для долей для зависимых выборок."
   ]
  },
  {
   "cell_type": "code",
   "execution_count": 842,
   "metadata": {},
   "outputs": [
    {
     "data": {
      "text/plain": [
       "(5.927489783638191, 0.9999999984619976)"
      ]
     },
     "execution_count": 842,
     "metadata": {},
     "output_type": "execute_result"
    }
   ],
   "source": [
    "def proportions_diff_z_stat_rel(sample1, sample2):\n",
    "    sample = zip(sample1, sample2)\n",
    "    n = len(sample1)\n",
    "    \n",
    "    f = sum([1 if (x[0] == 1 and x[1] == 0) else 0 for x in sample])\n",
    "    g = sum([1 if (x[0] == 0 and x[1] == 1) else 0 for x in sample])\n",
    "    \n",
    "    return float(f - g) / np.sqrt(f + g - float((f - g)**2) / n )\n",
    "\n",
    "def proportions_diff_z_test(z_stat, alternative = 'two-sided'):\n",
    "    \n",
    "    if alternative == 'two-sided':\n",
    "        return z_stat, 2 * (1 - stats.norm.cdf(np.abs(z_stat)))\n",
    "    \n",
    "    if alternative == 'less':\n",
    "        return z_stat, stats.norm.cdf(z_stat)\n",
    "\n",
    "    if alternative == 'greater':\n",
    "        return z_stat, 1 - stats.norm.cdf(z_stat)\n",
    "    \n",
    "    \n",
    "proportions_diff_z_test(proportions_diff_z_stat_rel(survey_1,survey_2),'less' )"
   ]
  },
  {
   "cell_type": "markdown",
   "metadata": {},
   "source": [
    "4. Вывод: на уровне значимости $\\alpha$ не можем отвергнуть нулевую гипотезу о том, что промокоды влияют на положительный опыт об использовании доставки."
   ]
  },
  {
   "cell_type": "markdown",
   "metadata": {},
   "source": [
    "### Качественный признаки"
   ]
  },
  {
   "cell_type": "markdown",
   "metadata": {},
   "source": [
    "**Качественные признаки** - признаки не связаны между собой никакими арифметическими соотношениями, упорядочить их также нельзя.\n",
    "Единственный способ описания качественных признаков состоит в том, чтобы подсчитать число объектов, имеющих одно и то же значение. Кроме того, можно подсчитать, какая доля от\n",
    "общего числа объектов приходится на то или иное значение."
   ]
  },
  {
   "cell_type": "markdown",
   "metadata": {},
   "source": [
    "#### Критерий Хи-Квадрат"
   ]
  },
  {
   "cell_type": "markdown",
   "metadata": {},
   "source": [
    "**Критерий хи-квадрат** — это одни из наиболее распространенных способов изучения связей между двумя и более категориальными переменными. Проведение этого теста включает расчет статистики хи-квадрат и ее сравнение с распределением хи-квадрат, чтобы найти вероятность данного результата критерия. \n",
    "\n",
    "Есть несколько типов критерия хи-квадрат:\n",
    "- критерий независимости хи-квадрат;\n",
    "- критерий равенства пропорций хи-квадрат;\n",
    "- критерий согласия хи-квадрат.\n"
   ]
  },
  {
   "cell_type": "markdown",
   "metadata": {},
   "source": [
    "Рассмотрим пример расчета критерия независимости хи-квадрат:"
   ]
  },
  {
   "cell_type": "code",
   "execution_count": 6,
   "metadata": {},
   "outputs": [
    {
     "data": {
      "text/html": [
       "<div>\n",
       "<style scoped>\n",
       "    .dataframe tbody tr th:only-of-type {\n",
       "        vertical-align: middle;\n",
       "    }\n",
       "\n",
       "    .dataframe tbody tr th {\n",
       "        vertical-align: top;\n",
       "    }\n",
       "\n",
       "    .dataframe thead th {\n",
       "        text-align: right;\n",
       "    }\n",
       "</style>\n",
       "<table border=\"1\" class=\"dataframe\">\n",
       "  <thead>\n",
       "    <tr style=\"text-align: right;\">\n",
       "      <th></th>\n",
       "      <th>clicked</th>\n",
       "      <th>non_clicked</th>\n",
       "      <th>Total</th>\n",
       "    </tr>\n",
       "  </thead>\n",
       "  <tbody>\n",
       "    <tr>\n",
       "      <th>Баннер_A</th>\n",
       "      <td>100</td>\n",
       "      <td>200</td>\n",
       "      <td>300</td>\n",
       "    </tr>\n",
       "    <tr>\n",
       "      <th>Баннер_B</th>\n",
       "      <td>400</td>\n",
       "      <td>400</td>\n",
       "      <td>800</td>\n",
       "    </tr>\n",
       "    <tr>\n",
       "      <th>Итого</th>\n",
       "      <td>500</td>\n",
       "      <td>600</td>\n",
       "      <td>1100</td>\n",
       "    </tr>\n",
       "  </tbody>\n",
       "</table>\n",
       "</div>"
      ],
      "text/plain": [
       "          clicked  non_clicked  Total\n",
       "Баннер_A      100          200    300\n",
       "Баннер_B      400          400    800\n",
       "Итого         500          600   1100"
      ]
     },
     "execution_count": 6,
     "metadata": {},
     "output_type": "execute_result"
    }
   ],
   "source": [
    "from scipy.stats import chi2_contingency\n",
    "\n",
    "banner_data = pd.DataFrame()\n",
    "banner_data['clicked'] = [100,400,500]\n",
    "banner_data['non_clicked'] = [200, 400,600]\n",
    "banner_data.index = ['Баннер_A', 'Баннер_B','Итого']\n",
    "banner_data['Total'] = banner_data['clicked'] + banner_data['non_clicked']\n",
    "\n",
    "banner_data"
   ]
  },
  {
   "cell_type": "markdown",
   "metadata": {},
   "source": [
    "При работе с критерием хи-квадрат встречается понятие, как таблица ожидаемых значений.\n",
    "\n",
    "Примем нулевую гипотезу H0, что кликабельность по баннерам A и B одинакова, тогда:"
   ]
  },
  {
   "cell_type": "code",
   "execution_count": 8,
   "metadata": {},
   "outputs": [],
   "source": [
    "clicked_total = 500/1100\n",
    "non_clicked_total = 600/1100"
   ]
  },
  {
   "cell_type": "markdown",
   "metadata": {},
   "source": [
    "Если баннера не влияют на кликабельность, то есть поведение клиентов при посещении сайта должно быть схожим с общим."
   ]
  },
  {
   "cell_type": "code",
   "execution_count": 10,
   "metadata": {},
   "outputs": [],
   "source": [
    "banner_A_clicked = clicked_total* 300\n",
    "banner_B_clicked = clicked_total* 800\n",
    "\n",
    "banner_A_non_clicked = non_clicked_total* 300\n",
    "banner_B_non_clicked = non_clicked_total* 800"
   ]
  },
  {
   "cell_type": "code",
   "execution_count": 11,
   "metadata": {},
   "outputs": [
    {
     "data": {
      "text/html": [
       "<div>\n",
       "<style scoped>\n",
       "    .dataframe tbody tr th:only-of-type {\n",
       "        vertical-align: middle;\n",
       "    }\n",
       "\n",
       "    .dataframe tbody tr th {\n",
       "        vertical-align: top;\n",
       "    }\n",
       "\n",
       "    .dataframe thead th {\n",
       "        text-align: right;\n",
       "    }\n",
       "</style>\n",
       "<table border=\"1\" class=\"dataframe\">\n",
       "  <thead>\n",
       "    <tr style=\"text-align: right;\">\n",
       "      <th></th>\n",
       "      <th>clicked</th>\n",
       "      <th>non_clicked</th>\n",
       "      <th>Total</th>\n",
       "    </tr>\n",
       "  </thead>\n",
       "  <tbody>\n",
       "    <tr>\n",
       "      <th>Баннер_A</th>\n",
       "      <td>136.363636</td>\n",
       "      <td>163.636364</td>\n",
       "      <td>300.0</td>\n",
       "    </tr>\n",
       "    <tr>\n",
       "      <th>Баннер_B</th>\n",
       "      <td>363.636364</td>\n",
       "      <td>436.363636</td>\n",
       "      <td>800.0</td>\n",
       "    </tr>\n",
       "    <tr>\n",
       "      <th>Итого</th>\n",
       "      <td>500.000000</td>\n",
       "      <td>600.000000</td>\n",
       "      <td>1100.0</td>\n",
       "    </tr>\n",
       "  </tbody>\n",
       "</table>\n",
       "</div>"
      ],
      "text/plain": [
       "             clicked  non_clicked   Total\n",
       "Баннер_A  136.363636   163.636364   300.0\n",
       "Баннер_B  363.636364   436.363636   800.0\n",
       "Итого     500.000000   600.000000  1100.0"
      ]
     },
     "execution_count": 11,
     "metadata": {},
     "output_type": "execute_result"
    }
   ],
   "source": [
    "banner_data_E = pd.DataFrame()\n",
    "banner_data_E['clicked'] = [banner_A_clicked,banner_B_clicked,500]\n",
    "banner_data_E['non_clicked'] = [banner_A_non_clicked, banner_B_non_clicked,600]\n",
    "banner_data_E.index = ['Баннер_A', 'Баннер_B','Итого']\n",
    "banner_data_E['Total'] = banner_data_E['clicked'] + banner_data_E['non_clicked']\n",
    "banner_data_E"
   ]
  },
  {
   "cell_type": "markdown",
   "metadata": {},
   "source": [
    "$ \\Large \\chi^2  = \\sum {   \\frac{(O - E)^2} {E}  } $ , O  - наблюдаемое значение, E - ожидаемое значение.\n",
    "\n",
    "$ \\Large \\chi^2  = \\sum {   \\frac{|O - E| - \\frac{1} {2}} {E}  } $ (с поправкой Йеитса - только для таблиц 2х2)"
   ]
  },
  {
   "cell_type": "code",
   "execution_count": 7,
   "metadata": {},
   "outputs": [
    {
     "data": {
      "text/plain": [
       "(23.776843750000012,\n",
       " 1.0817608500977008e-06,\n",
       " 1,\n",
       " array([[136.36363636, 163.63636364],\n",
       "        [363.63636364, 436.36363636]]))"
      ]
     },
     "execution_count": 7,
     "metadata": {},
     "output_type": "execute_result"
    }
   ],
   "source": [
    "chi2, p, dof, ex = chi2_contingency(banner_data.iloc[:2,:2])\n",
    "chi2,p,dof,ex"
   ]
  },
  {
   "cell_type": "markdown",
   "metadata": {},
   "source": [
    "#### Точный критерий Фишера"
   ]
  },
  {
   "cell_type": "markdown",
   "metadata": {},
   "source": [
    "В случае малого числа наблюдений для проверки гипотез о долях вместо Z-критерия используется точный критерий Фишера. "
   ]
  },
  {
   "cell_type": "markdown",
   "metadata": {},
   "source": [
    "<img width = '500px' src=\"images/fisher_crit.png\">"
   ]
  },
  {
   "cell_type": "markdown",
   "metadata": {},
   "source": [
    "Он основан на переборе всех возможных вариантов заполнения таблицы сопряженности при данной численности групп."
   ]
  },
  {
   "cell_type": "code",
   "execution_count": 844,
   "metadata": {},
   "outputs": [
    {
     "data": {
      "text/html": [
       "<div>\n",
       "<style scoped>\n",
       "    .dataframe tbody tr th:only-of-type {\n",
       "        vertical-align: middle;\n",
       "    }\n",
       "\n",
       "    .dataframe tbody tr th {\n",
       "        vertical-align: top;\n",
       "    }\n",
       "\n",
       "    .dataframe thead th {\n",
       "        text-align: right;\n",
       "    }\n",
       "</style>\n",
       "<table border=\"1\" class=\"dataframe\">\n",
       "  <thead>\n",
       "    <tr style=\"text-align: right;\">\n",
       "      <th></th>\n",
       "      <th>active</th>\n",
       "      <th>non_active</th>\n",
       "    </tr>\n",
       "  </thead>\n",
       "  <tbody>\n",
       "    <tr>\n",
       "      <th>group_1</th>\n",
       "      <td>8</td>\n",
       "      <td>2</td>\n",
       "    </tr>\n",
       "    <tr>\n",
       "      <th>group_2</th>\n",
       "      <td>1</td>\n",
       "      <td>5</td>\n",
       "    </tr>\n",
       "  </tbody>\n",
       "</table>\n",
       "</div>"
      ],
      "text/plain": [
       "         active  non_active\n",
       "group_1       8           2\n",
       "group_2       1           5"
      ]
     },
     "execution_count": 844,
     "metadata": {},
     "output_type": "execute_result"
    }
   ],
   "source": [
    "df = pd.DataFrame()\n",
    "df['active'] = [8,1]\n",
    "df['non_active'] = [2, 5]\n",
    "df.index = ['group_1', 'group_2']\n",
    "df"
   ]
  },
  {
   "cell_type": "code",
   "execution_count": 845,
   "metadata": {},
   "outputs": [
    {
     "data": {
      "text/plain": [
       "(20.0, 0.03496503496503495)"
      ]
     },
     "execution_count": 845,
     "metadata": {},
     "output_type": "execute_result"
    }
   ],
   "source": [
    "stats.fisher_exact(df)"
   ]
  },
  {
   "cell_type": "markdown",
   "metadata": {},
   "source": [
    "Достоинством метода является соответствие полученного критерия точному значению уровня значимости p."
   ]
  }
 ],
 "metadata": {
  "kernelspec": {
   "display_name": "main",
   "language": "python",
   "name": "main"
  },
  "language_info": {
   "codemirror_mode": {
    "name": "ipython",
    "version": 3
   },
   "file_extension": ".py",
   "mimetype": "text/x-python",
   "name": "python",
   "nbconvert_exporter": "python",
   "pygments_lexer": "ipython3",
   "version": "3.7.11"
  }
 },
 "nbformat": 4,
 "nbformat_minor": 2
}
