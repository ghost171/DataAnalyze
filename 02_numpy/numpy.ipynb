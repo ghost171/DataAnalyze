{
 "cells": [
  {
   "cell_type": "markdown",
   "metadata": {},
   "source": [
    "# Библиотеки для анализа данных. NumPy и SciPy"
   ]
  },
  {
   "cell_type": "code",
   "execution_count": null,
   "metadata": {},
   "outputs": [],
   "source": [
    "# НИКОГДА НЕ ДЕЛАЙТЕ ТАК. ВООБЩЕ НИКОГДА\n",
    "# from numpy import *\n",
    "\n",
    "import numpy as np"
   ]
  },
  {
   "cell_type": "code",
   "execution_count": null,
   "metadata": {},
   "outputs": [],
   "source": [
    "from itertools import chain, zip_longest\n",
    "\n",
    "\n",
    "def print_as_columns(*args, sep='\\t'):\n",
    "    \"\"\"\n",
    "    print arrays as columns\n",
    "    \"\"\"\n",
    "    args = map(repr, args)\n",
    "    args = list(map(lambda s: s.split('\\n'), args))\n",
    "    width = max(map(len, chain.from_iterable(args)))\n",
    "    \n",
    "    fill = lambda s: '{:<{width}s}'.format(s, width=width)\n",
    "    fillvalue = fill('')\n",
    "    \n",
    "    args = map(lambda e: map(fill, e), args)\n",
    "    args = map(sep.join, zip_longest(*args, fillvalue=fillvalue))\n",
    "    print(*args, sep='\\n')"
   ]
  },
  {
   "cell_type": "markdown",
   "metadata": {},
   "source": [
    "## Многомерные массивы в Python\n",
    "\n",
    "Здесь и далее будем считать, что понятия \"многомерные массивы\" и \"матрицы\" эквивалентны."
   ]
  },
  {
   "cell_type": "markdown",
   "metadata": {},
   "source": [
    "Многомерные массивы в Python можно рассмаривать, например, как списки списков:"
   ]
  },
  {
   "cell_type": "code",
   "execution_count": null,
   "metadata": {},
   "outputs": [],
   "source": [
    "a = [[ 0,  1,  2,  3,  4],\n",
    "     [ 5,  6,  7,  8,  9],\n",
    "     [10, 11, 12, 13, 14],\n",
    "     [15, 16, 17, 18, 19]]\n",
    "a"
   ]
  },
  {
   "cell_type": "code",
   "execution_count": null,
   "metadata": {},
   "outputs": [],
   "source": [
    "a[0][2]"
   ]
  },
  {
   "cell_type": "code",
   "execution_count": null,
   "metadata": {},
   "outputs": [],
   "source": [
    "rows, cols = 1_000, 1_000\n",
    "\n",
    "A = [list(range(i * cols, (i + 1) * cols)) for i in range(0, rows)]\n",
    "\n",
    "# show first 5 rows and first 10 cols\n",
    "[row[:10] for row in A[:5]]"
   ]
  },
  {
   "cell_type": "code",
   "execution_count": null,
   "metadata": {},
   "outputs": [],
   "source": [
    "%%timeit B = [[0 for j in range(cols)] for i in range(rows)]\n",
    "\n",
    "# list cycles\n",
    "\n",
    "for i in range(rows):\n",
    "    for j in range(cols):\n",
    "        B[i][j] = 2 * A[i][j]"
   ]
  },
  {
   "cell_type": "code",
   "execution_count": null,
   "metadata": {},
   "outputs": [],
   "source": [
    "%%timeit B = [[0 for j in range(cols)] for i in range(rows)]\n",
    "\n",
    "# list cycles with optimization\n",
    "\n",
    "for i in range(rows):\n",
    "    A_row, B_row = A[i], B[i]\n",
    "    for j in range(cols):\n",
    "        B_row[j] = 2 * A_row[j]"
   ]
  },
  {
   "cell_type": "code",
   "execution_count": null,
   "metadata": {},
   "outputs": [],
   "source": [
    "%%timeit\n",
    "\n",
    "# list generator\n",
    "\n",
    "B = [[2 * e for e in row] for row in A]"
   ]
  },
  {
   "cell_type": "code",
   "execution_count": null,
   "metadata": {
    "scrolled": true
   },
   "outputs": [],
   "source": [
    "%%timeit A_numpy = np.asarray(A)\n",
    "\n",
    "B = 2 * A_numpy"
   ]
  },
  {
   "cell_type": "markdown",
   "metadata": {},
   "source": [
    "Таким образом, главным преимуществом библиотеки `numpy` являтся высокая скорость работы: ускорение почти в 50 раз по сравнению с лучшим вариантом на python.\n",
    "\n",
    "| Реализация              | Время работы |\n",
    "|-------------------------|--------------|\n",
    "| lists cycles            | 131 ms       |\n",
    "| lists cycles (optimize) | 88.7 ms      |\n",
    "| lists generators        | 68.9 ms      |\n",
    "| numpy                   | 1.54 ms      |\n",
    "\n",
    "Самое медленное место в языке – циклы. **Думайте** о количестве операций (потенциальных вызовах функций)."
   ]
  },
  {
   "cell_type": "markdown",
   "metadata": {},
   "source": [
    "## Создание массивов"
   ]
  },
  {
   "cell_type": "markdown",
   "metadata": {},
   "source": [
    "Массив `numpy.ndarray` имеет фиксированные размеры и фиксированный тип данных."
   ]
  },
  {
   "cell_type": "markdown",
   "metadata": {},
   "source": [
    "Вариант 1: создание `numpy.ndarray` заданных форм и характеристик:\n",
    "* `np.zeros` – матрица из нулей;\n",
    "* `np.ones` – матрица из единицы;\n",
    "* `np.eye` – единичная марица;\n",
    "* `np.arange`, `np.linspace` – массивы с дискретным шагом.\n",
    "\n",
    "https://numpy.org/doc/stable/reference/routines.array-creation.html"
   ]
  },
  {
   "cell_type": "code",
   "execution_count": null,
   "metadata": {},
   "outputs": [],
   "source": [
    "np.zeros(5)"
   ]
  },
  {
   "cell_type": "code",
   "execution_count": null,
   "metadata": {},
   "outputs": [],
   "source": [
    "np.zeros((5, ))"
   ]
  },
  {
   "cell_type": "code",
   "execution_count": null,
   "metadata": {},
   "outputs": [],
   "source": [
    "np.zeros((5, 1))"
   ]
  },
  {
   "cell_type": "code",
   "execution_count": null,
   "metadata": {},
   "outputs": [],
   "source": [
    "# похоже на range, но все числа хранятся в памяти\n",
    "\n",
    "np.arange(10)"
   ]
  },
  {
   "cell_type": "code",
   "execution_count": null,
   "metadata": {},
   "outputs": [],
   "source": [
    "# а еще умеет ходить с дробным шагом\n",
    "\n",
    "np.arange(2, 8, 0.5)"
   ]
  },
  {
   "cell_type": "code",
   "execution_count": null,
   "metadata": {},
   "outputs": [],
   "source": [
    "# разбивает отрезок на num - 1 отрезков\n",
    "\n",
    "np.linspace(0, 1, 5)"
   ]
  },
  {
   "cell_type": "markdown",
   "metadata": {},
   "source": [
    "Вариант 2: создание из python объектов"
   ]
  },
  {
   "cell_type": "code",
   "execution_count": null,
   "metadata": {},
   "outputs": [],
   "source": [
    "a = [[ 0,  1,  2,  3,  4],\n",
    "     [ 5,  6,  7,  8,  9],\n",
    "     [10, 11, 12, 13, 14],\n",
    "     [15, 16, 17, 18, 19]]\n",
    "\n",
    "a = np.asarray(a, dtype=int)\n",
    "a"
   ]
  },
  {
   "cell_type": "markdown",
   "metadata": {},
   "source": [
    "Есть и обратная операция."
   ]
  },
  {
   "cell_type": "code",
   "execution_count": null,
   "metadata": {},
   "outputs": [],
   "source": [
    "a = a.tolist()\n",
    "print(type(a))\n",
    "a"
   ]
  },
  {
   "cell_type": "markdown",
   "metadata": {},
   "source": [
    "### Важное замечание о скорости работы"
   ]
  },
  {
   "cell_type": "code",
   "execution_count": null,
   "metadata": {},
   "outputs": [],
   "source": [
    "%%timeit A_numpy = np.asarray(A)\n",
    "\n",
    "B = 2 * A_numpy"
   ]
  },
  {
   "cell_type": "code",
   "execution_count": null,
   "metadata": {},
   "outputs": [],
   "source": [
    "%%timeit\n",
    "\n",
    "A_numpy = np.asarray(A)\n",
    "B = 2 * A_numpy"
   ]
  },
  {
   "cell_type": "code",
   "execution_count": null,
   "metadata": {},
   "outputs": [],
   "source": [
    "%%timeit\n",
    "\n",
    "# list generator\n",
    "\n",
    "B = [[2 * e for e in row] for row in A]"
   ]
  },
  {
   "cell_type": "markdown",
   "metadata": {},
   "source": [
    "## Поэлементные операции со скалярами"
   ]
  },
  {
   "cell_type": "code",
   "execution_count": null,
   "metadata": {},
   "outputs": [],
   "source": [
    "a = [[ 0,  1,  2,  3,  4],\n",
    "     [ 5,  6,  7,  8,  9],\n",
    "     [10, 11, 12, 13, 14],\n",
    "     [15, 16, 17, 18, 19]]\n",
    "\n",
    "a = np.asarray(a, dtype=int)\n",
    "a"
   ]
  },
  {
   "cell_type": "markdown",
   "metadata": {},
   "source": [
    "`numpy.ndarray` поддерживает арифметические поэлементые операции:\n",
    "\n",
    "`c = op(a, sc)` $\\Longleftrightarrow$ `c[i,j] = op(a[i,j], sc)`"
   ]
  },
  {
   "cell_type": "code",
   "execution_count": null,
   "metadata": {},
   "outputs": [],
   "source": [
    "a + 10   # np.add"
   ]
  },
  {
   "cell_type": "code",
   "execution_count": null,
   "metadata": {},
   "outputs": [],
   "source": [
    "a * 10"
   ]
  },
  {
   "cell_type": "code",
   "execution_count": null,
   "metadata": {},
   "outputs": [],
   "source": [
    "a / 10"
   ]
  },
  {
   "cell_type": "code",
   "execution_count": null,
   "metadata": {},
   "outputs": [],
   "source": [
    "a // 10"
   ]
  },
  {
   "cell_type": "markdown",
   "metadata": {},
   "source": [
    "Есть и поддержка более сложных математических функций."
   ]
  },
  {
   "cell_type": "code",
   "execution_count": null,
   "metadata": {},
   "outputs": [],
   "source": [
    "a ** 0.5  # same as np.pow(a, 2)"
   ]
  },
  {
   "cell_type": "code",
   "execution_count": null,
   "metadata": {},
   "outputs": [],
   "source": [
    "np.sqrt(a)"
   ]
  },
  {
   "cell_type": "code",
   "execution_count": null,
   "metadata": {},
   "outputs": [],
   "source": [
    "np.sin(a)"
   ]
  },
  {
   "cell_type": "markdown",
   "metadata": {},
   "source": [
    "И поддержка логических операций."
   ]
  },
  {
   "cell_type": "code",
   "execution_count": null,
   "metadata": {},
   "outputs": [],
   "source": [
    "a >= 10"
   ]
  },
  {
   "cell_type": "markdown",
   "metadata": {},
   "source": [
    "## Устройство массивов, их размерность и размеры"
   ]
  },
  {
   "cell_type": "markdown",
   "metadata": {},
   "source": [
    "<img src=\"files/data.png\" width=\"450px\">"
   ]
  },
  {
   "cell_type": "code",
   "execution_count": null,
   "metadata": {},
   "outputs": [],
   "source": [
    "a = np.array([[1, 2, 3, 4, 5],\n",
    "              [6, 7, 8, 9, 0]], \n",
    "             dtype=float)\n",
    "a"
   ]
  },
  {
   "cell_type": "markdown",
   "metadata": {},
   "source": [
    "Массивы `numpy.ndarray` в основе себя используют обычные массивы фиксированного размера (атрибут `data`). \n",
    "\n",
    "Многомерные массивы хранятся как один большой последовательный блок памяти."
   ]
  },
  {
   "cell_type": "code",
   "execution_count": null,
   "metadata": {},
   "outputs": [],
   "source": [
    "a.data"
   ]
  },
  {
   "cell_type": "markdown",
   "metadata": {},
   "source": [
    "У `numpy.ndarray` есть атрибут `dtype`, который содержит информацию о типе данных, хранимых в массиве."
   ]
  },
  {
   "cell_type": "code",
   "execution_count": null,
   "metadata": {},
   "outputs": [],
   "source": [
    "a.dtype"
   ]
  },
  {
   "cell_type": "code",
   "execution_count": null,
   "metadata": {},
   "outputs": [],
   "source": [
    "a.dtype.itemsize  # sizeof(float64)"
   ]
  },
  {
   "cell_type": "markdown",
   "metadata": {},
   "source": [
    "Поменять тип массива можно с помощью метода `astype`, что очевидно приведет копированию данных."
   ]
  },
  {
   "cell_type": "code",
   "execution_count": null,
   "metadata": {},
   "outputs": [],
   "source": [
    "a.astype(int).dtype"
   ]
  },
  {
   "cell_type": "code",
   "execution_count": null,
   "metadata": {},
   "outputs": [],
   "source": [
    "a.astype(np.uint8).dtype"
   ]
  },
  {
   "cell_type": "markdown",
   "metadata": {},
   "source": [
    "У `numpy.ndarray` есть атрибут `shape` – размер массива."
   ]
  },
  {
   "cell_type": "code",
   "execution_count": null,
   "metadata": {},
   "outputs": [],
   "source": [
    "a.shape"
   ]
  },
  {
   "cell_type": "markdown",
   "metadata": {},
   "source": [
    "Для изменения размера массива используется метод `reshape`. Метод возвращает новый объект, который имеет тот же атрибут `data`, что и исходный массив. Т.е. копирования данных **НЕ происходит**."
   ]
  },
  {
   "cell_type": "code",
   "execution_count": null,
   "metadata": {},
   "outputs": [],
   "source": [
    "a.reshape(5, 2)"
   ]
  },
  {
   "cell_type": "code",
   "execution_count": null,
   "metadata": {},
   "outputs": [],
   "source": [
    "# размеры должны быть корректными\n",
    "\n",
    "a.reshape(5, 3)"
   ]
  },
  {
   "cell_type": "code",
   "execution_count": null,
   "metadata": {},
   "outputs": [],
   "source": [
    "# -1 говорит о том, что длина размерности может быть вычислена автоматически\n",
    "\n",
    "a.reshape(-1, 2)"
   ]
  },
  {
   "cell_type": "code",
   "execution_count": null,
   "metadata": {},
   "outputs": [],
   "source": [
    "a.ravel()  # same as a.reshape(-1)"
   ]
  },
  {
   "cell_type": "code",
   "execution_count": null,
   "metadata": {},
   "outputs": [],
   "source": [
    "a.flatten()   # same as a.ravel() and copy"
   ]
  },
  {
   "cell_type": "markdown",
   "metadata": {},
   "source": [
    "Еще раз подчеркнем, что копирования данных **не происходит**!"
   ]
  },
  {
   "cell_type": "code",
   "execution_count": null,
   "metadata": {},
   "outputs": [],
   "source": [
    "a"
   ]
  },
  {
   "cell_type": "code",
   "execution_count": null,
   "metadata": {},
   "outputs": [],
   "source": [
    "b = a.reshape(-1, 2)\n",
    "b"
   ]
  },
  {
   "cell_type": "code",
   "execution_count": null,
   "metadata": {},
   "outputs": [],
   "source": [
    "a[-1, -1] = 10\n",
    "a"
   ]
  },
  {
   "cell_type": "code",
   "execution_count": null,
   "metadata": {
    "scrolled": true,
    "tags": []
   },
   "outputs": [],
   "source": [
    "b"
   ]
  },
  {
   "cell_type": "markdown",
   "metadata": {},
   "source": [
    "Другой способ в этом убедиться – получить адрес памяти:\n",
    "\n",
    "https://numpy.org/doc/stable/reference/generated/numpy.ndarray.ctypes.html"
   ]
  },
  {
   "cell_type": "code",
   "execution_count": null,
   "metadata": {},
   "outputs": [],
   "source": [
    "a.ctypes.data, b.ctypes.data, a.ctypes.data == b.ctypes.data"
   ]
  },
  {
   "cell_type": "code",
   "execution_count": null,
   "metadata": {},
   "outputs": [],
   "source": [
    "a = np.arange(2 * 3 * 4).reshape(-1, 3, 4)\n",
    "a"
   ]
  },
  {
   "cell_type": "code",
   "execution_count": null,
   "metadata": {},
   "outputs": [],
   "source": [
    "a.shape"
   ]
  },
  {
   "cell_type": "markdown",
   "metadata": {},
   "source": [
    "У массивов `numpy.ndarray` есть операция транспонирования. Она тоже **НЕ приводит** к копированию данных. "
   ]
  },
  {
   "cell_type": "code",
   "execution_count": null,
   "metadata": {},
   "outputs": [],
   "source": [
    "a.T"
   ]
  },
  {
   "cell_type": "code",
   "execution_count": null,
   "metadata": {},
   "outputs": [],
   "source": [
    "a.transpose()"
   ]
  },
  {
   "cell_type": "markdown",
   "metadata": {},
   "source": [
    "Фиктивная размерность – размерность длины 1. Фиктивная размерность нужна для того, чтобы совершать матричные операции, например, умножение вектора на матрицу."
   ]
  },
  {
   "cell_type": "code",
   "execution_count": null,
   "metadata": {},
   "outputs": [],
   "source": [
    "a = a.ravel()\n",
    "a"
   ]
  },
  {
   "cell_type": "code",
   "execution_count": null,
   "metadata": {},
   "outputs": [],
   "source": [
    "a.shape"
   ]
  },
  {
   "cell_type": "code",
   "execution_count": null,
   "metadata": {},
   "outputs": [],
   "source": [
    "b = a[np.newaxis, :]  # same as a.reshape(1, -1)\n",
    "b"
   ]
  },
  {
   "cell_type": "code",
   "execution_count": null,
   "metadata": {},
   "outputs": [],
   "source": [
    "b.shape"
   ]
  },
  {
   "cell_type": "code",
   "execution_count": null,
   "metadata": {},
   "outputs": [],
   "source": [
    "b = a[:, np.newaxis]  # same as a.reshape(-1, 1)\n",
    "b"
   ]
  },
  {
   "cell_type": "code",
   "execution_count": null,
   "metadata": {},
   "outputs": [],
   "source": [
    "b.shape"
   ]
  },
  {
   "cell_type": "markdown",
   "metadata": {},
   "source": [
    "### 🧐 Интересный факт про размерность массивов и копирование\n",
    "\n",
    "У `numpy.ndarray` есть атрибут `strides`, который регулирует порядок обхода массива (атрибут `data`). Этот атрибут очень важен для многомерных массивов.\n",
    "\n",
    "Первое число показывает, сколько байт нужно прочитать, чтобы переместиться на следующую строку и остаться в том же столбце.\n",
    "\n",
    "Второе число показывает, сколько байт нужно прочитать, чтобы переместиться на следующий столбец и остаться в той же строке."
   ]
  },
  {
   "cell_type": "code",
   "execution_count": null,
   "metadata": {},
   "outputs": [],
   "source": [
    "c = np.arange(12).reshape(3, -1)\n",
    "c"
   ]
  },
  {
   "cell_type": "code",
   "execution_count": null,
   "metadata": {},
   "outputs": [],
   "source": [
    "c.shape"
   ]
  },
  {
   "cell_type": "code",
   "execution_count": null,
   "metadata": {},
   "outputs": [],
   "source": [
    "c.dtype.itemsize"
   ]
  },
  {
   "cell_type": "code",
   "execution_count": null,
   "metadata": {},
   "outputs": [],
   "source": [
    "assert c.strides == (c.shape[1] * c.dtype.itemsize, c.dtype.itemsize,)\n",
    "\n",
    "# для перехода к следующей строке нужно считать 4 * 8 байт\n",
    "# для перехода к следующему стобцу нужно прочитать 8 байт\n",
    "\n",
    "c.strides  # (4 * 8, 8)"
   ]
  },
  {
   "cell_type": "markdown",
   "metadata": {},
   "source": [
    "Поменяем размерность массива и увидим, как меняется атрибут `strides`."
   ]
  },
  {
   "cell_type": "code",
   "execution_count": null,
   "metadata": {},
   "outputs": [],
   "source": [
    "c = c.reshape(-1, 2)\n",
    "c"
   ]
  },
  {
   "cell_type": "code",
   "execution_count": null,
   "metadata": {},
   "outputs": [],
   "source": [
    "c.dtype"
   ]
  },
  {
   "cell_type": "code",
   "execution_count": null,
   "metadata": {},
   "outputs": [],
   "source": [
    "c.shape"
   ]
  },
  {
   "cell_type": "code",
   "execution_count": null,
   "metadata": {},
   "outputs": [],
   "source": [
    "assert c.strides == (c.shape[1] * c.dtype.itemsize, c.dtype.itemsize,)\n",
    "\n",
    "# для перехода к следующей строке нужно считать 2 * 8 байт\n",
    "# для перехода к следующему стобцу нужно прочитать 8 байт\n",
    "\n",
    "c.strides  # (2 * 8, 8)"
   ]
  },
  {
   "cell_type": "markdown",
   "metadata": {},
   "source": [
    "Операция транспонирования, как уже говорилось выше не приводит к копированию данных. Она меняет атрибут `strides`, который регулирет порядок обхода массива.\n",
    "\n",
    "Напомним, что `c.data = [ 0,  1,  2,  3,  4,  5,  6,  7,  8,  9, 10, 11]`."
   ]
  },
  {
   "cell_type": "code",
   "execution_count": null,
   "metadata": {},
   "outputs": [],
   "source": [
    "c = c.T\n",
    "c"
   ]
  },
  {
   "cell_type": "code",
   "execution_count": null,
   "metadata": {},
   "outputs": [],
   "source": [
    "c.shape"
   ]
  },
  {
   "cell_type": "code",
   "execution_count": null,
   "metadata": {},
   "outputs": [],
   "source": [
    "assert c.strides == (c.dtype.itemsize, c.shape[0] * c.dtype.itemsize, )\n",
    "\n",
    "# для перехода к следующей строке нужно считать 8 байт\n",
    "# для перехода к следующему столбцу нужно прочитать 2 * 8 байт\n",
    "\n",
    "c.strides  # (8, 2 * 8)"
   ]
  },
  {
   "cell_type": "code",
   "execution_count": null,
   "metadata": {},
   "outputs": [],
   "source": [
    "a"
   ]
  },
  {
   "cell_type": "code",
   "execution_count": null,
   "metadata": {},
   "outputs": [],
   "source": [
    "b = c.reshape(-1, 2)\n",
    "b"
   ]
  },
  {
   "cell_type": "code",
   "execution_count": null,
   "metadata": {},
   "outputs": [],
   "source": [
    "id(c), id(b)"
   ]
  },
  {
   "cell_type": "markdown",
   "metadata": {},
   "source": [
    "### Копия и представление (view)"
   ]
  },
  {
   "cell_type": "markdown",
   "metadata": {},
   "source": [
    "view – новый объект, ссылающийся на те же данные, что и исходный массив.\n",
    "\n",
    "Существует несколько вариантов создания массивов с помощью функций `np.array` и `np.asarray`.\n",
    "\n",
    "`np.array` создает копию массива всегда.\n",
    "\n",
    "`np.asarray` создает копию при необходимости."
   ]
  },
  {
   "cell_type": "markdown",
   "metadata": {},
   "source": [
    "1. При создании массива из списка всегда **создается копия**."
   ]
  },
  {
   "cell_type": "code",
   "execution_count": null,
   "metadata": {},
   "outputs": [],
   "source": [
    "print(str(b))"
   ]
  },
  {
   "cell_type": "code",
   "execution_count": null,
   "metadata": {},
   "outputs": [],
   "source": [
    "print(repr(b))"
   ]
  },
  {
   "cell_type": "code",
   "execution_count": null,
   "metadata": {},
   "outputs": [],
   "source": [
    "a = [1, 2, 3, 4, 5, 6]\n",
    "b = np.array(a)\n",
    "c = np.asarray(a)\n",
    "\n",
    "print(\"b =\", repr(b))\n",
    "print(\"c =\", repr(c))"
   ]
  },
  {
   "cell_type": "code",
   "execution_count": null,
   "metadata": {},
   "outputs": [],
   "source": [
    "a[0] = 0\n",
    "\n",
    "print(\"b =\", repr(b))\n",
    "print(\"c =\", repr(c))"
   ]
  },
  {
   "cell_type": "markdown",
   "metadata": {},
   "source": [
    "2. При создании массива из другого массива **копия не создается**."
   ]
  },
  {
   "cell_type": "code",
   "execution_count": null,
   "metadata": {},
   "outputs": [],
   "source": [
    "a = np.asarray([1, 2, 3, 4, 5, 6])\n",
    "b = np.array(a)\n",
    "c = np.asarray(a)\n",
    "\n",
    "print(\"b =\", repr(b))\n",
    "print(\"c =\", repr(c))"
   ]
  },
  {
   "cell_type": "code",
   "execution_count": null,
   "metadata": {},
   "outputs": [],
   "source": [
    "a[0] = 0\n",
    "\n",
    "print(\"b =\", repr(b))\n",
    "print(\"c =\", repr(c))"
   ]
  },
  {
   "cell_type": "markdown",
   "metadata": {},
   "source": [
    "3. При создании массива из другого массива и смены типа данных **создается копия**."
   ]
  },
  {
   "cell_type": "code",
   "execution_count": null,
   "metadata": {},
   "outputs": [],
   "source": [
    "a = np.asarray([1, 2, 3, 4, 5, 6], dtype=np.int8)\n",
    "b = np.array(a, dtype=np.uint8)\n",
    "c = np.asarray(a, dtype=np.uint8)\n",
    "\n",
    "print(\"b =\", repr(b))\n",
    "print(\"c =\", repr(c))"
   ]
  },
  {
   "cell_type": "code",
   "execution_count": null,
   "metadata": {},
   "outputs": [],
   "source": [
    "a[0] = 0\n",
    "\n",
    "print(\"b =\", repr(b))\n",
    "print(\"c =\", repr(c))"
   ]
  },
  {
   "cell_type": "markdown",
   "metadata": {},
   "source": [
    "`np.asarray` полезен тогда, когда вы хотите все время работать с `np.ndarray`, но хотите создавать копию данных только в тех случаях, когда это необходимо."
   ]
  },
  {
   "cell_type": "code",
   "execution_count": null,
   "metadata": {},
   "outputs": [],
   "source": [
    "def multiply_by(data, by):\n",
    "    data = np.asarray(data)\n",
    "    return data * by"
   ]
  },
  {
   "cell_type": "code",
   "execution_count": null,
   "metadata": {},
   "outputs": [],
   "source": [
    "multiply_by(np.arange(4), 2)"
   ]
  },
  {
   "cell_type": "code",
   "execution_count": null,
   "metadata": {},
   "outputs": [],
   "source": [
    "multiply_by(range(4), 2)"
   ]
  },
  {
   "cell_type": "code",
   "execution_count": null,
   "metadata": {},
   "outputs": [],
   "source": [
    "multiply_by([0, 1, 2, 3], 2)"
   ]
  },
  {
   "cell_type": "markdown",
   "metadata": {},
   "source": [
    "Некоторые операции сами по себе создают копии, а некоторые view.\n",
    "\n",
    "https://www.jessicayung.com/numpy-views-vs-copies-avoiding-costly-mistakes/"
   ]
  },
  {
   "cell_type": "markdown",
   "metadata": {},
   "source": [
    "## Поэлементные бинарные операции"
   ]
  },
  {
   "cell_type": "code",
   "execution_count": null,
   "metadata": {},
   "outputs": [],
   "source": [
    "a = [[1, 0, 0, 0, 1], [1, 0, 1, 0, 1]]\n",
    "a = np.asarray(a)\n",
    "a"
   ]
  },
  {
   "cell_type": "code",
   "execution_count": null,
   "metadata": {},
   "outputs": [],
   "source": [
    "b = np.arange(1, 11).reshape(-1, 5)\n",
    "b"
   ]
  },
  {
   "cell_type": "markdown",
   "metadata": {},
   "source": [
    "Для начала рассмотрим массивы одинаковых размеров.\n",
    "\n",
    "`numpy.ndarray` поддерживает арифметические поэлементые операции над двумя массивами:\n",
    "\n",
    "`c = op(a, b)` $\\Longleftrightarrow$ `c[i,j] = op(a[i,j], b[i,j])`"
   ]
  },
  {
   "cell_type": "code",
   "execution_count": null,
   "metadata": {},
   "outputs": [],
   "source": [
    "a + b   # same as np.add"
   ]
  },
  {
   "cell_type": "code",
   "execution_count": null,
   "metadata": {},
   "outputs": [],
   "source": [
    "a * b   # same as np.multiply"
   ]
  },
  {
   "cell_type": "markdown",
   "metadata": {},
   "source": [
    "И некоторые более сложные функции..."
   ]
  },
  {
   "cell_type": "code",
   "execution_count": null,
   "metadata": {},
   "outputs": [],
   "source": [
    "(b <= 5).astype(int)"
   ]
  },
  {
   "cell_type": "code",
   "execution_count": null,
   "metadata": {},
   "outputs": [],
   "source": [
    "np.fmax(a, (b <= 5).astype(int))   # element-wise maximum"
   ]
  },
  {
   "cell_type": "markdown",
   "metadata": {},
   "source": [
    "Есть и поддержка булевых операций."
   ]
  },
  {
   "cell_type": "code",
   "execution_count": null,
   "metadata": {},
   "outputs": [],
   "source": [
    "a == (b <= 5).astype(int)"
   ]
  },
  {
   "cell_type": "markdown",
   "metadata": {},
   "source": [
    "Есть поддержка матричного умножения."
   ]
  },
  {
   "cell_type": "code",
   "execution_count": null,
   "metadata": {},
   "outputs": [],
   "source": [
    "a @ b.T  # same as np.matmul(a, b.T)"
   ]
  },
  {
   "cell_type": "code",
   "execution_count": null,
   "metadata": {},
   "outputs": [],
   "source": [
    "np.dot(a, b.T)  # same as a.dot(b.T)"
   ]
  },
  {
   "cell_type": "markdown",
   "metadata": {},
   "source": [
    "Что еще умеют бинарные `ufunc`:\n",
    "\n",
    "https://jakevdp.github.io/PythonDataScienceHandbook/02.03-computation-on-arrays-ufuncs.html#Advanced-Ufunc-Features"
   ]
  },
  {
   "cell_type": "markdown",
   "metadata": {},
   "source": [
    "## Приведение размерностей (Broadcasting)\n",
    "\n",
    "Теперь рассмотрим массивы с разными размерностями.\n",
    "\n",
    "Пусть, нам дана матрица $X$ размером $5 \\times 10$ и вектор $y$ длины 10. Пусть, мы хотим прибавить вектор к каждой строке матрицы. "
   ]
  },
  {
   "cell_type": "code",
   "execution_count": null,
   "metadata": {},
   "outputs": [],
   "source": [
    "x = np.arange(50).reshape(-1, 10)\n",
    "x"
   ]
  },
  {
   "cell_type": "code",
   "execution_count": null,
   "metadata": {},
   "outputs": [],
   "source": [
    "y = np.arange(10) * 10\n",
    "y"
   ]
  },
  {
   "cell_type": "code",
   "execution_count": null,
   "metadata": {},
   "outputs": [],
   "source": [
    "x + y"
   ]
  },
  {
   "cell_type": "markdown",
   "metadata": {},
   "source": [
    "Наивный способ работает верно.\n",
    "\n",
    "Поменяем условие, пусть, $y$ – вектор длины 5. Пусть, мы хотим прибавить вектор к каждому столбцу матрицы."
   ]
  },
  {
   "cell_type": "code",
   "execution_count": null,
   "metadata": {},
   "outputs": [],
   "source": [
    "y = np.arange(5) * 10\n",
    "y"
   ]
  },
  {
   "cell_type": "code",
   "execution_count": null,
   "metadata": {},
   "outputs": [],
   "source": [
    "x + y"
   ]
  },
  {
   "cell_type": "code",
   "execution_count": null,
   "metadata": {},
   "outputs": [],
   "source": [
    "y.reshape(-1, 1)"
   ]
  },
  {
   "cell_type": "markdown",
   "metadata": {},
   "source": [
    "Наивный способ не работает. Попробуем воспользоваться фиктивной размерностью."
   ]
  },
  {
   "cell_type": "code",
   "execution_count": null,
   "metadata": {},
   "outputs": [],
   "source": [
    "x + y[:, np.newaxis]  # same as x + y.reshape(-1, 1)"
   ]
  },
  {
   "cell_type": "code",
   "execution_count": null,
   "metadata": {},
   "outputs": [],
   "source": [
    "a = np.arange(10)\n",
    "a.shape"
   ]
  },
  {
   "cell_type": "code",
   "execution_count": null,
   "metadata": {},
   "outputs": [],
   "source": [
    "a.reshape(-1, 1)"
   ]
  },
  {
   "cell_type": "code",
   "execution_count": null,
   "metadata": {},
   "outputs": [],
   "source": [
    "a.reshape(-1, 1).shape"
   ]
  },
  {
   "cell_type": "markdown",
   "metadata": {},
   "source": [
    "**Правило приведения размерностей (broadcasting):**\n",
    "\n",
    "1. Предположим, что `a.shape = (a_1, a_2, ..., a_n)` и `b.shape = (b_1, b_2, ..., b_n)`. Над `a` и `b` можно произвести поэлементую бинарную операцию, если $\\forall \\; i \\in \\overline{1..n}$ выполнено хотя бы одно из условий:\n",
    "    * `a_i == b_i`;\n",
    "    * `a_i == 1`;\n",
    "    * `b_i == 1`.\n",
    "\n",
    "\n",
    "2. Если число размерностей не совпадают, то к массиву меньшей размерности добавляются ведущие фиктивные размерности. \n",
    "\n",
    "Документация: https://docs.scipy.org/doc/numpy/user/basics.broadcasting.html\n",
    "\n",
    "Проверить явное приведение размерности можно через функции `np.broadcast_to` и `np.broadcast_arrays`."
   ]
  },
  {
   "cell_type": "markdown",
   "metadata": {},
   "source": [
    "<font color='red'>**Задача.** Какие из этих команд будут выполняться с ошибкой?</font>\n",
    "\n",
    "1. `np.ones((2, 3)) + np.ones(3)`\n",
    "\n",
    "2. `np.ones(2) + np.ones((2, 3))`\n",
    "\n",
    "3. `np.zeros((4, 3)) + np.ones((4, 1))`\n",
    "\n",
    "4. `np.zeros((3, 4)) + np.ones((4, 3))`\n",
    "\n",
    "5. `np.zeros((1, 3, 5)) + np.zeros((1, 3))`\n",
    "\n",
    "6. `np.zeros((5, 3, 1)) + np.zeros((1, 5))`"
   ]
  },
  {
   "cell_type": "markdown",
   "metadata": {},
   "source": [
    "**Как происходит бинарная операция?**"
   ]
  },
  {
   "cell_type": "markdown",
   "metadata": {},
   "source": [
    "1. Одинаковые размерности."
   ]
  },
  {
   "cell_type": "code",
   "execution_count": null,
   "metadata": {},
   "outputs": [],
   "source": [
    "np.random.seed(36)\n",
    "\n",
    "a = np.arange(20).reshape(4, -1)\n",
    "b = 10 * np.random.randint(-1, 2, size=(4, 5))\n",
    "\n",
    "print_as_columns(a, b)"
   ]
  },
  {
   "cell_type": "code",
   "execution_count": null,
   "metadata": {},
   "outputs": [],
   "source": [
    "a * b"
   ]
  },
  {
   "cell_type": "markdown",
   "metadata": {},
   "source": [
    "2. Одинаковое число размерностей, но среди размерностей есть фикивные."
   ]
  },
  {
   "cell_type": "code",
   "execution_count": null,
   "metadata": {},
   "outputs": [],
   "source": [
    "np.random.seed(36)\n",
    "\n",
    "a = np.arange(20).reshape(4, -1)\n",
    "b = 10 * np.random.randint(-1, 2, size=(4, 1))\n",
    "\n",
    "print_as_columns(a, b)"
   ]
  },
  {
   "cell_type": "code",
   "execution_count": null,
   "metadata": {},
   "outputs": [],
   "source": [
    "c = np.repeat(b, a.shape[1], axis=1)\n",
    "\n",
    "print_as_columns(a, c)"
   ]
  },
  {
   "cell_type": "code",
   "execution_count": null,
   "metadata": {},
   "outputs": [],
   "source": [
    "a * c"
   ]
  },
  {
   "cell_type": "code",
   "execution_count": null,
   "metadata": {},
   "outputs": [],
   "source": [
    "np.allclose(a * c, a * b)"
   ]
  },
  {
   "cell_type": "markdown",
   "metadata": {},
   "source": [
    "3. Разное число размерностей."
   ]
  },
  {
   "cell_type": "code",
   "execution_count": null,
   "metadata": {},
   "outputs": [],
   "source": [
    "np.random.seed(36)\n",
    "\n",
    "a = np.arange(20).reshape(4, -1)\n",
    "b = 10 * np.random.randint(-1, 2, size=(5, ))\n",
    "\n",
    "print_as_columns(a, b)\n",
    "\n",
    "a.shape, b.shape"
   ]
  },
  {
   "cell_type": "code",
   "execution_count": null,
   "metadata": {},
   "outputs": [],
   "source": [
    "c = b[np.newaxis, :]\n",
    "\n",
    "print_as_columns(a, c)"
   ]
  },
  {
   "cell_type": "code",
   "execution_count": null,
   "metadata": {},
   "outputs": [],
   "source": [
    "d = np.repeat(c, a.shape[0], axis=0)\n",
    "\n",
    "print_as_columns(a, d)"
   ]
  },
  {
   "cell_type": "code",
   "execution_count": null,
   "metadata": {},
   "outputs": [],
   "source": [
    "a * d"
   ]
  },
  {
   "cell_type": "code",
   "execution_count": null,
   "metadata": {},
   "outputs": [],
   "source": [
    "np.allclose(a * d, a * b)"
   ]
  },
  {
   "cell_type": "markdown",
   "metadata": {},
   "source": [
    "## Операции над булевыми массивами"
   ]
  },
  {
   "cell_type": "code",
   "execution_count": null,
   "metadata": {},
   "outputs": [],
   "source": [
    "a = np.asarray([ True,  True, False, False,  True])\n",
    "b = np.asarray([ True, False, False,  True, False])\n",
    "c = np.asarray([False,  False, True,  True, False])\n",
    "\n",
    "a, b"
   ]
  },
  {
   "cell_type": "code",
   "execution_count": null,
   "metadata": {},
   "outputs": [],
   "source": [
    "np.logical_not(a)"
   ]
  },
  {
   "cell_type": "code",
   "execution_count": null,
   "metadata": {},
   "outputs": [],
   "source": [
    "~a   # same as np.bitwise_not(a)"
   ]
  },
  {
   "cell_type": "code",
   "execution_count": null,
   "metadata": {},
   "outputs": [],
   "source": [
    "np.logical_and(a, b), np.logical_or(a, b), np.logical_xor(a, b)"
   ]
  },
  {
   "cell_type": "code",
   "execution_count": null,
   "metadata": {},
   "outputs": [],
   "source": [
    "(\n",
    "    a & b,  # same as np.bitwise_and(a, b)\n",
    "    a | b,  # same as np.bitwise_or(a, b)\n",
    "    a ^ b,  # same as np.bitwise_xor(a, b)\n",
    ")"
   ]
  },
  {
   "cell_type": "code",
   "execution_count": null,
   "metadata": {},
   "outputs": [],
   "source": [
    "a & (b | c)"
   ]
  },
  {
   "cell_type": "markdown",
   "metadata": {},
   "source": [
    "## Агрегирующие операции"
   ]
  },
  {
   "cell_type": "code",
   "execution_count": null,
   "metadata": {},
   "outputs": [],
   "source": [
    "np.random.seed(5555)\n",
    "\n",
    "a = np.random.randint(0, 10, size=(3, 7))\n",
    "a[1, 3] = 15\n",
    "\n",
    "a"
   ]
  },
  {
   "cell_type": "markdown",
   "metadata": {},
   "source": [
    "Для `numpy.ndarray` есть поддержка аггрегирующих операций: `min`, `max`, `argmin`, `argmax`, `sum`, `prod`, `mean`, `std`, `var` и др."
   ]
  },
  {
   "cell_type": "code",
   "execution_count": null,
   "metadata": {},
   "outputs": [],
   "source": [
    "a.min(), a.max(), a.sum(), a.prod(), a.mean()"
   ]
  },
  {
   "cell_type": "code",
   "execution_count": null,
   "metadata": {},
   "outputs": [],
   "source": [
    "np.min(a), np.max(a), np.sum(a), np.prod(a), np.mean(a)"
   ]
  },
  {
   "cell_type": "markdown",
   "metadata": {},
   "source": [
    "<img src=\"files/axis.png\" width=\"350px\">\n",
    "\n",
    "`a.agg(axis=axis)` – агрегирующая операция вдоль размерности (оси) `axis`:\n",
    "* выполняет редукцию (агрегирующую операцию) по размерности (оси) `axis`;\n",
    "* удаляет размерности (ось) `axis` из исходного массива (аргумент `keepdims=False`).\n",
    "\n",
    "`axis=0` – размерность строк, `axis=1` – размерность столбцов."
   ]
  },
  {
   "cell_type": "code",
   "execution_count": null,
   "metadata": {},
   "outputs": [],
   "source": [
    "a"
   ]
  },
  {
   "cell_type": "code",
   "execution_count": null,
   "metadata": {},
   "outputs": [],
   "source": [
    "a.min(axis=0)"
   ]
  },
  {
   "cell_type": "code",
   "execution_count": null,
   "metadata": {},
   "outputs": [],
   "source": [
    "a.sum(axis=1, keepdims=True)"
   ]
  },
  {
   "cell_type": "code",
   "execution_count": null,
   "metadata": {},
   "outputs": [],
   "source": [
    "a.argmax(axis=1)"
   ]
  },
  {
   "cell_type": "markdown",
   "metadata": {},
   "source": [
    "Функция `np.argAGG(a)` возвращает позицию, где достигается `AGG(a)` в вытянутом массиве `a.ravel()`. Для получения индекса в исходном массиве нужно использовать `np.unravel_index`."
   ]
  },
  {
   "cell_type": "code",
   "execution_count": null,
   "metadata": {},
   "outputs": [],
   "source": [
    "a.argmax()"
   ]
  },
  {
   "cell_type": "code",
   "execution_count": null,
   "metadata": {},
   "outputs": [],
   "source": [
    "a.ravel()[a.argmax()]"
   ]
  },
  {
   "cell_type": "code",
   "execution_count": null,
   "metadata": {},
   "outputs": [],
   "source": [
    "np.unravel_index(np.argmax(a), a.shape)"
   ]
  },
  {
   "cell_type": "code",
   "execution_count": null,
   "metadata": {},
   "outputs": [],
   "source": [
    "a[np.unravel_index(np.argmax(a), a.shape)]"
   ]
  },
  {
   "cell_type": "markdown",
   "metadata": {},
   "source": [
    "Для сравнения чисел с плавающей точкой **НУЖНО** использовать `np.isclose`."
   ]
  },
  {
   "cell_type": "code",
   "execution_count": null,
   "metadata": {},
   "outputs": [],
   "source": [
    "np.random.seed(4987)\n",
    "\n",
    "a = np.random.random(size=(2, 5))\n",
    "b = a + np.random.random(size=(2, 5)) * 1e-5"
   ]
  },
  {
   "cell_type": "code",
   "execution_count": null,
   "metadata": {},
   "outputs": [],
   "source": [
    "np.isclose(a, b)"
   ]
  },
  {
   "cell_type": "code",
   "execution_count": null,
   "metadata": {},
   "outputs": [],
   "source": [
    "np.isclose(a, b).all()"
   ]
  },
  {
   "cell_type": "code",
   "execution_count": null,
   "metadata": {},
   "outputs": [],
   "source": [
    "np.allclose(a, b)"
   ]
  },
  {
   "cell_type": "code",
   "execution_count": null,
   "metadata": {},
   "outputs": [],
   "source": [
    "np.isclose(a, b).any()"
   ]
  },
  {
   "cell_type": "code",
   "execution_count": null,
   "metadata": {},
   "outputs": [],
   "source": [
    "any([False, False])"
   ]
  },
  {
   "cell_type": "markdown",
   "metadata": {},
   "source": [
    "**Не используйте** встроенные агрегирующие операции python.\n",
    "\n",
    "[Первая причина](https://youtu.be/hj_ylt0gq0Y?t=24) – это скорость."
   ]
  },
  {
   "cell_type": "code",
   "execution_count": null,
   "metadata": {},
   "outputs": [],
   "source": [
    "b = np.random.randint(0, 10, size=(1_000, 1_000))\n",
    "b[36, 42] = 20\n",
    "b = b.ravel()"
   ]
  },
  {
   "cell_type": "code",
   "execution_count": null,
   "metadata": {},
   "outputs": [],
   "source": [
    "%%timeit\n",
    "\n",
    "b.max()"
   ]
  },
  {
   "cell_type": "code",
   "execution_count": null,
   "metadata": {},
   "outputs": [],
   "source": [
    "%%timeit\n",
    "\n",
    "max(b)"
   ]
  },
  {
   "cell_type": "markdown",
   "metadata": {},
   "source": [
    "[Вторая причина](https://youtu.be/hj_ylt0gq0Y?t=27) – не совсем очевидное поведение."
   ]
  },
  {
   "cell_type": "code",
   "execution_count": null,
   "metadata": {},
   "outputs": [],
   "source": [
    "sum(a)  # same as a.sum(axis=0)"
   ]
  },
  {
   "cell_type": "markdown",
   "metadata": {},
   "source": [
    "Над булевыми массивами можно совершать аггрегирующие логические операции."
   ]
  },
  {
   "cell_type": "code",
   "execution_count": null,
   "metadata": {},
   "outputs": [],
   "source": [
    "a = np.asarray([[True, True,  False, False, True ],\n",
    "                [True, False, False, True,  False]])\n",
    "a"
   ]
  },
  {
   "cell_type": "code",
   "execution_count": null,
   "metadata": {},
   "outputs": [],
   "source": [
    "a.all(), np.all(a)"
   ]
  },
  {
   "cell_type": "code",
   "execution_count": null,
   "metadata": {},
   "outputs": [],
   "source": [
    "a.any(), np.any(a)"
   ]
  },
  {
   "cell_type": "code",
   "execution_count": null,
   "metadata": {},
   "outputs": [],
   "source": [
    "a.all(axis=0)"
   ]
  },
  {
   "cell_type": "code",
   "execution_count": null,
   "metadata": {},
   "outputs": [],
   "source": [
    "a.any(axis=0)"
   ]
  },
  {
   "cell_type": "markdown",
   "metadata": {},
   "source": [
    "## Индексация\n",
    "\n",
    "Подробное описание: https://docs.scipy.org/doc/numpy/reference/arrays.indexing.html\n",
    "\n",
    "**Замечание:** индексация может быть использована не только для получения значений, но и для их присвоения."
   ]
  },
  {
   "cell_type": "markdown",
   "metadata": {},
   "source": [
    "### Индексация в одномерных массивах\n",
    "\n",
    "`numpy.ndarray` поддерживает все те же способы индексации, что и обычный список. "
   ]
  },
  {
   "cell_type": "markdown",
   "metadata": {},
   "source": [
    "#### Классическая индексация"
   ]
  },
  {
   "cell_type": "code",
   "execution_count": null,
   "metadata": {},
   "outputs": [],
   "source": [
    "a = np.arange(15)\n",
    "a"
   ]
  },
  {
   "cell_type": "code",
   "execution_count": null,
   "metadata": {},
   "outputs": [],
   "source": [
    "a[0], a[5], a[len(a) - 1]"
   ]
  },
  {
   "cell_type": "markdown",
   "metadata": {},
   "source": [
    "#### Отрицательные индексы"
   ]
  },
  {
   "cell_type": "code",
   "execution_count": null,
   "metadata": {},
   "outputs": [],
   "source": [
    "a[len(a) - 1], a[-1]"
   ]
  },
  {
   "cell_type": "code",
   "execution_count": null,
   "metadata": {},
   "outputs": [],
   "source": [
    "a[len(a) - 5], a[-5]"
   ]
  },
  {
   "cell_type": "markdown",
   "metadata": {},
   "source": [
    "#### Срезы (slices)\n",
    "\n",
    "**Общее правило:** `массив[первый индекс:последний индекс:шаг]`.\n",
    "\n",
    "Значения по-умолчанию:\n",
    "- первый индекс = 0; \n",
    "- последний индекс = len(массив);\n",
    "- шаг = 1;\n",
    "    \n",
    "`последний индекс` не включается."
   ]
  },
  {
   "cell_type": "code",
   "execution_count": null,
   "metadata": {},
   "outputs": [],
   "source": [
    "a = np.arange(15)\n",
    "a"
   ]
  },
  {
   "cell_type": "markdown",
   "metadata": {},
   "source": [
    "Взять первые 5 элементов."
   ]
  },
  {
   "cell_type": "code",
   "execution_count": null,
   "metadata": {},
   "outputs": [],
   "source": [
    "variants = [a[0:5:1], a[0:5], a[:5], ]\n",
    "\n",
    "print(*map(repr, variants), sep='\\n')"
   ]
  },
  {
   "cell_type": "code",
   "execution_count": null,
   "metadata": {},
   "outputs": [],
   "source": [
    "variants = [a[slice(0, 5, 1)], a[slice(0, 5)], a[slice(5)], ]\n",
    "\n",
    "print(*map(repr, variants), sep='\\n')"
   ]
  },
  {
   "cell_type": "markdown",
   "metadata": {},
   "source": [
    "Взять все элементы, стоящих на четных позициях."
   ]
  },
  {
   "cell_type": "code",
   "execution_count": null,
   "metadata": {},
   "outputs": [],
   "source": [
    "variants = [a[0:len(a):2], a[0::2], a[::2], ]\n",
    "\n",
    "print(*map(repr, variants), sep='\\n')"
   ]
  },
  {
   "cell_type": "markdown",
   "metadata": {},
   "source": [
    "Взять все элементы, стоящие на нечетных позициях."
   ]
  },
  {
   "cell_type": "code",
   "execution_count": null,
   "metadata": {},
   "outputs": [],
   "source": [
    "variants = [a[1:len(a):2], a[1::2], ]\n",
    "\n",
    "print(*map(repr, variants), sep='\\n')"
   ]
  },
  {
   "cell_type": "markdown",
   "metadata": {},
   "source": [
    "Взять все элементы с 3 по 12 (не включительно) с шагом 3."
   ]
  },
  {
   "cell_type": "code",
   "execution_count": null,
   "metadata": {},
   "outputs": [],
   "source": [
    "variants = [a[3:12:3], a[3:-3:3], ]\n",
    "\n",
    "print(*map(repr, variants), sep='\\n')"
   ]
  },
  {
   "cell_type": "markdown",
   "metadata": {},
   "source": [
    "Взять все элементы с 3 по 12 (включительно) с шагом 3 в обратном порядке."
   ]
  },
  {
   "cell_type": "code",
   "execution_count": null,
   "metadata": {},
   "outputs": [],
   "source": [
    "variants = [a[3:13:3][::-1], a[12:2:-3], a[-3:2:-3], ]\n",
    "\n",
    "print(*map(repr, variants), sep='\\n')"
   ]
  },
  {
   "cell_type": "markdown",
   "metadata": {},
   "source": [
    "#### Булева индексация (маски)\n",
    "\n",
    "Маска для массива `a` – булев массив, размер которого совпадает с размером `a`."
   ]
  },
  {
   "cell_type": "code",
   "execution_count": null,
   "metadata": {},
   "outputs": [],
   "source": [
    "np.random.seed(96)\n",
    "\n",
    "a = np.random.randint(-5, 7, 34)\n",
    "a"
   ]
  },
  {
   "cell_type": "markdown",
   "metadata": {},
   "source": [
    "Найти все отрицательные элементы."
   ]
  },
  {
   "cell_type": "code",
   "execution_count": null,
   "metadata": {},
   "outputs": [],
   "source": [
    "a < 0"
   ]
  },
  {
   "cell_type": "code",
   "execution_count": null,
   "metadata": {},
   "outputs": [],
   "source": [
    "a[a < 0]"
   ]
  },
  {
   "cell_type": "markdown",
   "metadata": {},
   "source": [
    "Найти все элементы, кратные 3-м."
   ]
  },
  {
   "cell_type": "code",
   "execution_count": null,
   "metadata": {},
   "outputs": [],
   "source": [
    "np.random.seed(22)\n",
    "\n",
    "a = np.random.randint(0, 10, 20)\n",
    "a"
   ]
  },
  {
   "cell_type": "code",
   "execution_count": null,
   "metadata": {},
   "outputs": [],
   "source": [
    "variants = [\n",
    "    a[a % 3 == 0],\n",
    "    a[np.logical_not(a % 3)],\n",
    "    a[~((a % 3).astype(bool))],\n",
    "]\n",
    "\n",
    "print(*map(repr, variants), sep='\\n')"
   ]
  },
  {
   "cell_type": "markdown",
   "metadata": {},
   "source": [
    "Найти все элементы, кратные или 3, или 5."
   ]
  },
  {
   "cell_type": "code",
   "execution_count": null,
   "metadata": {},
   "outputs": [],
   "source": [
    "mask_3 = a % 3 == 0\n",
    "mask_5 = a % 5 == 0\n",
    "\n",
    "variants = [\n",
    "    a[np.logical_or(mask_3, mask_5)],\n",
    "    a[mask_3 | mask_5],\n",
    "    a[(a % 3 == 0) | (a % 5 == 0)],\n",
    "]\n",
    "\n",
    "print(*map(repr, variants), sep='\\n')"
   ]
  },
  {
   "cell_type": "markdown",
   "metadata": {},
   "source": [
    "#### Сложная индексация (Fancy indexing)\n",
    "\n",
    "В массиве `numpy.ndarray` можно выбрать значения, стоящие в нескольких конкретных позициях."
   ]
  },
  {
   "cell_type": "code",
   "execution_count": null,
   "metadata": {},
   "outputs": [],
   "source": [
    "a = np.arange(10)\n",
    "a"
   ]
  },
  {
   "cell_type": "code",
   "execution_count": null,
   "metadata": {},
   "outputs": [],
   "source": [
    "a[[2, 7, 5, -1]]"
   ]
  },
  {
   "cell_type": "code",
   "execution_count": null,
   "metadata": {},
   "outputs": [],
   "source": [
    "a[0], a[[0]]"
   ]
  },
  {
   "cell_type": "markdown",
   "metadata": {},
   "source": [
    "### Индексация в многомерных массивах\n",
    "\n",
    "`numpy.ndarray` поддерживает все те же способы индексации, описанные выше, относительно строк и столбцов."
   ]
  },
  {
   "cell_type": "code",
   "execution_count": null,
   "metadata": {},
   "outputs": [],
   "source": [
    "a = np.arange(30).reshape(5, -1)\n",
    "a"
   ]
  },
  {
   "cell_type": "markdown",
   "metadata": {},
   "source": [
    "Доступ к конкретным элементам."
   ]
  },
  {
   "cell_type": "code",
   "execution_count": null,
   "metadata": {},
   "outputs": [],
   "source": [
    "# плохой способ, мы работаем с numpy-массивами, а не со списками\n",
    "\n",
    "a[0][0], a[0][2], a[1][1], a[-1][-2]"
   ]
  },
  {
   "cell_type": "code",
   "execution_count": null,
   "metadata": {},
   "outputs": [],
   "source": [
    "# хороший способ\n",
    "\n",
    "a[0, 0], a[0, 2], a[1, 1], a[-1, -2]"
   ]
  },
  {
   "cell_type": "markdown",
   "metadata": {},
   "source": [
    "Получить строку с индексом 2."
   ]
  },
  {
   "cell_type": "code",
   "execution_count": null,
   "metadata": {},
   "outputs": [],
   "source": [
    "variants = [a[2], a[2,:], ]\n",
    "\n",
    "print(*map(repr, variants), sep='\\n')"
   ]
  },
  {
   "cell_type": "markdown",
   "metadata": {},
   "source": [
    "Получить столбец с индексом 3."
   ]
  },
  {
   "cell_type": "code",
   "execution_count": null,
   "metadata": {},
   "outputs": [],
   "source": [
    "a[:, 3]"
   ]
  },
  {
   "cell_type": "markdown",
   "metadata": {},
   "source": [
    "Получить все элементы, стоящие в четных столбцах."
   ]
  },
  {
   "cell_type": "code",
   "execution_count": null,
   "metadata": {},
   "outputs": [],
   "source": [
    "a[:, ::2]"
   ]
  },
  {
   "cell_type": "markdown",
   "metadata": {},
   "source": [
    "Получить все элементы, стоящие в 0-м столбце и нечетных строках."
   ]
  },
  {
   "cell_type": "code",
   "execution_count": null,
   "metadata": {},
   "outputs": [],
   "source": [
    "a[1::2, 0]"
   ]
  },
  {
   "cell_type": "code",
   "execution_count": null,
   "metadata": {},
   "outputs": [],
   "source": [
    "a[1::2, [0]]"
   ]
  },
  {
   "cell_type": "markdown",
   "metadata": {},
   "source": [
    "Получите строки, в которых есть хотя бы один 0."
   ]
  },
  {
   "cell_type": "code",
   "execution_count": null,
   "metadata": {},
   "outputs": [],
   "source": [
    "np.random.seed(2238)\n",
    "\n",
    "a = np.random.randint(-5, 5, size=(5, 5))\n",
    "a"
   ]
  },
  {
   "cell_type": "code",
   "execution_count": null,
   "metadata": {},
   "outputs": [],
   "source": [
    "(a == 0).any(axis=1)"
   ]
  },
  {
   "cell_type": "code",
   "execution_count": null,
   "metadata": {},
   "outputs": [],
   "source": [
    "a[(a == 0).any(axis=1),:]"
   ]
  },
  {
   "cell_type": "markdown",
   "metadata": {},
   "source": [
    "<font color='red'> **Задача.** Дана матрица $B$ размера $(5 \\times 5)$. Получите столбцы, в которых число положительных элементов больше числа отрицательных. Результат сохраните в переменную `B_masked`. Используйте индексацию с использованием булевых массивов.</font>"
   ]
  },
  {
   "cell_type": "code",
   "execution_count": null,
   "metadata": {},
   "outputs": [],
   "source": [
    "np.random.seed(2238)\n",
    "\n",
    "B = np.random.randint(-5, 5, size=(5, 5))\n",
    "B"
   ]
  },
  {
   "cell_type": "code",
   "execution_count": null,
   "metadata": {},
   "outputs": [],
   "source": [
    "B_masked = ..."
   ]
  },
  {
   "cell_type": "code",
   "execution_count": null,
   "metadata": {},
   "outputs": [],
   "source": [
    "assert (B_masked == B[:, [0, 1, -1]]).all()"
   ]
  },
  {
   "cell_type": "markdown",
   "metadata": {},
   "source": [
    "Для получения индексов, где выполнено условие (значение истино) используеттся функция `np.where`. Результат этой функции можно использовать для индексации.\n",
    "\n",
    "Индексация по результату `np.where` является сложной индексацией (об этом ниже)."
   ]
  },
  {
   "cell_type": "code",
   "execution_count": null,
   "metadata": {},
   "outputs": [],
   "source": [
    "a < 4"
   ]
  },
  {
   "cell_type": "code",
   "execution_count": null,
   "metadata": {},
   "outputs": [],
   "source": [
    "np.where(a < 4)"
   ]
  },
  {
   "cell_type": "code",
   "execution_count": null,
   "metadata": {},
   "outputs": [],
   "source": [
    "a[np.where(a < 4)]"
   ]
  },
  {
   "cell_type": "code",
   "execution_count": null,
   "metadata": {},
   "outputs": [],
   "source": [
    "a[a < 4]"
   ]
  },
  {
   "cell_type": "markdown",
   "metadata": {},
   "source": [
    "#### Сложная индексация (Fancy indexing)\n",
    "\n",
    "В массиве `numpy.ndarray` можно выбрать значения, стоящие в нескольких (более 1) конкретных строках ИЛИ столбцах."
   ]
  },
  {
   "cell_type": "code",
   "execution_count": null,
   "metadata": {},
   "outputs": [],
   "source": [
    "a[[1, 3, 4], :]"
   ]
  },
  {
   "cell_type": "markdown",
   "metadata": {},
   "source": [
    "По каждой размерности подаются массивы одинаковых размеров, элементы которых соответствуют индексам каждой размерности. Тогда, на выходе будет массив размера этих массивов, элементы которого будут соответствовать элементам исходного массива, взятых в точках, соответствующих поданным массивам."
   ]
  },
  {
   "cell_type": "code",
   "execution_count": null,
   "metadata": {},
   "outputs": [],
   "source": [
    "a"
   ]
  },
  {
   "cell_type": "code",
   "execution_count": null,
   "metadata": {},
   "outputs": [],
   "source": [
    "a[[0, 1, 1], [2, 1, 2]]"
   ]
  },
  {
   "cell_type": "markdown",
   "metadata": {},
   "source": [
    "Если требуется взять значения, стоящие в определенных строках и столбцах, то для этого можно использовать функцию `np.ix_`."
   ]
  },
  {
   "cell_type": "code",
   "execution_count": null,
   "metadata": {},
   "outputs": [],
   "source": [
    "a = np.arange(30).reshape(5, -1)\n",
    "a"
   ]
  },
  {
   "cell_type": "code",
   "execution_count": null,
   "metadata": {},
   "outputs": [],
   "source": [
    "a[np.ix_([2, 4, 3], [0, -1])]"
   ]
  },
  {
   "cell_type": "code",
   "execution_count": null,
   "metadata": {},
   "outputs": [],
   "source": [
    "a[[2, 4, 3],:][:,[0, -1]]"
   ]
  },
  {
   "cell_type": "code",
   "execution_count": null,
   "metadata": {},
   "outputs": [],
   "source": [
    "a[np.ix_([2, 4, 3], [0, -1])] = 10000\n",
    "a"
   ]
  },
  {
   "cell_type": "code",
   "execution_count": null,
   "metadata": {},
   "outputs": [],
   "source": [
    "a[[2, 4, 3],:][:,[0, -1]] = 20_000\n",
    "a"
   ]
  },
  {
   "cell_type": "markdown",
   "metadata": {},
   "source": [
    "#### Сокращенная индексация"
   ]
  },
  {
   "cell_type": "code",
   "execution_count": null,
   "metadata": {},
   "outputs": [],
   "source": [
    "a = np.arange(24).reshape(2, 3, 4)\n",
    "a"
   ]
  },
  {
   "cell_type": "code",
   "execution_count": null,
   "metadata": {},
   "outputs": [],
   "source": [
    "a.shape"
   ]
  },
  {
   "cell_type": "markdown",
   "metadata": {},
   "source": [
    "`...` – константа в Python, которая называется [`Ellipsis`](https://docs.python.org/3/library/constants.html#Ellipsis). "
   ]
  },
  {
   "cell_type": "code",
   "execution_count": null,
   "metadata": {},
   "outputs": [],
   "source": [
    "a[..., 0]       # same as a[:, :, 0]"
   ]
  },
  {
   "cell_type": "code",
   "execution_count": null,
   "metadata": {},
   "outputs": [],
   "source": [
    "a[0, ...]       # same as a[0, :, :]"
   ]
  },
  {
   "cell_type": "code",
   "execution_count": null,
   "metadata": {},
   "outputs": [],
   "source": [
    "a[0, ..., 0]   # same as a[0, :, 0]"
   ]
  },
  {
   "cell_type": "markdown",
   "metadata": {},
   "source": [
    "### Другие способы индексации\n",
    "\n",
    "https://docs.scipy.org/doc/numpy/reference/routines.indexing.html\n",
    "\n",
    "Посмотрите дома: `np.take_along_axis`, `np.take`."
   ]
  },
  {
   "cell_type": "markdown",
   "metadata": {},
   "source": [
    "### Тонкости при индексации (view и копии)\n",
    "\n",
    "При некоторых видах индексации, получается view (новый объект, который ссылается на те же данные), в других – копия. \n",
    "\n",
    "Поподробнее об этом можно прочитать тут:\n",
    "\n",
    "https://www.jessicayung.com/numpy-views-vs-copies-avoiding-costly-mistakes/"
   ]
  },
  {
   "cell_type": "markdown",
   "metadata": {},
   "source": [
    "### Конкатенация массивов"
   ]
  },
  {
   "cell_type": "code",
   "execution_count": null,
   "metadata": {},
   "outputs": [],
   "source": [
    "np.random.seed(1398)\n",
    "\n",
    "c = np.random.permutation(np.arange(0, 12))\n",
    "i = c.shape[0] // 2\n",
    "\n",
    "a, b = c[:i], c[i:]\n",
    "a, b = a.reshape(3, 2), b.reshape(3, 2)"
   ]
  },
  {
   "cell_type": "markdown",
   "metadata": {},
   "source": [
    "Конкатенация массивов по вертикали."
   ]
  },
  {
   "cell_type": "code",
   "execution_count": null,
   "metadata": {},
   "outputs": [],
   "source": [
    "print_as_columns(a, b)\n",
    "np.vstack((a, b))   # same as np.concatenate((a, b), axis=0)"
   ]
  },
  {
   "cell_type": "markdown",
   "metadata": {},
   "source": [
    "Конкатенация массивов по горизонтали."
   ]
  },
  {
   "cell_type": "code",
   "execution_count": null,
   "metadata": {},
   "outputs": [],
   "source": [
    "print_as_columns(a, b)\n",
    "np.hstack((a, b))   # same as np.concatenate((a, b), axis=1)"
   ]
  },
  {
   "cell_type": "markdown",
   "metadata": {},
   "source": [
    "### Сортировка"
   ]
  },
  {
   "cell_type": "code",
   "execution_count": null,
   "metadata": {},
   "outputs": [],
   "source": [
    "np.random.seed(5555)\n",
    "\n",
    "a = np.random.randint(0, 10, size=(3, 7))\n",
    "a[1, 3] = 15\n",
    "\n",
    "a"
   ]
  },
  {
   "cell_type": "code",
   "execution_count": null,
   "metadata": {},
   "outputs": [],
   "source": [
    "b = a.copy()\n",
    "b.sort(axis=1)  # inplace\n",
    "b"
   ]
  },
  {
   "cell_type": "code",
   "execution_count": null,
   "metadata": {},
   "outputs": [],
   "source": [
    "np.sort(a, axis=1)   # new object"
   ]
  },
  {
   "cell_type": "markdown",
   "metadata": {},
   "source": [
    "И конечно же есть операция `argsort`."
   ]
  },
  {
   "cell_type": "code",
   "execution_count": null,
   "metadata": {},
   "outputs": [],
   "source": [
    "a.argsort(axis=1)  # same as np.argsort(a, axis=1)"
   ]
  },
  {
   "cell_type": "markdown",
   "metadata": {},
   "source": [
    "### Получение уникальных элементов"
   ]
  },
  {
   "cell_type": "code",
   "execution_count": null,
   "metadata": {},
   "outputs": [],
   "source": [
    "np.unique(a)"
   ]
  },
  {
   "cell_type": "code",
   "execution_count": null,
   "metadata": {},
   "outputs": [],
   "source": [
    "np.unique(a, return_counts=True)"
   ]
  },
  {
   "cell_type": "code",
   "execution_count": null,
   "metadata": {},
   "outputs": [],
   "source": [
    "np.bincount(a)"
   ]
  },
  {
   "cell_type": "code",
   "execution_count": null,
   "metadata": {},
   "outputs": [],
   "source": [
    "np.bincount(a.ravel())"
   ]
  },
  {
   "cell_type": "markdown",
   "metadata": {},
   "source": [
    "### Линейная алгебра\n",
    "\n",
    "https://numpy.org/doc/stable/reference/routines.linalg.html"
   ]
  },
  {
   "cell_type": "markdown",
   "metadata": {},
   "source": [
    "## Библиотека SciPy\n",
    "\n",
    "SсiPy — библиотека для сложных научных вычислений в Python, интегрированная с numpy.\n",
    "В частности, SciPy включает в себя:\n",
    "\n",
    "* операции линейной алгебры (scipy.linalg);\n",
    "* реализации методов оптимизации (scipy.optimize);\n",
    "* статистические критерии и сложные распределения (scipy.stats);\n",
    "* функции для численного интегрирования (scipy.integrate).\n",
    "\n",
    "**Важно:** некоторые из операций есть как в numpy, так и в scipy.\n",
    "\n",
    "**Важно:** scipy — более тяжеловесен чем numpy, т.к. использует внутри себя процедуры языка Fortran.\n",
    "\n",
    "Более подробный обзор библиотеки можно получить здесь:\n",
    "\n",
    "http://scipy-lectures.org/intro/scipy.html"
   ]
  },
  {
   "cell_type": "markdown",
   "metadata": {},
   "source": [
    "### Поиск расстояний между векторами"
   ]
  },
  {
   "cell_type": "code",
   "execution_count": null,
   "metadata": {},
   "outputs": [],
   "source": [
    "from scipy.spatial.distance import cdist, pdist"
   ]
  },
  {
   "cell_type": "code",
   "execution_count": null,
   "metadata": {},
   "outputs": [],
   "source": [
    "np.random.seed(63)\n",
    "\n",
    "a = np.random.choice(10, size=10, replace=False).reshape(-1, 2)\n",
    "b = np.random.choice(10, size=10, replace=False).reshape(-1, 2)"
   ]
  },
  {
   "cell_type": "code",
   "execution_count": null,
   "metadata": {},
   "outputs": [],
   "source": [
    "print_as_columns(a, b)"
   ]
  },
  {
   "cell_type": "code",
   "execution_count": null,
   "metadata": {},
   "outputs": [],
   "source": [
    "cdist(a, b)"
   ]
  },
  {
   "cell_type": "code",
   "execution_count": null,
   "metadata": {},
   "outputs": [],
   "source": [
    "cdist(a, b, metric='cosine')"
   ]
  },
  {
   "cell_type": "markdown",
   "metadata": {},
   "source": [
    "### SVD разложение"
   ]
  },
  {
   "cell_type": "code",
   "execution_count": null,
   "metadata": {},
   "outputs": [],
   "source": [
    "from scipy.linalg import svd"
   ]
  },
  {
   "cell_type": "code",
   "execution_count": null,
   "metadata": {},
   "outputs": [],
   "source": [
    "A = np.array([[0, 1, 2], [3, 4, 5], [6, 7, 8]])"
   ]
  },
  {
   "cell_type": "code",
   "execution_count": null,
   "metadata": {},
   "outputs": [],
   "source": [
    "U, s, Vh = svd(A, full_matrices=True)"
   ]
  },
  {
   "cell_type": "code",
   "execution_count": null,
   "metadata": {},
   "outputs": [],
   "source": [
    "np.allclose(A, U @ np.diag(s) @ Vh)"
   ]
  },
  {
   "cell_type": "markdown",
   "metadata": {},
   "source": [
    "### Интерполяция"
   ]
  },
  {
   "cell_type": "code",
   "execution_count": null,
   "metadata": {},
   "outputs": [],
   "source": [
    "import matplotlib.pyplot as plt\n",
    "\n",
    "%matplotlib inline"
   ]
  },
  {
   "cell_type": "code",
   "execution_count": null,
   "metadata": {},
   "outputs": [],
   "source": [
    "from scipy.optimize import curve_fit"
   ]
  },
  {
   "cell_type": "code",
   "execution_count": null,
   "metadata": {},
   "outputs": [],
   "source": [
    "np.random.seed(56)\n",
    "\n",
    "x_data = np.linspace(-5, 5, num=50)\n",
    "y_data = 2.9 * np.sin(1.5 * x_data) + np.random.normal(size=50)"
   ]
  },
  {
   "cell_type": "code",
   "execution_count": null,
   "metadata": {},
   "outputs": [],
   "source": [
    "plt.plot(x_data, y_data, 'o')"
   ]
  },
  {
   "cell_type": "code",
   "execution_count": null,
   "metadata": {},
   "outputs": [],
   "source": [
    "def fitting_function(x, a, b):\n",
    "    return a * np.sin(b * x)"
   ]
  },
  {
   "cell_type": "code",
   "execution_count": null,
   "metadata": {},
   "outputs": [],
   "source": [
    "params, params_covariance = curve_fit(fitting_function, x_data, y_data)"
   ]
  },
  {
   "cell_type": "code",
   "execution_count": null,
   "metadata": {},
   "outputs": [],
   "source": [
    "params"
   ]
  },
  {
   "cell_type": "code",
   "execution_count": null,
   "metadata": {},
   "outputs": [],
   "source": [
    "curve_y_data = [fitting_function(x, *params) for x in x_data]"
   ]
  },
  {
   "cell_type": "code",
   "execution_count": null,
   "metadata": {},
   "outputs": [],
   "source": [
    "plt.plot(x_data, y_data, 'o')\n",
    "plt.plot(x_data, curve_y_data)"
   ]
  },
  {
   "cell_type": "markdown",
   "metadata": {},
   "source": [
    "### Разреженные матрицы\n",
    "\n",
    "https://docs.scipy.org/doc/scipy/reference/sparse.html\n",
    "\n",
    "https://matteding.github.io/2019/04/25/sparse-matrices/"
   ]
  },
  {
   "cell_type": "markdown",
   "metadata": {},
   "source": [
    "## Что почитать еще?\n",
    "\n",
    "<table>\n",
    "    <tr>\n",
    "        <td><img src=\"files/book01.jpeg\" width=\"300px\"/></td>\n",
    "        <td><img src=\"files/book02.jpg\" width=\"300px\"/></td>\n",
    "    </tr>\n",
    "</table>\n",
    "\n",
    "1. Jake VanderPlas. Python Data Science Handbook (Вандер Плас Дж. Python для сложных задач.)\n",
    "[англ.](https://jakevdp.github.io/PythonDataScienceHandbook/)\n",
    "2. Wes McKinney. Python for Data Analysis (Маккини Уэс. Python и анализ данных)"
   ]
  },
  {
   "cell_type": "markdown",
   "metadata": {},
   "source": [
    "И последний совет на сегодня...\n",
    "\n",
    "<center><h3>Не забываем пользоваться поиском, читать документацию и stackoverflow</h3></center>"
   ]
  },
  {
   "cell_type": "code",
   "execution_count": null,
   "metadata": {},
   "outputs": [],
   "source": []
  }
 ],
 "metadata": {
  "kernelspec": {
   "display_name": "Python 3",
   "language": "python",
   "name": "python3"
  },
  "language_info": {
   "codemirror_mode": {
    "name": "ipython",
    "version": 3
   },
   "file_extension": ".py",
   "mimetype": "text/x-python",
   "name": "python",
   "nbconvert_exporter": "python",
   "pygments_lexer": "ipython3",
   "version": "3.7.3"
  },
  "widgets": {
   "application/vnd.jupyter.widget-state+json": {
    "state": {},
    "version_major": 2,
    "version_minor": 0
   }
  }
 },
 "nbformat": 4,
 "nbformat_minor": 4
}
