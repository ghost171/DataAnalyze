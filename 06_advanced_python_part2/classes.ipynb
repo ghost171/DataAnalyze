{
 "cells": [
  {
   "cell_type": "markdown",
   "metadata": {},
   "source": [
    "# Классы"
   ]
  },
  {
   "cell_type": "markdown",
   "metadata": {},
   "source": [
    "Пример: https://www.youtube.com/watch?v=2Sh4OLSpa9Y"
   ]
  },
  {
   "cell_type": "code",
   "execution_count": 1,
   "metadata": {},
   "outputs": [],
   "source": [
    "from datetime import datetime, timedelta"
   ]
  },
  {
   "cell_type": "code",
   "execution_count": 2,
   "metadata": {},
   "outputs": [],
   "source": [
    "class TimeInterval:\n",
    "    \"\"\"\n",
    "    Class describes time interval\n",
    "    \"\"\"\n",
    "    \n",
    "    def __init__(self, begin, end):\n",
    "        self.begin = begin\n",
    "        self.end = end\n",
    "        \n",
    "    def get_length(self):\n",
    "        return self.end - self.begin"
   ]
  },
  {
   "cell_type": "code",
   "execution_count": 3,
   "metadata": {},
   "outputs": [],
   "source": [
    "interval = TimeInterval(\n",
    "    datetime(year=2018, month=8, day=6),\n",
    "    datetime.now()\n",
    ")"
   ]
  },
  {
   "cell_type": "code",
   "execution_count": 4,
   "metadata": {},
   "outputs": [
    {
     "data": {
      "text/plain": [
       "<__main__.TimeInterval at 0x7fdd639ee080>"
      ]
     },
     "execution_count": 4,
     "metadata": {},
     "output_type": "execute_result"
    }
   ],
   "source": [
    "interval"
   ]
  },
  {
   "cell_type": "code",
   "execution_count": 5,
   "metadata": {},
   "outputs": [
    {
     "name": "stdout",
     "output_type": "stream",
     "text": [
      "<class '__main__.TimeInterval'>\n"
     ]
    }
   ],
   "source": [
    "print(type(interval))"
   ]
  },
  {
   "cell_type": "code",
   "execution_count": 6,
   "metadata": {},
   "outputs": [
    {
     "name": "stdout",
     "output_type": "stream",
     "text": [
      "<class 'type'>\n"
     ]
    }
   ],
   "source": [
    "print(type(TimeInterval))"
   ]
  },
  {
   "cell_type": "markdown",
   "metadata": {},
   "source": [
    "Подробнее о метапрограммировании:\n",
    "\n",
    "https://nbviewer.jupyter.org/github/akittas/presentations/blob/master/pythess/meta_alltheway/meta_alltheway.ipynb"
   ]
  },
  {
   "cell_type": "markdown",
   "metadata": {},
   "source": [
    "## Атрибуты"
   ]
  },
  {
   "cell_type": "code",
   "execution_count": 7,
   "metadata": {},
   "outputs": [
    {
     "data": {
      "text/plain": [
       "['__class__',\n",
       " '__delattr__',\n",
       " '__dict__',\n",
       " '__dir__',\n",
       " '__doc__',\n",
       " '__eq__',\n",
       " '__format__',\n",
       " '__ge__',\n",
       " '__getattribute__',\n",
       " '__gt__',\n",
       " '__hash__',\n",
       " '__init__',\n",
       " '__init_subclass__',\n",
       " '__le__',\n",
       " '__lt__',\n",
       " '__module__',\n",
       " '__ne__',\n",
       " '__new__',\n",
       " '__reduce__',\n",
       " '__reduce_ex__',\n",
       " '__repr__',\n",
       " '__setattr__',\n",
       " '__sizeof__',\n",
       " '__str__',\n",
       " '__subclasshook__',\n",
       " '__weakref__',\n",
       " 'begin',\n",
       " 'end',\n",
       " 'get_length']"
      ]
     },
     "execution_count": 7,
     "metadata": {},
     "output_type": "execute_result"
    }
   ],
   "source": [
    "dir(interval)"
   ]
  },
  {
   "cell_type": "code",
   "execution_count": 8,
   "metadata": {},
   "outputs": [
    {
     "data": {
      "text/plain": [
       "{'begin': datetime.datetime(2018, 8, 6, 0, 0),\n",
       " 'end': datetime.datetime(2022, 4, 19, 17, 31, 48, 29991)}"
      ]
     },
     "execution_count": 8,
     "metadata": {},
     "output_type": "execute_result"
    }
   ],
   "source": [
    "interval.__dict__"
   ]
  },
  {
   "cell_type": "code",
   "execution_count": 9,
   "metadata": {},
   "outputs": [
    {
     "data": {
      "text/plain": [
       "{'begin': datetime.datetime(2018, 8, 6, 0, 0),\n",
       " 'end': datetime.datetime(2022, 4, 19, 17, 31, 48, 29991)}"
      ]
     },
     "execution_count": 9,
     "metadata": {},
     "output_type": "execute_result"
    }
   ],
   "source": [
    "vars(interval)"
   ]
  },
  {
   "cell_type": "code",
   "execution_count": 10,
   "metadata": {},
   "outputs": [
    {
     "data": {
      "text/plain": [
       "mappingproxy({'__module__': '__main__',\n",
       "              '__doc__': '\\n    Class describes time interval\\n    ',\n",
       "              '__init__': <function __main__.TimeInterval.__init__(self, begin, end)>,\n",
       "              'get_length': <function __main__.TimeInterval.get_length(self)>,\n",
       "              '__dict__': <attribute '__dict__' of 'TimeInterval' objects>,\n",
       "              '__weakref__': <attribute '__weakref__' of 'TimeInterval' objects>})"
      ]
     },
     "execution_count": 10,
     "metadata": {},
     "output_type": "execute_result"
    }
   ],
   "source": [
    "vars(TimeInterval)"
   ]
  },
  {
   "cell_type": "code",
   "execution_count": 11,
   "metadata": {},
   "outputs": [
    {
     "data": {
      "text/plain": [
       "datetime.datetime(2018, 8, 6, 0, 0)"
      ]
     },
     "execution_count": 11,
     "metadata": {},
     "output_type": "execute_result"
    }
   ],
   "source": [
    "interval.begin"
   ]
  },
  {
   "cell_type": "code",
   "execution_count": 12,
   "metadata": {},
   "outputs": [
    {
     "data": {
      "text/plain": [
       "datetime.datetime(2018, 8, 6, 0, 0)"
      ]
     },
     "execution_count": 12,
     "metadata": {},
     "output_type": "execute_result"
    }
   ],
   "source": [
    "getattr(interval, 'begin')"
   ]
  },
  {
   "cell_type": "code",
   "execution_count": 13,
   "metadata": {},
   "outputs": [
    {
     "ename": "AttributeError",
     "evalue": "'TimeInterval' object has no attribute 'not_found_attr'",
     "output_type": "error",
     "traceback": [
      "\u001b[0;31m---------------------------------------------------------------------------\u001b[0m",
      "\u001b[0;31mAttributeError\u001b[0m                            Traceback (most recent call last)",
      "\u001b[0;32m<ipython-input-13-7dd0e861ede7>\u001b[0m in \u001b[0;36m<module>\u001b[0;34m\u001b[0m\n\u001b[0;32m----> 1\u001b[0;31m \u001b[0minterval\u001b[0m\u001b[0;34m.\u001b[0m\u001b[0mnot_found_attr\u001b[0m\u001b[0;34m\u001b[0m\u001b[0;34m\u001b[0m\u001b[0m\n\u001b[0m",
      "\u001b[0;31mAttributeError\u001b[0m: 'TimeInterval' object has no attribute 'not_found_attr'"
     ]
    }
   ],
   "source": [
    "interval.not_found_attr"
   ]
  },
  {
   "cell_type": "code",
   "execution_count": 14,
   "metadata": {},
   "outputs": [
    {
     "name": "stdout",
     "output_type": "stream",
     "text": [
      "1256\n"
     ]
    },
    {
     "data": {
      "text/plain": [
       "{'begin': datetime.datetime(2018, 8, 6, 0, 0),\n",
       " 'end': datetime.datetime(2022, 4, 19, 17, 31, 48, 29991),\n",
       " 'attr_to_set': 1256}"
      ]
     },
     "execution_count": 14,
     "metadata": {},
     "output_type": "execute_result"
    }
   ],
   "source": [
    "interval.attr_to_set = 1256\n",
    "print(interval.attr_to_set)\n",
    "vars(interval)"
   ]
  },
  {
   "cell_type": "code",
   "execution_count": 15,
   "metadata": {},
   "outputs": [
    {
     "name": "stdout",
     "output_type": "stream",
     "text": [
      "{'begin': datetime.datetime(2018, 8, 6, 0, 0), 'end': datetime.datetime(2022, 4, 19, 17, 31, 48, 29991)}\n"
     ]
    },
    {
     "ename": "AttributeError",
     "evalue": "'TimeInterval' object has no attribute 'attr_to_set'",
     "output_type": "error",
     "traceback": [
      "\u001b[0;31m---------------------------------------------------------------------------\u001b[0m",
      "\u001b[0;31mAttributeError\u001b[0m                            Traceback (most recent call last)",
      "\u001b[0;32m<ipython-input-15-e78e42e18c8d>\u001b[0m in \u001b[0;36m<module>\u001b[0;34m\u001b[0m\n\u001b[1;32m      1\u001b[0m \u001b[0;32mdel\u001b[0m \u001b[0minterval\u001b[0m\u001b[0;34m.\u001b[0m\u001b[0mattr_to_set\u001b[0m\u001b[0;34m\u001b[0m\u001b[0;34m\u001b[0m\u001b[0m\n\u001b[1;32m      2\u001b[0m \u001b[0mprint\u001b[0m\u001b[0;34m(\u001b[0m\u001b[0mvars\u001b[0m\u001b[0;34m(\u001b[0m\u001b[0minterval\u001b[0m\u001b[0;34m)\u001b[0m\u001b[0;34m)\u001b[0m\u001b[0;34m\u001b[0m\u001b[0;34m\u001b[0m\u001b[0m\n\u001b[0;32m----> 3\u001b[0;31m \u001b[0minterval\u001b[0m\u001b[0;34m.\u001b[0m\u001b[0mattr_to_set\u001b[0m\u001b[0;34m\u001b[0m\u001b[0;34m\u001b[0m\u001b[0m\n\u001b[0m",
      "\u001b[0;31mAttributeError\u001b[0m: 'TimeInterval' object has no attribute 'attr_to_set'"
     ]
    }
   ],
   "source": [
    "del interval.attr_to_set\n",
    "print(vars(interval))\n",
    "interval.attr_to_set"
   ]
  },
  {
   "cell_type": "markdown",
   "metadata": {},
   "source": [
    "## Методы"
   ]
  },
  {
   "cell_type": "code",
   "execution_count": 16,
   "metadata": {},
   "outputs": [
    {
     "data": {
      "text/plain": [
       "datetime.timedelta(days=1352, seconds=63108, microseconds=29991)"
      ]
     },
     "execution_count": 16,
     "metadata": {},
     "output_type": "execute_result"
    }
   ],
   "source": [
    "interval.get_length()"
   ]
  },
  {
   "cell_type": "code",
   "execution_count": 17,
   "metadata": {},
   "outputs": [
    {
     "data": {
      "text/plain": [
       "<bound method TimeInterval.get_length of <__main__.TimeInterval object at 0x7fdd639ee080>>"
      ]
     },
     "execution_count": 17,
     "metadata": {},
     "output_type": "execute_result"
    }
   ],
   "source": [
    "interval.get_length"
   ]
  },
  {
   "cell_type": "code",
   "execution_count": 18,
   "metadata": {},
   "outputs": [
    {
     "data": {
      "text/plain": [
       "<function __main__.TimeInterval.get_length(self)>"
      ]
     },
     "execution_count": 18,
     "metadata": {},
     "output_type": "execute_result"
    }
   ],
   "source": [
    "TimeInterval.get_length"
   ]
  },
  {
   "cell_type": "code",
   "execution_count": 19,
   "metadata": {},
   "outputs": [
    {
     "data": {
      "text/plain": [
       "datetime.timedelta(days=1352, seconds=63108, microseconds=29991)"
      ]
     },
     "execution_count": 19,
     "metadata": {},
     "output_type": "execute_result"
    }
   ],
   "source": [
    "TimeInterval.get_length(interval)"
   ]
  },
  {
   "cell_type": "code",
   "execution_count": 20,
   "metadata": {},
   "outputs": [
    {
     "name": "stdout",
     "output_type": "stream",
     "text": [
      "ABC DEF GHJ\n"
     ]
    }
   ],
   "source": [
    "s = [\"abc\", \"def\", \"ghj\"]\n",
    "\n",
    "print(*map(str.upper, s), sep=' ')   # same as map(lambda e: e.upper(), s)"
   ]
  },
  {
   "cell_type": "code",
   "execution_count": 21,
   "metadata": {},
   "outputs": [
    {
     "name": "stdout",
     "output_type": "stream",
     "text": [
      "[1, 2, 3, 4]\n"
     ]
    }
   ],
   "source": [
    "a = ['1', '2', '3', '4']\n",
    "b = list(map(int, a))    # same as map(lambda e: int(e), a)\n",
    "\n",
    "print(repr(b))"
   ]
  },
  {
   "cell_type": "code",
   "execution_count": 22,
   "metadata": {},
   "outputs": [
    {
     "data": {
      "text/plain": [
       "{1, 2, 3, 4, 5, 6}"
      ]
     },
     "execution_count": 22,
     "metadata": {},
     "output_type": "execute_result"
    }
   ],
   "source": [
    "from functools import reduce\n",
    "\n",
    "reduce(set.union, [{1, 2}, {2, 3, 4}, {4, 5, 6}])   # same as reduce(lambda a, b: a | b, [...])"
   ]
  },
  {
   "cell_type": "code",
   "execution_count": 23,
   "metadata": {},
   "outputs": [
    {
     "ename": "AttributeError",
     "evalue": "'TimeInterval' object has no attribute 'not_found_method'",
     "output_type": "error",
     "traceback": [
      "\u001b[0;31m---------------------------------------------------------------------------\u001b[0m",
      "\u001b[0;31mAttributeError\u001b[0m                            Traceback (most recent call last)",
      "\u001b[0;32m<ipython-input-23-2d5467e4b053>\u001b[0m in \u001b[0;36m<module>\u001b[0;34m\u001b[0m\n\u001b[0;32m----> 1\u001b[0;31m \u001b[0minterval\u001b[0m\u001b[0;34m.\u001b[0m\u001b[0mnot_found_method\u001b[0m\u001b[0;34m(\u001b[0m\u001b[0;34m)\u001b[0m\u001b[0;34m\u001b[0m\u001b[0;34m\u001b[0m\u001b[0m\n\u001b[0m",
      "\u001b[0;31mAttributeError\u001b[0m: 'TimeInterval' object has no attribute 'not_found_method'"
     ]
    }
   ],
   "source": [
    "interval.not_found_method()"
   ]
  },
  {
   "cell_type": "markdown",
   "metadata": {},
   "source": [
    "## Инкапсуляция (приватность)"
   ]
  },
  {
   "cell_type": "markdown",
   "metadata": {},
   "source": [
    "Напоминание из C++:\n",
    "* `public` – атрибут доступен отовсюду;\n",
    "* `protected` – атрибут доступен внутри экземпляра класса и в экземплярах классов наследников;\n",
    "* `private` – атрибут досутпен только внутри экземпляра класса."
   ]
  },
  {
   "cell_type": "code",
   "execution_count": 24,
   "metadata": {},
   "outputs": [],
   "source": [
    "class TimeInterval:    \n",
    "    def __init__(self, begin, end):\n",
    "        self.__begin = begin         # private с оговорками\n",
    "        self._end = end              # как бы protected\n",
    "        self.secret = 'p9ZNP3DH'     # public\n",
    "        self.__hidden__ = \"hidden\"   # не делайте так\n",
    "        \n",
    "    def get_length(self):\n",
    "        return self._end - self.__begin"
   ]
  },
  {
   "cell_type": "code",
   "execution_count": 25,
   "metadata": {},
   "outputs": [],
   "source": [
    "interval = TimeInterval(\n",
    "    datetime(year=2018, month=8, day=6, hour=10, minute=7),\n",
    "    datetime(year=2018, month=8, day=6, hour=12, minute=30),\n",
    ")"
   ]
  },
  {
   "cell_type": "code",
   "execution_count": 26,
   "metadata": {},
   "outputs": [
    {
     "data": {
      "text/plain": [
       "'p9ZNP3DH'"
      ]
     },
     "execution_count": 26,
     "metadata": {},
     "output_type": "execute_result"
    }
   ],
   "source": [
    "interval.secret"
   ]
  },
  {
   "cell_type": "code",
   "execution_count": 27,
   "metadata": {},
   "outputs": [
    {
     "data": {
      "text/plain": [
       "datetime.datetime(2018, 8, 6, 12, 30)"
      ]
     },
     "execution_count": 27,
     "metadata": {},
     "output_type": "execute_result"
    }
   ],
   "source": [
    "interval._end"
   ]
  },
  {
   "cell_type": "code",
   "execution_count": 28,
   "metadata": {},
   "outputs": [
    {
     "ename": "AttributeError",
     "evalue": "'TimeInterval' object has no attribute '__begin'",
     "output_type": "error",
     "traceback": [
      "\u001b[0;31m---------------------------------------------------------------------------\u001b[0m",
      "\u001b[0;31mAttributeError\u001b[0m                            Traceback (most recent call last)",
      "\u001b[0;32m<ipython-input-28-db79a5e55077>\u001b[0m in \u001b[0;36m<module>\u001b[0;34m\u001b[0m\n\u001b[0;32m----> 1\u001b[0;31m \u001b[0minterval\u001b[0m\u001b[0;34m.\u001b[0m\u001b[0m__begin\u001b[0m\u001b[0;34m\u001b[0m\u001b[0;34m\u001b[0m\u001b[0m\n\u001b[0m",
      "\u001b[0;31mAttributeError\u001b[0m: 'TimeInterval' object has no attribute '__begin'"
     ]
    }
   ],
   "source": [
    "interval.__begin"
   ]
  },
  {
   "cell_type": "code",
   "execution_count": 29,
   "metadata": {},
   "outputs": [
    {
     "data": {
      "text/plain": [
       "8580.0"
      ]
     },
     "execution_count": 29,
     "metadata": {},
     "output_type": "execute_result"
    }
   ],
   "source": [
    "interval.get_length().total_seconds()"
   ]
  },
  {
   "cell_type": "code",
   "execution_count": 30,
   "metadata": {},
   "outputs": [
    {
     "data": {
      "text/plain": [
       "{'_TimeInterval__begin': datetime.datetime(2018, 8, 6, 10, 7),\n",
       " '_end': datetime.datetime(2018, 8, 6, 12, 30),\n",
       " 'secret': 'p9ZNP3DH',\n",
       " '__hidden__': 'hidden'}"
      ]
     },
     "execution_count": 30,
     "metadata": {},
     "output_type": "execute_result"
    }
   ],
   "source": [
    "vars(interval)"
   ]
  },
  {
   "cell_type": "code",
   "execution_count": 31,
   "metadata": {},
   "outputs": [
    {
     "data": {
      "text/plain": [
       "datetime.datetime(2018, 8, 6, 10, 7)"
      ]
     },
     "execution_count": 31,
     "metadata": {},
     "output_type": "execute_result"
    }
   ],
   "source": [
    "interval._TimeInterval__begin"
   ]
  },
  {
   "cell_type": "code",
   "execution_count": 32,
   "metadata": {},
   "outputs": [
    {
     "data": {
      "text/plain": [
       "12"
      ]
     },
     "execution_count": 32,
     "metadata": {},
     "output_type": "execute_result"
    }
   ],
   "source": [
    "interval.__attr = 12\n",
    "interval.__attr"
   ]
  },
  {
   "cell_type": "code",
   "execution_count": 33,
   "metadata": {},
   "outputs": [
    {
     "data": {
      "text/plain": [
       "'hidden'"
      ]
     },
     "execution_count": 33,
     "metadata": {},
     "output_type": "execute_result"
    }
   ],
   "source": [
    "interval.__hidden__"
   ]
  },
  {
   "cell_type": "markdown",
   "metadata": {},
   "source": [
    "## Атрибуты классов"
   ]
  },
  {
   "cell_type": "markdown",
   "metadata": {},
   "source": [
    "Реализуем класс `TimeInterval`, который задает временной интервал. Хотелось бы, чтобы:\n",
    "* если начало интервала отсутвует, то оно равнялось 1 января 1970 г.;\n",
    "* если конец интервала отсутвует, то он равнялся текущему времени."
   ]
  },
  {
   "cell_type": "code",
   "execution_count": 34,
   "metadata": {},
   "outputs": [],
   "source": [
    "from time import sleep"
   ]
  },
  {
   "cell_type": "code",
   "execution_count": 35,
   "metadata": {},
   "outputs": [],
   "source": [
    "class TimeInterval:\n",
    "    DEFAULT_BEGIN = datetime(1970, 1, 1)   # типа static\n",
    "    DEFAULT_END   = datetime.now()         # типа static\n",
    "    \n",
    "    def __init__(self, begin=None, end=None):\n",
    "        if begin is None:\n",
    "            begin = self.DEFAULT_BEGIN\n",
    "        if end is None:\n",
    "            end = self.DEFAULT_END\n",
    "        \n",
    "        self._begin = begin\n",
    "        self._end = end\n",
    "        \n",
    "    def get_length(self):\n",
    "        return self._end - self._begin\n",
    "    \n",
    "    def set_default_end(self, value):\n",
    "        self.DEFAULT_END = value"
   ]
  },
  {
   "cell_type": "code",
   "execution_count": 36,
   "metadata": {},
   "outputs": [
    {
     "data": {
      "text/plain": [
       "mappingproxy({'__module__': '__main__',\n",
       "              'DEFAULT_BEGIN': datetime.datetime(1970, 1, 1, 0, 0),\n",
       "              'DEFAULT_END': datetime.datetime(2022, 4, 19, 17, 33, 5, 316051),\n",
       "              '__init__': <function __main__.TimeInterval.__init__(self, begin=None, end=None)>,\n",
       "              'get_length': <function __main__.TimeInterval.get_length(self)>,\n",
       "              'set_default_end': <function __main__.TimeInterval.set_default_end(self, value)>,\n",
       "              '__dict__': <attribute '__dict__' of 'TimeInterval' objects>,\n",
       "              '__weakref__': <attribute '__weakref__' of 'TimeInterval' objects>,\n",
       "              '__doc__': None})"
      ]
     },
     "execution_count": 36,
     "metadata": {},
     "output_type": "execute_result"
    }
   ],
   "source": [
    "vars(TimeInterval)"
   ]
  },
  {
   "cell_type": "code",
   "execution_count": 37,
   "metadata": {},
   "outputs": [
    {
     "name": "stdout",
     "output_type": "stream",
     "text": [
      "Before:  2022-04-19 17:33:05.316051\n",
      "Current: 2022-04-19 17:33:12.752119\n",
      "After:   2022-04-19 17:33:05.316051\n"
     ]
    }
   ],
   "source": [
    "interval = TimeInterval()\n",
    "print(\"Before: \", interval.DEFAULT_END)\n",
    "\n",
    "sleep(3)\n",
    "\n",
    "print(\"Current:\", datetime.now())\n",
    "\n",
    "interval = TimeInterval()\n",
    "print(\"After:  \", interval.DEFAULT_END)"
   ]
  },
  {
   "cell_type": "code",
   "execution_count": 38,
   "metadata": {},
   "outputs": [
    {
     "name": "stdout",
     "output_type": "stream",
     "text": [
      "2022-04-19 17:33:05.316051\n",
      "2022-04-19 17:33:16.547016\n"
     ]
    }
   ],
   "source": [
    "interval.set_default_end(datetime.now())\n",
    "\n",
    "print(TimeInterval.DEFAULT_END)\n",
    "print(interval.DEFAULT_END)"
   ]
  },
  {
   "cell_type": "code",
   "execution_count": 39,
   "metadata": {},
   "outputs": [
    {
     "data": {
      "text/plain": [
       "{'_begin': datetime.datetime(1970, 1, 1, 0, 0),\n",
       " '_end': datetime.datetime(2022, 4, 19, 17, 33, 5, 316051),\n",
       " 'DEFAULT_END': datetime.datetime(2022, 4, 19, 17, 33, 16, 547016)}"
      ]
     },
     "execution_count": 39,
     "metadata": {},
     "output_type": "execute_result"
    }
   ],
   "source": [
    "vars(interval)"
   ]
  },
  {
   "cell_type": "code",
   "execution_count": 40,
   "metadata": {},
   "outputs": [
    {
     "data": {
      "text/plain": [
       "{'_begin': datetime.datetime(1970, 1, 1, 0, 0),\n",
       " '_end': datetime.datetime(2022, 4, 19, 17, 33, 5, 316051)}"
      ]
     },
     "execution_count": 40,
     "metadata": {},
     "output_type": "execute_result"
    }
   ],
   "source": [
    "interval = TimeInterval()\n",
    "\n",
    "vars(interval)"
   ]
  },
  {
   "cell_type": "code",
   "execution_count": 41,
   "metadata": {},
   "outputs": [],
   "source": [
    "class TimeInterval:\n",
    "    DEFAULT_BEGIN = datetime(1970, 1, 1)\n",
    "    DEFAULT_END   = datetime.now()\n",
    "    \n",
    "    def __init__(self, begin=None, end=None):\n",
    "        if begin is None:\n",
    "            begin = self.DEFAULT_BEGIN\n",
    "        if end is None:\n",
    "            end = self.DEFAULT_END\n",
    "        \n",
    "        self._begin = begin\n",
    "        self._end = end\n",
    "        \n",
    "    def get_length(self):\n",
    "        return self._end - self._begin\n",
    "    \n",
    "    \"\"\"\n",
    "    def set_default_end(self, value):\n",
    "        TimeInterval.DEFAULT_END = value\n",
    "    \"\"\"\n",
    "\n",
    "    @classmethod\n",
    "    def set_default_end(cls, value):\n",
    "        cls.DEFAULT_END = value\n",
    "        \n",
    "interval = TimeInterval()"
   ]
  },
  {
   "cell_type": "code",
   "execution_count": 42,
   "metadata": {},
   "outputs": [
    {
     "data": {
      "text/plain": [
       "<bound method TimeInterval.get_length of <__main__.TimeInterval object at 0x7fdd639de518>>"
      ]
     },
     "execution_count": 42,
     "metadata": {},
     "output_type": "execute_result"
    }
   ],
   "source": [
    "interval.get_length"
   ]
  },
  {
   "cell_type": "code",
   "execution_count": 43,
   "metadata": {},
   "outputs": [
    {
     "data": {
      "text/plain": [
       "<function __main__.TimeInterval.get_length(self)>"
      ]
     },
     "execution_count": 43,
     "metadata": {},
     "output_type": "execute_result"
    }
   ],
   "source": [
    "TimeInterval.get_length"
   ]
  },
  {
   "cell_type": "code",
   "execution_count": 44,
   "metadata": {},
   "outputs": [
    {
     "data": {
      "text/plain": [
       "<bound method TimeInterval.set_default_end of <class '__main__.TimeInterval'>>"
      ]
     },
     "execution_count": 44,
     "metadata": {},
     "output_type": "execute_result"
    }
   ],
   "source": [
    "interval.set_default_end"
   ]
  },
  {
   "cell_type": "code",
   "execution_count": 45,
   "metadata": {},
   "outputs": [
    {
     "data": {
      "text/plain": [
       "<bound method TimeInterval.set_default_end of <class '__main__.TimeInterval'>>"
      ]
     },
     "execution_count": 45,
     "metadata": {},
     "output_type": "execute_result"
    }
   ],
   "source": [
    "TimeInterval.set_default_end"
   ]
  },
  {
   "cell_type": "code",
   "execution_count": 46,
   "metadata": {},
   "outputs": [
    {
     "name": "stdout",
     "output_type": "stream",
     "text": [
      "2022-04-19 17:34:25.461720\n",
      "2022-04-19 17:34:25.461720\n"
     ]
    }
   ],
   "source": [
    "TimeInterval.set_default_end(datetime.now())\n",
    "\n",
    "print(TimeInterval.DEFAULT_END)\n",
    "print(interval.DEFAULT_END)"
   ]
  },
  {
   "cell_type": "code",
   "execution_count": 47,
   "metadata": {},
   "outputs": [
    {
     "name": "stdout",
     "output_type": "stream",
     "text": [
      "2022-04-19 17:34:32.280362\n",
      "2022-04-19 17:34:32.280362\n"
     ]
    }
   ],
   "source": [
    "interval.set_default_end(datetime.now())\n",
    "\n",
    "print(TimeInterval.DEFAULT_END)\n",
    "print(interval.DEFAULT_END)"
   ]
  },
  {
   "cell_type": "code",
   "execution_count": 48,
   "metadata": {},
   "outputs": [],
   "source": [
    "class TimeInterval:\n",
    "    DEFAULT_BEGIN = datetime(1970, 1, 1)\n",
    "    \n",
    "    def __init__(self, begin=None, end=None):\n",
    "        if begin is None:\n",
    "            begin = self.get_default_begin()\n",
    "        if end is None:\n",
    "            end = self.get_default_end()\n",
    "        \n",
    "        self._begin = begin\n",
    "        self._end = end\n",
    "        \n",
    "    def get_length(self):\n",
    "        return self._end - self._begin\n",
    "    \n",
    "    @staticmethod\n",
    "    def get_default_begin():\n",
    "        return TimeInterval.DEFAULT_BEGIN   # обязательно явно указывать имя класса\n",
    "    \n",
    "    @staticmethod\n",
    "    def get_default_end():\n",
    "        return datetime.now()\n",
    "    \n",
    "interval = TimeInterval()"
   ]
  },
  {
   "cell_type": "code",
   "execution_count": 49,
   "metadata": {},
   "outputs": [
    {
     "data": {
      "text/plain": [
       "<function __main__.TimeInterval.get_default_end()>"
      ]
     },
     "execution_count": 49,
     "metadata": {},
     "output_type": "execute_result"
    }
   ],
   "source": [
    "interval.get_default_end"
   ]
  },
  {
   "cell_type": "code",
   "execution_count": 50,
   "metadata": {},
   "outputs": [
    {
     "data": {
      "text/plain": [
       "<function __main__.TimeInterval.get_default_end()>"
      ]
     },
     "execution_count": 50,
     "metadata": {},
     "output_type": "execute_result"
    }
   ],
   "source": [
    "TimeInterval.get_default_end"
   ]
  },
  {
   "cell_type": "code",
   "execution_count": 51,
   "metadata": {},
   "outputs": [
    {
     "data": {
      "text/plain": [
       "datetime.datetime(2022, 4, 19, 17, 35, 7, 144693)"
      ]
     },
     "execution_count": 51,
     "metadata": {},
     "output_type": "execute_result"
    }
   ],
   "source": [
    "interval.get_default_end()"
   ]
  },
  {
   "cell_type": "code",
   "execution_count": 52,
   "metadata": {},
   "outputs": [
    {
     "data": {
      "text/plain": [
       "datetime.datetime(2022, 4, 19, 17, 35, 7, 864305)"
      ]
     },
     "execution_count": 52,
     "metadata": {},
     "output_type": "execute_result"
    }
   ],
   "source": [
    "TimeInterval.get_default_end()"
   ]
  },
  {
   "cell_type": "code",
   "execution_count": 53,
   "metadata": {},
   "outputs": [
    {
     "name": "stdout",
     "output_type": "stream",
     "text": [
      "Before:  2022-04-19 17:35:09.240447\n",
      "Current: 2022-04-19 17:35:12.245103\n",
      "After:   2022-04-19 17:35:12.245449\n"
     ]
    }
   ],
   "source": [
    "interval = TimeInterval()\n",
    "print(\"Before: \", interval._end)\n",
    "\n",
    "sleep(3)\n",
    "\n",
    "print(\"Current:\", datetime.now())\n",
    "\n",
    "interval = TimeInterval()\n",
    "print(\"After:  \", interval._end)"
   ]
  },
  {
   "cell_type": "markdown",
   "metadata": {},
   "source": [
    "<span style=\"color:blue;font-weight:bold\">Отличия</span> `staticmethod` от `classmethod`:\n",
    "\n",
    "* `staticmethod` – просто функция и не имеет неявной подстановки аргументов, в отличие от `classmethod` и обычных методов;\n",
    "* `staticmethod` можно переопределить в другом месте (например, в другом модуле), в отличие от `classmethod`."
   ]
  },
  {
   "cell_type": "markdown",
   "metadata": {},
   "source": [
    "## Вычислимые атрибуты класса (property / свойства)"
   ]
  },
  {
   "cell_type": "markdown",
   "metadata": {},
   "source": [
    "Реализуем класс `TimeInterval`, который задает временной интервал. Хотелось бы, чтобы:\n",
    "* значение конца интервала **всегда** было больше, либо равно его начала."
   ]
  },
  {
   "cell_type": "code",
   "execution_count": 54,
   "metadata": {},
   "outputs": [],
   "source": [
    "class TimeInterval:\n",
    "    DEFAULT_BEGIN = datetime(1991, 1, 1)\n",
    "    \n",
    "    def __init__(self, begin=None, end=None):\n",
    "        if begin is None:\n",
    "            begin = self.DEFAULT_BEGIN\n",
    "        if end is None:\n",
    "            end = self.get_default_end()\n",
    "        \n",
    "        self.begin = begin\n",
    "        self.end = max(begin, end)\n",
    "        \n",
    "    def get_length(self):\n",
    "        return self.end - self.begin\n",
    "    \n",
    "    @classmethod\n",
    "    def get_default_end(cls):\n",
    "        return datetime.now()"
   ]
  },
  {
   "cell_type": "code",
   "execution_count": 55,
   "metadata": {},
   "outputs": [
    {
     "data": {
      "text/plain": [
       "datetime.datetime(1991, 1, 1, 0, 0)"
      ]
     },
     "execution_count": 55,
     "metadata": {},
     "output_type": "execute_result"
    }
   ],
   "source": [
    "interval = TimeInterval(end=datetime(1986, 1, 1))\n",
    "interval.end"
   ]
  },
  {
   "cell_type": "code",
   "execution_count": 58,
   "metadata": {},
   "outputs": [
    {
     "data": {
      "text/plain": [
       "(datetime.datetime(1991, 1, 1, 0, 0), datetime.datetime(1969, 1, 1, 0, 0))"
      ]
     },
     "execution_count": 58,
     "metadata": {},
     "output_type": "execute_result"
    }
   ],
   "source": [
    "interval.end = datetime(1969, 1, 1)\n",
    "interval.begin, interval.end"
   ]
  },
  {
   "cell_type": "code",
   "execution_count": 59,
   "metadata": {},
   "outputs": [],
   "source": [
    "class TimeInterval:\n",
    "    DEFAULT_BEGIN = datetime(1991, 1, 1)\n",
    "    \n",
    "    def __init__(self, begin=None, end=None):\n",
    "        if begin is None or begin < self.DEFAULT_BEGIN:\n",
    "            begin = self.DEFAULT_BEGIN\n",
    "        if end is None:\n",
    "            end = self.get_default_end()\n",
    "        \n",
    "        self._begin = begin           # self.begin -> self._begin\n",
    "        self._end = max(begin, end)   # self.end   -> self._end\n",
    "    \n",
    "    end = property()\n",
    "    \n",
    "    @end.setter\n",
    "    def end(self, value):\n",
    "        self._end = max(self._begin, value)\n",
    "\n",
    "    @end.getter\n",
    "    def end(self):\n",
    "        return self._end\n",
    "\n",
    "    @end.deleter\n",
    "    def end(self):\n",
    "        del self._end\n",
    "        \n",
    "    def get_length(self):\n",
    "        return self._end - self._begin\n",
    "    \n",
    "    @classmethod\n",
    "    def get_default_end(cls):\n",
    "        return datetime.now()"
   ]
  },
  {
   "cell_type": "code",
   "execution_count": 60,
   "metadata": {},
   "outputs": [
    {
     "data": {
      "text/plain": [
       "datetime.datetime(1991, 1, 1, 0, 0)"
      ]
     },
     "execution_count": 60,
     "metadata": {},
     "output_type": "execute_result"
    }
   ],
   "source": [
    "interval = TimeInterval(end=datetime(1986, 1, 1))\n",
    "interval.end"
   ]
  },
  {
   "cell_type": "code",
   "execution_count": 61,
   "metadata": {},
   "outputs": [
    {
     "data": {
      "text/plain": [
       "datetime.datetime(1991, 1, 1, 0, 0)"
      ]
     },
     "execution_count": 61,
     "metadata": {},
     "output_type": "execute_result"
    }
   ],
   "source": [
    "interval.end = datetime(1969, 1, 1)\n",
    "interval.end"
   ]
  },
  {
   "cell_type": "code",
   "execution_count": 62,
   "metadata": {},
   "outputs": [
    {
     "ename": "AttributeError",
     "evalue": "'TimeInterval' object has no attribute '_end'",
     "output_type": "error",
     "traceback": [
      "\u001b[0;31m---------------------------------------------------------------------------\u001b[0m",
      "\u001b[0;31mAttributeError\u001b[0m                            Traceback (most recent call last)",
      "\u001b[0;32m<ipython-input-62-db2b2b95b5ac>\u001b[0m in \u001b[0;36m<module>\u001b[0;34m\u001b[0m\n\u001b[1;32m      1\u001b[0m \u001b[0;32mdel\u001b[0m \u001b[0minterval\u001b[0m\u001b[0;34m.\u001b[0m\u001b[0mend\u001b[0m\u001b[0;34m\u001b[0m\u001b[0;34m\u001b[0m\u001b[0m\n\u001b[0;32m----> 2\u001b[0;31m \u001b[0minterval\u001b[0m\u001b[0;34m.\u001b[0m\u001b[0mend\u001b[0m\u001b[0;34m\u001b[0m\u001b[0;34m\u001b[0m\u001b[0m\n\u001b[0m",
      "\u001b[0;32m<ipython-input-59-a2c1f25e9f10>\u001b[0m in \u001b[0;36mend\u001b[0;34m(self)\u001b[0m\n\u001b[1;32m     19\u001b[0m     \u001b[0;34m@\u001b[0m\u001b[0mend\u001b[0m\u001b[0;34m.\u001b[0m\u001b[0mgetter\u001b[0m\u001b[0;34m\u001b[0m\u001b[0;34m\u001b[0m\u001b[0m\n\u001b[1;32m     20\u001b[0m     \u001b[0;32mdef\u001b[0m \u001b[0mend\u001b[0m\u001b[0;34m(\u001b[0m\u001b[0mself\u001b[0m\u001b[0;34m)\u001b[0m\u001b[0;34m:\u001b[0m\u001b[0;34m\u001b[0m\u001b[0;34m\u001b[0m\u001b[0m\n\u001b[0;32m---> 21\u001b[0;31m         \u001b[0;32mreturn\u001b[0m \u001b[0mself\u001b[0m\u001b[0;34m.\u001b[0m\u001b[0m_end\u001b[0m\u001b[0;34m\u001b[0m\u001b[0;34m\u001b[0m\u001b[0m\n\u001b[0m\u001b[1;32m     22\u001b[0m \u001b[0;34m\u001b[0m\u001b[0m\n\u001b[1;32m     23\u001b[0m     \u001b[0;34m@\u001b[0m\u001b[0mend\u001b[0m\u001b[0;34m.\u001b[0m\u001b[0mdeleter\u001b[0m\u001b[0;34m\u001b[0m\u001b[0;34m\u001b[0m\u001b[0m\n",
      "\u001b[0;31mAttributeError\u001b[0m: 'TimeInterval' object has no attribute '_end'"
     ]
    }
   ],
   "source": [
    "del interval.end\n",
    "interval.end"
   ]
  },
  {
   "cell_type": "markdown",
   "metadata": {},
   "source": [
    "**Пример:** вычислимый readonly-атрибут"
   ]
  },
  {
   "cell_type": "code",
   "execution_count": 63,
   "metadata": {},
   "outputs": [
    {
     "data": {
      "text/plain": [
       "20"
      ]
     },
     "execution_count": 63,
     "metadata": {},
     "output_type": "execute_result"
    }
   ],
   "source": [
    "class Rectangle:\n",
    "    def __init__(self, a, b):\n",
    "        self._a = a\n",
    "        self._b = b\n",
    "        \n",
    "    @property\n",
    "    def square(self):\n",
    "        return self._a * self._b\n",
    "    \n",
    "r = Rectangle(10, 2)\n",
    "r.square"
   ]
  },
  {
   "cell_type": "code",
   "execution_count": 64,
   "metadata": {},
   "outputs": [
    {
     "ename": "AttributeError",
     "evalue": "can't set attribute",
     "output_type": "error",
     "traceback": [
      "\u001b[0;31m---------------------------------------------------------------------------\u001b[0m",
      "\u001b[0;31mAttributeError\u001b[0m                            Traceback (most recent call last)",
      "\u001b[0;32m<ipython-input-64-3a17396884b6>\u001b[0m in \u001b[0;36m<module>\u001b[0;34m\u001b[0m\n\u001b[0;32m----> 1\u001b[0;31m \u001b[0mr\u001b[0m\u001b[0;34m.\u001b[0m\u001b[0msquare\u001b[0m \u001b[0;34m=\u001b[0m \u001b[0;36m12\u001b[0m\u001b[0;34m\u001b[0m\u001b[0;34m\u001b[0m\u001b[0m\n\u001b[0m\u001b[1;32m      2\u001b[0m \u001b[0mr\u001b[0m\u001b[0;34m.\u001b[0m\u001b[0msquare\u001b[0m\u001b[0;34m\u001b[0m\u001b[0;34m\u001b[0m\u001b[0m\n",
      "\u001b[0;31mAttributeError\u001b[0m: can't set attribute"
     ]
    }
   ],
   "source": [
    "r.square = 12\n",
    "r.square"
   ]
  },
  {
   "cell_type": "markdown",
   "metadata": {},
   "source": [
    "## Магические методы"
   ]
  },
  {
   "cell_type": "code",
   "execution_count": 65,
   "metadata": {},
   "outputs": [
    {
     "data": {
      "text/plain": [
       "['__add__',\n",
       " '__class__',\n",
       " '__contains__',\n",
       " '__delattr__',\n",
       " '__delitem__',\n",
       " '__dir__',\n",
       " '__doc__',\n",
       " '__eq__',\n",
       " '__format__',\n",
       " '__ge__',\n",
       " '__getattribute__',\n",
       " '__getitem__',\n",
       " '__gt__',\n",
       " '__hash__',\n",
       " '__iadd__',\n",
       " '__imul__',\n",
       " '__init__',\n",
       " '__init_subclass__',\n",
       " '__iter__',\n",
       " '__le__',\n",
       " '__len__',\n",
       " '__lt__',\n",
       " '__mul__',\n",
       " '__ne__',\n",
       " '__new__',\n",
       " '__reduce__',\n",
       " '__reduce_ex__',\n",
       " '__repr__',\n",
       " '__reversed__',\n",
       " '__rmul__',\n",
       " '__setattr__',\n",
       " '__setitem__',\n",
       " '__sizeof__',\n",
       " '__str__',\n",
       " '__subclasshook__']"
      ]
     },
     "execution_count": 65,
     "metadata": {},
     "output_type": "execute_result"
    }
   ],
   "source": [
    "list(filter(lambda attr: attr.startswith(\"__\") and attr.endswith(\"__\"), dir(list)))"
   ]
  },
  {
   "cell_type": "markdown",
   "metadata": {},
   "source": [
    "### Пример: элемент кольца вычетов по модулю 4"
   ]
  },
  {
   "cell_type": "code",
   "execution_count": 66,
   "metadata": {},
   "outputs": [],
   "source": [
    "class RingInt:\n",
    "    modulo = 4\n",
    "    \n",
    "    def __init__(self, value):\n",
    "        self.value = value % self.modulo\n",
    "        \n",
    "    def __int__(self):\n",
    "        return self.value\n",
    "    \n",
    "    def __add__(self, obj):\n",
    "        return RingInt(self.value + obj.value)\n",
    "    \n",
    "    def __mul__(self, obj):\n",
    "        return RingInt(self.value * obj.value)"
   ]
  },
  {
   "cell_type": "code",
   "execution_count": 67,
   "metadata": {},
   "outputs": [
    {
     "data": {
      "text/plain": [
       "1"
      ]
     },
     "execution_count": 67,
     "metadata": {},
     "output_type": "execute_result"
    }
   ],
   "source": [
    "res = RingInt(2) + RingInt(3)\n",
    "res.value"
   ]
  },
  {
   "cell_type": "code",
   "execution_count": 68,
   "metadata": {},
   "outputs": [
    {
     "data": {
      "text/plain": [
       "2"
      ]
     },
     "execution_count": 68,
     "metadata": {},
     "output_type": "execute_result"
    }
   ],
   "source": [
    "res = RingInt(3) + RingInt(3)\n",
    "res.value"
   ]
  },
  {
   "cell_type": "code",
   "execution_count": 69,
   "metadata": {},
   "outputs": [
    {
     "data": {
      "text/plain": [
       "2"
      ]
     },
     "execution_count": 69,
     "metadata": {},
     "output_type": "execute_result"
    }
   ],
   "source": [
    "res = RingInt(2) * RingInt(3)\n",
    "res.value"
   ]
  },
  {
   "cell_type": "code",
   "execution_count": 70,
   "metadata": {},
   "outputs": [
    {
     "data": {
      "text/plain": [
       "1"
      ]
     },
     "execution_count": 70,
     "metadata": {},
     "output_type": "execute_result"
    }
   ],
   "source": [
    "res = RingInt(3) * RingInt(3)\n",
    "res.value"
   ]
  },
  {
   "cell_type": "code",
   "execution_count": 71,
   "metadata": {},
   "outputs": [
    {
     "data": {
      "text/plain": [
       "3"
      ]
     },
     "execution_count": 71,
     "metadata": {},
     "output_type": "execute_result"
    }
   ],
   "source": [
    "int(RingInt(3))"
   ]
  },
  {
   "cell_type": "markdown",
   "metadata": {},
   "source": [
    "### Пример: repr и str"
   ]
  },
  {
   "cell_type": "code",
   "execution_count": 72,
   "metadata": {},
   "outputs": [
    {
     "name": "stdout",
     "output_type": "stream",
     "text": [
      "[PLANET]\n",
      "\tname:   Earth\n",
      "\tmass:   5.9726\n",
      "\tradius: 6371\n",
      "\n",
      "[PLANET]\n",
      "\tname:   Earth\n",
      "\tmass:   5.9726\n",
      "\tradius: 6371\n"
     ]
    },
    {
     "data": {
      "text/plain": [
       "Planet(\"Earth\", 5.9726, 6371)"
      ]
     },
     "execution_count": 72,
     "metadata": {},
     "output_type": "execute_result"
    }
   ],
   "source": [
    "class Planet:\n",
    "    def __init__(self, name, mass, radius):\n",
    "        self.name = name\n",
    "        self.mass = mass\n",
    "        self.radius = radius\n",
    "        \n",
    "    def __str__(self):\n",
    "        return f\"[PLANET]\\n\\tname:   {self.name}\\n\\tmass:   {self.mass}\\n\\tradius: {self.radius}\"\n",
    "    \n",
    "    def __repr__(self):\n",
    "        return f'Planet(\"{self.name}\", {self.mass}, {self.radius})'\n",
    "    \n",
    "earth = Planet(\"Earth\", mass=5.9726, radius=6371)\n",
    "\n",
    "print(earth, end='\\n\\n')\n",
    "print(str(earth))\n",
    "earth"
   ]
  },
  {
   "cell_type": "code",
   "execution_count": 73,
   "metadata": {},
   "outputs": [
    {
     "data": {
      "text/plain": [
       "Planet(\"Earth\", 5.9726, 6371)"
      ]
     },
     "execution_count": 73,
     "metadata": {},
     "output_type": "execute_result"
    }
   ],
   "source": [
    "earth_ = eval(repr(earth))\n",
    "earth_"
   ]
  },
  {
   "cell_type": "code",
   "execution_count": 74,
   "metadata": {},
   "outputs": [
    {
     "data": {
      "text/plain": [
       "'Earth'"
      ]
     },
     "execution_count": 74,
     "metadata": {},
     "output_type": "execute_result"
    }
   ],
   "source": [
    "earth_.name"
   ]
  },
  {
   "cell_type": "markdown",
   "metadata": {},
   "source": [
    "### Пример: singleton (через декораторы классов)"
   ]
  },
  {
   "cell_type": "code",
   "execution_count": 75,
   "metadata": {},
   "outputs": [],
   "source": [
    "import functools\n",
    "\n",
    "def singleton(cls):\n",
    "    instance = None\n",
    "\n",
    "    @functools.wraps(cls)\n",
    "    def wrapper(*args, **kwargs):\n",
    "        nonlocal instance\n",
    "        if instance is None:\n",
    "            instance = cls(*args, **kwargs)\n",
    "        return instance\n",
    "    return wrapper"
   ]
  },
  {
   "cell_type": "code",
   "execution_count": 76,
   "metadata": {},
   "outputs": [
    {
     "data": {
      "text/plain": [
       "False"
      ]
     },
     "execution_count": 76,
     "metadata": {},
     "output_type": "execute_result"
    }
   ],
   "source": [
    "class A:\n",
    "    pass\n",
    "\n",
    "A() is A()"
   ]
  },
  {
   "cell_type": "code",
   "execution_count": 77,
   "metadata": {},
   "outputs": [
    {
     "data": {
      "text/plain": [
       "True"
      ]
     },
     "execution_count": 77,
     "metadata": {},
     "output_type": "execute_result"
    }
   ],
   "source": [
    "@singleton\n",
    "class A:\n",
    "    pass\n",
    "\n",
    "A() is A()"
   ]
  },
  {
   "cell_type": "markdown",
   "metadata": {},
   "source": [
    "### Пример: декоратор"
   ]
  },
  {
   "cell_type": "code",
   "execution_count": 78,
   "metadata": {},
   "outputs": [
    {
     "name": "stdout",
     "output_type": "stream",
     "text": [
      "rm: /tmp/decorator.logs: No such file or directory\n"
     ]
    }
   ],
   "source": [
    "!rm /tmp/decorator.logs || true"
   ]
  },
  {
   "cell_type": "code",
   "execution_count": 79,
   "metadata": {},
   "outputs": [
    {
     "data": {
      "text/plain": [
       "11"
      ]
     },
     "execution_count": 79,
     "metadata": {},
     "output_type": "execute_result"
    }
   ],
   "source": [
    "def logger(filename):\n",
    "    def decorator(func):\n",
    "        @functools.wraps(func)\n",
    "        def wrapper(*args, **argv):\n",
    "            result = func(*args, **argv)\n",
    "            with open(filename, 'a') as f_output:\n",
    "                f_output.write(\"func = \\\"{}\\\"; result = {}\\n\".format(func.__name__, result))\n",
    "            return result\n",
    "        return wrapper\n",
    "    return decorator\n",
    "\n",
    "@logger(\"/tmp/decorator.logs\")\n",
    "def summator(a):\n",
    "    return sum(a)\n",
    "\n",
    "summator([1, 2, 3, 5])"
   ]
  },
  {
   "cell_type": "code",
   "execution_count": 80,
   "metadata": {},
   "outputs": [
    {
     "name": "stdout",
     "output_type": "stream",
     "text": [
      "func = \"summator\"; result = 11\n"
     ]
    }
   ],
   "source": [
    "!cat /tmp/decorator.logs"
   ]
  },
  {
   "cell_type": "code",
   "execution_count": 81,
   "metadata": {},
   "outputs": [
    {
     "data": {
      "text/plain": [
       "[True, False, False, False, False]"
      ]
     },
     "execution_count": 81,
     "metadata": {},
     "output_type": "execute_result"
    }
   ],
   "source": [
    "[\"__call__\" in dir(cls) for cls in [logger, list, set, dict, int]]"
   ]
  },
  {
   "cell_type": "code",
   "execution_count": 82,
   "metadata": {},
   "outputs": [],
   "source": [
    "class Logger:\n",
    "    def __init__(self, filename):\n",
    "        self._filename = filename\n",
    "        \n",
    "    def __call__(self, func):\n",
    "        @functools.wraps(func)\n",
    "        def wrapper(*args, **argv):\n",
    "            result = func(*args, **argv)\n",
    "            with open(self._filename, 'a') as f_output:\n",
    "                f_output.write(\"func = \\\"{}\\\"; result = {}\\n\".format(func.__name__, result))\n",
    "            return result\n",
    "        return wrapper"
   ]
  },
  {
   "cell_type": "code",
   "execution_count": 83,
   "metadata": {},
   "outputs": [
    {
     "data": {
      "text/plain": [
       "17"
      ]
     },
     "execution_count": 83,
     "metadata": {},
     "output_type": "execute_result"
    }
   ],
   "source": [
    "logger = Logger(\"/tmp/decorator.logs\")\n",
    "\n",
    "@logger\n",
    "def summator(a):\n",
    "    return sum(a)\n",
    "\n",
    "summator([1, 2, 3, 5, 6])"
   ]
  },
  {
   "cell_type": "code",
   "execution_count": 84,
   "metadata": {},
   "outputs": [
    {
     "data": {
      "text/plain": [
       "12"
      ]
     },
     "execution_count": 84,
     "metadata": {},
     "output_type": "execute_result"
    }
   ],
   "source": [
    "@Logger(\"/tmp/decorator.logs\")\n",
    "def summator(a):\n",
    "    return sum(a)\n",
    "\n",
    "summator([1, 0, 0, 5, 6])"
   ]
  },
  {
   "cell_type": "code",
   "execution_count": 85,
   "metadata": {},
   "outputs": [
    {
     "name": "stdout",
     "output_type": "stream",
     "text": [
      "func = \"summator\"; result = 11\n",
      "func = \"summator\"; result = 17\n",
      "func = \"summator\"; result = 12\n"
     ]
    }
   ],
   "source": [
    "!cat /tmp/decorator.logs"
   ]
  },
  {
   "cell_type": "code",
   "execution_count": 86,
   "metadata": {},
   "outputs": [
    {
     "data": {
      "text/plain": [
       "'summator'"
      ]
     },
     "execution_count": 86,
     "metadata": {},
     "output_type": "execute_result"
    }
   ],
   "source": [
    "summator.__name__"
   ]
  },
  {
   "cell_type": "markdown",
   "metadata": {},
   "source": [
    "### Пример: итератор"
   ]
  },
  {
   "cell_type": "code",
   "execution_count": 87,
   "metadata": {},
   "outputs": [
    {
     "name": "stdout",
     "output_type": "stream",
     "text": [
      "1\n",
      "3\n",
      "5\n"
     ]
    }
   ],
   "source": [
    "def my_range(start, end, step=1):\n",
    "    curr = start\n",
    "    while curr < end:\n",
    "        yield curr\n",
    "        curr += step\n",
    "        \n",
    "for i in my_range(1, 7, 2):\n",
    "    print(i)"
   ]
  },
  {
   "cell_type": "code",
   "execution_count": 88,
   "metadata": {},
   "outputs": [
    {
     "data": {
      "text/plain": [
       "[True, True]"
      ]
     },
     "execution_count": 88,
     "metadata": {},
     "output_type": "execute_result"
    }
   ],
   "source": [
    "[method in dir(my_range(1, 7, 2)) for method in ['__iter__', '__next__']]"
   ]
  },
  {
   "cell_type": "code",
   "execution_count": 89,
   "metadata": {},
   "outputs": [],
   "source": [
    "class Range():\n",
    "    def __init__(self, start, end, step=1):\n",
    "        self._current = start\n",
    "        self._end = end\n",
    "        self._step = step\n",
    "        \n",
    "    def __iter__(self):\n",
    "        return self\n",
    "    \n",
    "    def __next__(self):\n",
    "        if self._current >= self._end:\n",
    "            raise StopIteration()\n",
    "        \n",
    "        ret = self._current\n",
    "        self._current += self._step\n",
    "        return ret"
   ]
  },
  {
   "cell_type": "code",
   "execution_count": 90,
   "metadata": {},
   "outputs": [
    {
     "name": "stdout",
     "output_type": "stream",
     "text": [
      "1\n",
      "3\n",
      "5\n"
     ]
    }
   ],
   "source": [
    "for i in Range(1, 7, 2):\n",
    "    print(i)"
   ]
  },
  {
   "cell_type": "code",
   "execution_count": 91,
   "metadata": {},
   "outputs": [
    {
     "name": "stdout",
     "output_type": "stream",
     "text": [
      "1\n",
      "3\n",
      "5\n"
     ]
    },
    {
     "ename": "StopIteration",
     "evalue": "",
     "output_type": "error",
     "traceback": [
      "\u001b[0;31m---------------------------------------------------------------------------\u001b[0m",
      "\u001b[0;31mStopIteration\u001b[0m                             Traceback (most recent call last)",
      "\u001b[0;32m<ipython-input-91-caf91738afca>\u001b[0m in \u001b[0;36m<module>\u001b[0;34m\u001b[0m\n\u001b[1;32m      4\u001b[0m \u001b[0mprint\u001b[0m\u001b[0;34m(\u001b[0m\u001b[0mnext\u001b[0m\u001b[0;34m(\u001b[0m\u001b[0mr\u001b[0m\u001b[0;34m)\u001b[0m\u001b[0;34m)\u001b[0m\u001b[0;34m\u001b[0m\u001b[0;34m\u001b[0m\u001b[0m\n\u001b[1;32m      5\u001b[0m \u001b[0mprint\u001b[0m\u001b[0;34m(\u001b[0m\u001b[0mnext\u001b[0m\u001b[0;34m(\u001b[0m\u001b[0mr\u001b[0m\u001b[0;34m)\u001b[0m\u001b[0;34m)\u001b[0m\u001b[0;34m\u001b[0m\u001b[0;34m\u001b[0m\u001b[0m\n\u001b[0;32m----> 6\u001b[0;31m \u001b[0mprint\u001b[0m\u001b[0;34m(\u001b[0m\u001b[0mnext\u001b[0m\u001b[0;34m(\u001b[0m\u001b[0mr\u001b[0m\u001b[0;34m)\u001b[0m\u001b[0;34m)\u001b[0m\u001b[0;34m\u001b[0m\u001b[0;34m\u001b[0m\u001b[0m\n\u001b[0m",
      "\u001b[0;32m<ipython-input-89-55b5c2e8ce3f>\u001b[0m in \u001b[0;36m__next__\u001b[0;34m(self)\u001b[0m\n\u001b[1;32m     10\u001b[0m     \u001b[0;32mdef\u001b[0m \u001b[0m__next__\u001b[0m\u001b[0;34m(\u001b[0m\u001b[0mself\u001b[0m\u001b[0;34m)\u001b[0m\u001b[0;34m:\u001b[0m\u001b[0;34m\u001b[0m\u001b[0;34m\u001b[0m\u001b[0m\n\u001b[1;32m     11\u001b[0m         \u001b[0;32mif\u001b[0m \u001b[0mself\u001b[0m\u001b[0;34m.\u001b[0m\u001b[0m_current\u001b[0m \u001b[0;34m>=\u001b[0m \u001b[0mself\u001b[0m\u001b[0;34m.\u001b[0m\u001b[0m_end\u001b[0m\u001b[0;34m:\u001b[0m\u001b[0;34m\u001b[0m\u001b[0;34m\u001b[0m\u001b[0m\n\u001b[0;32m---> 12\u001b[0;31m             \u001b[0;32mraise\u001b[0m \u001b[0mStopIteration\u001b[0m\u001b[0;34m(\u001b[0m\u001b[0;34m)\u001b[0m\u001b[0;34m\u001b[0m\u001b[0;34m\u001b[0m\u001b[0m\n\u001b[0m\u001b[1;32m     13\u001b[0m \u001b[0;34m\u001b[0m\u001b[0m\n\u001b[1;32m     14\u001b[0m         \u001b[0mret\u001b[0m \u001b[0;34m=\u001b[0m \u001b[0mself\u001b[0m\u001b[0;34m.\u001b[0m\u001b[0m_current\u001b[0m\u001b[0;34m\u001b[0m\u001b[0;34m\u001b[0m\u001b[0m\n",
      "\u001b[0;31mStopIteration\u001b[0m: "
     ]
    }
   ],
   "source": [
    "r = Range(1, 7, 2)\n",
    "\n",
    "print(next(r))\n",
    "print(next(r))\n",
    "print(next(r))\n",
    "print(next(r))"
   ]
  },
  {
   "cell_type": "markdown",
   "metadata": {},
   "source": [
    "### Пример: хешируемый объект"
   ]
  },
  {
   "cell_type": "code",
   "execution_count": 92,
   "metadata": {},
   "outputs": [],
   "source": [
    "class Key:\n",
    "    def __init__(self, key=1):\n",
    "        self.key = 1\n",
    "        \n",
    "    def __hash__(self):\n",
    "        return self.key"
   ]
  },
  {
   "cell_type": "code",
   "execution_count": 93,
   "metadata": {},
   "outputs": [
    {
     "data": {
      "text/plain": [
       "{<__main__.Key at 0x7fdd63aaccf8>: 2, 3: 4}"
      ]
     },
     "execution_count": 93,
     "metadata": {},
     "output_type": "execute_result"
    }
   ],
   "source": [
    "a = {}\n",
    "a[Key(3)] = 2\n",
    "a[3] = 4\n",
    "a"
   ]
  },
  {
   "cell_type": "code",
   "execution_count": 94,
   "metadata": {},
   "outputs": [
    {
     "ename": "KeyError",
     "evalue": "<__main__.Key object at 0x7fdd63aac390>",
     "output_type": "error",
     "traceback": [
      "\u001b[0;31m---------------------------------------------------------------------------\u001b[0m",
      "\u001b[0;31mKeyError\u001b[0m                                  Traceback (most recent call last)",
      "\u001b[0;32m<ipython-input-94-2f51c2eee0f4>\u001b[0m in \u001b[0;36m<module>\u001b[0;34m\u001b[0m\n\u001b[0;32m----> 1\u001b[0;31m \u001b[0ma\u001b[0m\u001b[0;34m[\u001b[0m\u001b[0mKey\u001b[0m\u001b[0;34m(\u001b[0m\u001b[0;36m3\u001b[0m\u001b[0;34m)\u001b[0m\u001b[0;34m]\u001b[0m\u001b[0;34m\u001b[0m\u001b[0;34m\u001b[0m\u001b[0m\n\u001b[0m",
      "\u001b[0;31mKeyError\u001b[0m: <__main__.Key object at 0x7fdd63aac390>"
     ]
    }
   ],
   "source": [
    "a[Key(3)]"
   ]
  },
  {
   "cell_type": "code",
   "execution_count": 95,
   "metadata": {},
   "outputs": [],
   "source": [
    "class Key:\n",
    "    def __init__(self, key=1):\n",
    "        self.key = 1\n",
    "        \n",
    "    def __hash__(self):\n",
    "        return self.key\n",
    "\n",
    "    def __eq__(self, other):\n",
    "        return isinstance(other, type(self)) and self.key == other.key"
   ]
  },
  {
   "cell_type": "code",
   "execution_count": 96,
   "metadata": {},
   "outputs": [
    {
     "data": {
      "text/plain": [
       "{<__main__.Key at 0x7fdd63aa7160>: 2, 3: 4}"
      ]
     },
     "execution_count": 96,
     "metadata": {},
     "output_type": "execute_result"
    }
   ],
   "source": [
    "a = {}\n",
    "a[Key(3)] = 2\n",
    "a[3] = 4\n",
    "a"
   ]
  },
  {
   "cell_type": "code",
   "execution_count": 97,
   "metadata": {},
   "outputs": [
    {
     "data": {
      "text/plain": [
       "2"
      ]
     },
     "execution_count": 97,
     "metadata": {},
     "output_type": "execute_result"
    }
   ],
   "source": [
    "a[Key(3)]"
   ]
  },
  {
   "cell_type": "markdown",
   "metadata": {},
   "source": [
    "### Другое:\n",
    "\n",
    "* `__getitem__` – взятие элемента из коллекции (перегрузка квадраттных скобочек).\n",
    "* `__contains__` – проверка наличия элемента (может быть заменена неэффективное проверкой при наличии `__iter__` и `__next__`);\n",
    "* `__len__` – длина коллекции."
   ]
  },
  {
   "cell_type": "markdown",
   "metadata": {},
   "source": [
    "## Наследование"
   ]
  },
  {
   "cell_type": "code",
   "execution_count": null,
   "metadata": {},
   "outputs": [],
   "source": [
    "class Rectangle:\n",
    "    def __init__(self, width, height, secret=\",S2v3oABJfos\"):\n",
    "        self._width  = width\n",
    "        self._height = height\n",
    "        \n",
    "        self.__secret = secret\n",
    "        \n",
    "    def area(self):\n",
    "        return self._width * self._height\n",
    "    \n",
    "    def trick_secret(self):\n",
    "        return self.__secret[5:] + self.__secret[:5]\n",
    "    \n",
    "    def __private_method(self):\n",
    "        pass\n",
    "\n",
    "    \n",
    "class Square(Rectangle):\n",
    "    def __init__(self, side):\n",
    "        super().__init__(side, side)\n",
    "        \n",
    "    def show_secret(self):\n",
    "        print(self.__secret)\n",
    "        \n",
    "\n",
    "rectangle = Rectangle(2, 3)\n",
    "square = Square(5)"
   ]
  },
  {
   "cell_type": "code",
   "execution_count": null,
   "metadata": {},
   "outputs": [],
   "source": [
    "print(\"Rectangle:\", rectangle.area())\n",
    "print(\"Square:\", square.area())"
   ]
  },
  {
   "cell_type": "code",
   "execution_count": null,
   "metadata": {},
   "outputs": [],
   "source": [
    "square._width"
   ]
  },
  {
   "cell_type": "code",
   "execution_count": null,
   "metadata": {},
   "outputs": [],
   "source": [
    "square.show_secret()"
   ]
  },
  {
   "cell_type": "code",
   "execution_count": null,
   "metadata": {},
   "outputs": [],
   "source": [
    "dir(square)[:2]"
   ]
  },
  {
   "cell_type": "code",
   "execution_count": null,
   "metadata": {},
   "outputs": [],
   "source": [
    "vars(square)"
   ]
  },
  {
   "cell_type": "code",
   "execution_count": null,
   "metadata": {},
   "outputs": [],
   "source": [
    "square.trick_secret()"
   ]
  },
  {
   "cell_type": "markdown",
   "metadata": {},
   "source": [
    "### Перегрузка функций"
   ]
  },
  {
   "cell_type": "code",
   "execution_count": null,
   "metadata": {},
   "outputs": [],
   "source": [
    "class Porter:\n",
    "    def greetings(self):\n",
    "        print(\"Hello world!\")\n",
    "    \n",
    "    def greetings(self, a):\n",
    "        print(f\"Bonjour, {a}!\")"
   ]
  },
  {
   "cell_type": "code",
   "execution_count": null,
   "metadata": {},
   "outputs": [],
   "source": [
    "p = Porter()\n",
    "p.greetings('Alexandr')\n",
    "p.greetings()"
   ]
  },
  {
   "cell_type": "code",
   "execution_count": null,
   "metadata": {},
   "outputs": [],
   "source": [
    "vars(Porter)"
   ]
  },
  {
   "cell_type": "code",
   "execution_count": null,
   "metadata": {},
   "outputs": [],
   "source": [
    "class Square(Rectangle):\n",
    "    def __init__(self, side):\n",
    "        super().__init__(side, side)\n",
    "        \n",
    "    def trick_secret(self, message):\n",
    "        return \"I don't know secret message. Let's try this one: \" + message\n",
    "    \n",
    "square = Square(5)"
   ]
  },
  {
   "cell_type": "code",
   "execution_count": null,
   "metadata": {},
   "outputs": [],
   "source": [
    "square.trick_secret()"
   ]
  },
  {
   "cell_type": "code",
   "execution_count": null,
   "metadata": {},
   "outputs": [],
   "source": [
    "vars(Square)"
   ]
  },
  {
   "cell_type": "code",
   "execution_count": null,
   "metadata": {},
   "outputs": [],
   "source": [
    "vars(Rectangle)"
   ]
  },
  {
   "cell_type": "markdown",
   "metadata": {},
   "source": [
    "## Абстрактные классы"
   ]
  },
  {
   "cell_type": "code",
   "execution_count": null,
   "metadata": {},
   "outputs": [],
   "source": [
    "from math import pi\n",
    "\n",
    "from abc import ABCMeta, abstractmethod\n",
    "\n",
    "\n",
    "class Figure(metaclass=ABCMeta):\n",
    "    @abstractmethod\n",
    "    def area(self):\n",
    "        pass\n",
    "\n",
    "\n",
    "class Circle(Figure):\n",
    "    def __init__(self, radius):\n",
    "        self._radius = radius\n",
    "        \n",
    "    def area(self):\n",
    "        return pi * self._radius ** 2\n",
    "\n",
    "\n",
    "class Rectangle(Figure):\n",
    "    def __init__(self, width, height):\n",
    "        self._width  = width\n",
    "        self._height = height\n",
    "        \n",
    "    def area(self):\n",
    "        return self._width * self._height\n",
    "\n",
    "    \n",
    "class Square(Rectangle):\n",
    "    def __init__(self, side):\n",
    "        super().__init__(side, side)"
   ]
  },
  {
   "cell_type": "code",
   "execution_count": null,
   "metadata": {},
   "outputs": [],
   "source": [
    "print(\"Rectangle:\", Rectangle(2, 3).area())\n",
    "print(\"Square:\", Square(5).area())\n",
    "print(\"Circle:\", Circle(1.5).area())\n",
    "print(\"Figure:\", Figure().area())"
   ]
  },
  {
   "cell_type": "markdown",
   "metadata": {},
   "source": [
    "<span style=\"color:blue;font-weight:bold\">Вопрос:</span> нужен ли в Python механизм виртуальных функций?\n",
    "    \n",
    "https://repl.it/@vbugaevskii/VirtualFuncCpp"
   ]
  },
  {
   "cell_type": "markdown",
   "metadata": {},
   "source": [
    "## Множественное наследование"
   ]
  },
  {
   "cell_type": "code",
   "execution_count": null,
   "metadata": {},
   "outputs": [],
   "source": [
    "class A:\n",
    "    def __init__(self, a):\n",
    "        print(\"A's __init__ is called\")\n",
    "        self.a = a\n",
    "    \n",
    "    def method(self):\n",
    "        print(\"A's method is called\")\n",
    "        \n",
    "class B:\n",
    "    def __init__(self, b):\n",
    "        print(\"B's __init__ is called\")\n",
    "        self.b = b\n",
    "    \n",
    "    def method(self):\n",
    "        print(\"B's method is called\")"
   ]
  },
  {
   "cell_type": "code",
   "execution_count": null,
   "metadata": {},
   "outputs": [],
   "source": [
    "class C(A, B):\n",
    "    def __init__(self, a, b):\n",
    "        print(\"C's __init__ is called\")\n",
    "        A.__init__(self, a)\n",
    "        B.__init__(self, b)\n",
    "    \n",
    "    def method(self):\n",
    "        print(\"C's method is called\")"
   ]
  },
  {
   "cell_type": "code",
   "execution_count": null,
   "metadata": {},
   "outputs": [],
   "source": [
    "help(C)"
   ]
  },
  {
   "cell_type": "code",
   "execution_count": null,
   "metadata": {},
   "outputs": [],
   "source": [
    "C.__bases__"
   ]
  },
  {
   "cell_type": "code",
   "execution_count": null,
   "metadata": {},
   "outputs": [],
   "source": [
    "c = C(12, 5)\n",
    "print(\"c.a =\", c.a)\n",
    "print(\"c.b =\", c.b)\n",
    "c.method()"
   ]
  },
  {
   "cell_type": "code",
   "execution_count": null,
   "metadata": {},
   "outputs": [],
   "source": [
    "vars(c)"
   ]
  },
  {
   "cell_type": "code",
   "execution_count": null,
   "metadata": {},
   "outputs": [],
   "source": [
    "class C(A, B):\n",
    "    def __init__(self, a, b):\n",
    "        print(\"C's __init__ is called\")\n",
    "        A.__init__(self, a)\n",
    "        B.__init__(self, b)"
   ]
  },
  {
   "cell_type": "code",
   "execution_count": null,
   "metadata": {},
   "outputs": [],
   "source": [
    "c = C(12, 5)\n",
    "c.method()"
   ]
  },
  {
   "cell_type": "code",
   "execution_count": null,
   "metadata": {},
   "outputs": [],
   "source": [
    "class C(A, B):\n",
    "    def __init__(self, a, b):\n",
    "        print(\"C's __init__ is called\")\n",
    "        A.__init__(self, a)\n",
    "        B.__init__(self, b)\n",
    "        \n",
    "    def method(self):\n",
    "        return super().method()"
   ]
  },
  {
   "cell_type": "code",
   "execution_count": null,
   "metadata": {},
   "outputs": [],
   "source": [
    "c = C(12, 5)\n",
    "c.method()"
   ]
  },
  {
   "cell_type": "code",
   "execution_count": null,
   "metadata": {},
   "outputs": [],
   "source": [
    "C.__mro__   # method resolution order"
   ]
  },
  {
   "cell_type": "code",
   "execution_count": null,
   "metadata": {},
   "outputs": [],
   "source": [
    "class A:\n",
    "    def __init__(self, a):\n",
    "        print(\"A's __init__ is called\")\n",
    "        self.a = a\n",
    "        \n",
    "class B:\n",
    "    def __init__(self, b):\n",
    "        print(\"B's __init__ is called\")\n",
    "        self.b = b\n",
    "    \n",
    "    def method(self):\n",
    "        print(\"B's method is called\")\n",
    "        \n",
    "class C(A, B):\n",
    "    def __init__(self, a, b):\n",
    "        print(\"C's __init__ is called\")\n",
    "        A.__init__(self, a)\n",
    "        B.__init__(self, b)"
   ]
  },
  {
   "cell_type": "code",
   "execution_count": null,
   "metadata": {},
   "outputs": [],
   "source": [
    "c = C(12, 5)\n",
    "c.method()"
   ]
  },
  {
   "cell_type": "code",
   "execution_count": null,
   "metadata": {},
   "outputs": [],
   "source": [
    "print(\"{:20}  type  isinstance\".format(''))\n",
    "for cls in C.__mro__:\n",
    "    print(\"{:20}  {:4}  {:10}\".format(str(cls), type(c) is cls, isinstance(c, cls)))"
   ]
  },
  {
   "cell_type": "markdown",
   "metadata": {},
   "source": [
    "## Как работает super?"
   ]
  },
  {
   "cell_type": "code",
   "execution_count": null,
   "metadata": {},
   "outputs": [],
   "source": [
    "class A:    \n",
    "    def get_some(self):\n",
    "        super().get_some()\n",
    "\n",
    "class B:\n",
    "    def get_some(self):\n",
    "        print('Some')\n",
    "        \n",
    "class C(A, B):\n",
    "    def get_some(self):\n",
    "        super().get_some()\n",
    "\n",
    "c = C()\n",
    "c.get_some()"
   ]
  },
  {
   "cell_type": "code",
   "execution_count": null,
   "metadata": {},
   "outputs": [],
   "source": [
    "C.__mro__"
   ]
  },
  {
   "cell_type": "code",
   "execution_count": null,
   "metadata": {},
   "outputs": [],
   "source": [
    "class A:\n",
    "    def get_some(self):\n",
    "        print('#A', super())\n",
    "        super().get_some()\n",
    "\n",
    "class B:\n",
    "    def get_some(self):\n",
    "        print('#B', super())\n",
    "        print('Some')\n",
    "\n",
    "class C(A, B):\n",
    "    def get_some(self):\n",
    "        print('#C', super())\n",
    "        super().get_some()\n",
    "\n",
    "c = C()\n",
    "c.get_some()"
   ]
  },
  {
   "cell_type": "code",
   "execution_count": null,
   "metadata": {},
   "outputs": [],
   "source": [
    "class A:\n",
    "    def get_some(self):\n",
    "        super(A, self).get_some()\n",
    "\n",
    "class B:\n",
    "    def get_some(self):\n",
    "        print('Some')\n",
    "\n",
    "class C(A, B):\n",
    "    def get_some(self):\n",
    "        super(C, self).get_some()\n",
    "\n",
    "c = C()\n",
    "c.get_some()"
   ]
  },
  {
   "cell_type": "code",
   "execution_count": null,
   "metadata": {},
   "outputs": [],
   "source": [
    "C.__mro__"
   ]
  },
  {
   "cell_type": "code",
   "execution_count": null,
   "metadata": {},
   "outputs": [],
   "source": [
    "a = A()\n",
    "a.get_some()"
   ]
  },
  {
   "cell_type": "code",
   "execution_count": null,
   "metadata": {},
   "outputs": [],
   "source": [
    "A.__mro__"
   ]
  },
  {
   "cell_type": "markdown",
   "metadata": {},
   "source": [
    "Подробнее о Method Resolution Order (MRO) можно прочитать [здесь](https://habr.com/post/62203/)."
   ]
  },
  {
   "cell_type": "code",
   "execution_count": null,
   "metadata": {},
   "outputs": [],
   "source": []
  }
 ],
 "metadata": {
  "kernelspec": {
   "display_name": "Python 3",
   "language": "python",
   "name": "python3"
  },
  "language_info": {
   "codemirror_mode": {
    "name": "ipython",
    "version": 3
   },
   "file_extension": ".py",
   "mimetype": "text/x-python",
   "name": "python",
   "nbconvert_exporter": "python",
   "pygments_lexer": "ipython3",
   "version": "3.7.3"
  },
  "widgets": {
   "application/vnd.jupyter.widget-state+json": {
    "state": {},
    "version_major": 2,
    "version_minor": 0
   }
  }
 },
 "nbformat": 4,
 "nbformat_minor": 4
}
