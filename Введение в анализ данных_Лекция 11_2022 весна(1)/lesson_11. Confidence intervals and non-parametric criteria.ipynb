{
 "cells": [
  {
   "cell_type": "markdown",
   "metadata": {},
   "source": [
    "# Доверительные инетрвалы и непараметрические критерии"
   ]
  },
  {
   "cell_type": "code",
   "execution_count": 4,
   "metadata": {},
   "outputs": [],
   "source": [
    "import pandas as pd\n",
    "import matplotlib.pyplot as plt\n",
    "%matplotlib inline\n",
    "import seaborn as sns\n",
    "import numpy as np\n",
    "import itertools\n",
    "import scipy\n",
    "import tqdm\n",
    "from scipy import stats\n",
    "import random\n",
    "\n",
    "from IPython.display import *"
   ]
  },
  {
   "cell_type": "markdown",
   "metadata": {},
   "source": [
    "### <img width = '1200px' src=\"images/scheme.png\">"
   ]
  },
  {
   "cell_type": "markdown",
   "metadata": {},
   "source": [
    "### 1. Доверительные интервалы"
   ]
  },
  {
   "cell_type": "markdown",
   "metadata": {},
   "source": [
    "Проверка гипотез - качественная оценка, с помощью доверительных интервалов можем получить количественную оценку.\n",
    "\n",
    "В математической статистике **доверительный интервал** - интервал, в пределах которого с заданной вероятностью лежат выборочные оценки статистических характеристик генеральной совокупности."
   ]
  },
  {
   "cell_type": "markdown",
   "metadata": {},
   "source": [
    "#### Доверительный интервал для среднего"
   ]
  },
  {
   "cell_type": "markdown",
   "metadata": {},
   "source": [
    "Рассмотрим асимптотический критерий Z, который рассчитывался по формуле: "
   ]
  },
  {
   "cell_type": "markdown",
   "metadata": {},
   "source": [
    " $  \\large Z = \\frac{\\bar {X} - \\mu}{ \\frac{S}{\\sqrt{n}}  } $ ~  $N(0,1)$ при верной $H_0$,\n",
    " \n",
    " $ \\large P (-Z_{1 - \\frac{\\alpha}{2}} \\le \\frac{\\bar {X} - \\mu}{ \\frac{S}{\\sqrt{n}}  } \\le Z_{1 - \\frac{\\alpha}{2}}) = 1 - \\alpha $"
   ]
  },
  {
   "cell_type": "markdown",
   "metadata": {},
   "source": [
    "Видоизменив формулу, можно получить формулу доверительного интервала для среднего:"
   ]
  },
  {
   "cell_type": "markdown",
   "metadata": {},
   "source": [
    " $ \\large P (\\bar {X} -Z_{1 - \\frac{\\alpha}{2}} \\frac{S}{\\sqrt{n} }  \\le \\mu \\le \\bar {X}  + Z_{1 - \\frac{\\alpha}{2}}\\frac{S}{\\sqrt{n} } ) = 1 - \\alpha $"
   ]
  },
  {
   "cell_type": "markdown",
   "metadata": {},
   "source": [
    "Приводя k-процентный доверительный интервал среднего, мы утверждаем, что вероятность того, что истинное среднее находится в этом интервале, равна k. Иными словами, если получить все возможные выборки из некоторой совокупности и для каждой рассчитать k-процентный доверительный интервал, то доля интервалов, содержащих среднее по совокупности (истинное среднее), составит k."
   ]
  },
  {
   "cell_type": "markdown",
   "metadata": {},
   "source": [
    "Аналогично можно получить формулы для доверительных интервалов среднего с небольшим числом наблюдений и известной дисперсией:"
   ]
  },
  {
   "cell_type": "markdown",
   "metadata": {},
   "source": [
    " $ \\large P (\\bar {X} -Z_{1 - \\frac{\\alpha}{2}} \\frac{\\sigma}{\\sqrt{n} }  \\le \\mu \\le \\bar {X}  + Z_{1 - \\frac{\\alpha}{2}}\\frac{\\sigma}{\\sqrt{n} } ) = 1 - \\alpha $"
   ]
  },
  {
   "cell_type": "markdown",
   "metadata": {},
   "source": [
    "также с использованием t-критерия для оценки по выборке с неизвестной дисперсией и небольшим числом наблюдений:"
   ]
  },
  {
   "cell_type": "markdown",
   "metadata": {},
   "source": [
    " $ \\large P (\\bar {X} -t_{1 - \\frac{\\alpha}{2}} \\frac{S}{\\sqrt{n} }  \\le \\mu \\le \\bar {X}  + t_{1 - \\frac{\\alpha}{2}}\\frac{S}{\\sqrt{n} } ) = 1 - \\alpha $"
   ]
  },
  {
   "cell_type": "markdown",
   "metadata": {},
   "source": [
    "**Задача**"
   ]
  },
  {
   "cell_type": "markdown",
   "metadata": {},
   "source": [
    "Необходимо найти доверительный интервал для времени доставки заказа курьерами. "
   ]
  },
  {
   "cell_type": "code",
   "execution_count": 265,
   "metadata": {},
   "outputs": [],
   "source": [
    "sample = [32.8, 44.3, 29. , 23.5, 26.7, 39. , 36.2, 25.6, 37.9, 36.5, 43.8,\n",
    "       59.7, 37.7, 38.4, 32.1, 28.2, 34.4, 22.1, 12.6, 26.9, 29.9, 55.5,\n",
    "       34.1, 22.4, 25.4, 40. , 22.5, 38.8, 43.6, 34.4]"
   ]
  },
  {
   "cell_type": "markdown",
   "metadata": {},
   "source": [
    "**Решение задачи**"
   ]
  },
  {
   "cell_type": "markdown",
   "metadata": {},
   "source": [
    "Установим уровень значимости α = 5%."
   ]
  },
  {
   "cell_type": "code",
   "execution_count": 266,
   "metadata": {},
   "outputs": [
    {
     "data": {
      "text/plain": [
       "(30.088604935631402, 37.51139506436859)"
      ]
     },
     "execution_count": 266,
     "metadata": {},
     "output_type": "execute_result"
    }
   ],
   "source": [
    "import statsmodels.stats.api as sms\n",
    "t = sms.DescrStatsW(sample)\n",
    "t.tconfint_mean(alpha=0.05, alternative='two-sided')"
   ]
  },
  {
   "cell_type": "code",
   "execution_count": null,
   "metadata": {},
   "outputs": [],
   "source": [
    "def mean_confidence_interval(data, confidence=0.95):\n",
    "    a = 1.0 * np.array(data)\n",
    "    n = len(a)\n",
    "    m, se = np.mean(a), scipy.stats.sem(a)\n",
    "    h = se * scipy.stats.t.ppf((1 + confidence) / 2., n-1)\n",
    "    return m, m-h, m+h"
   ]
  },
  {
   "cell_type": "markdown",
   "metadata": {},
   "source": [
    "То есть, с 95% вероятностью можно утверждать, что время доставки будет от 30 до 38 минут."
   ]
  },
  {
   "cell_type": "markdown",
   "metadata": {},
   "source": [
    "#### Доверительный интервал для разности средних"
   ]
  },
  {
   "cell_type": "markdown",
   "metadata": {},
   "source": [
    "Рассмотрим критерий Стьюдента t для оценки разности выборочных средних."
   ]
  },
  {
   "cell_type": "markdown",
   "metadata": {},
   "source": [
    "Для случайных выборок, извлеченных из одной совокупности, распределение всех возможных значений t (распределение Стьюдента) симметрично относительно среднего, равного нулю. Если же выборки извлечены из двух совокупностей с разными средними, то распределение всех возможных значений t будет иметь среднее, отличное от нуля. Формулу для t можно видоизменить так, чтобы распределение t было всегда симметрично относительно нуля:"
   ]
  },
  {
   "cell_type": "markdown",
   "metadata": {},
   "source": [
    "$  \\large t  = \\frac{\\overline{X}-\\overline{Y} - (\\mu_x - \\mu_y)} \n",
    "{ \\sqrt{ \\frac{S^2_x}{n_x} + \\frac{S^2_y}{n_y} } } $"
   ]
  },
  {
   "cell_type": "markdown",
   "metadata": {},
   "source": [
    "Отсюда можно вывести формулу доверительного интервала для оценки разности средних:"
   ]
  },
  {
   "cell_type": "markdown",
   "metadata": {},
   "source": [
    "$ (\\overline{X}-\\overline{Y}) - t(n_x + n_y - 2)_{ \\frac{\\alpha}{ 2}} \\sqrt{ \\frac{S^2_x}{n_x} + \\frac{S^2_y}{n_y} }  < \\mu_x - \\mu_y <  (\\overline{X}-\\overline{Y}) + t(n_x + n_y - 2)_{\\frac{\\alpha}{ 2}} \\sqrt{ \\frac{S^2_x}{n_x} + \\frac{S^2_y}{n_y} } $"
   ]
  },
  {
   "cell_type": "markdown",
   "metadata": {},
   "source": [
    " $  P (  (\\overline{X}-\\overline{Y}) - t(n_x + n_y - 2)_{ \\frac{\\alpha}{ 2}} \\sqrt{ \\frac{S^2_x}{n_x} + \\frac{S^2_y}{n_y} }  < \\mu_x - \\mu_y <  (\\overline{X}-\\overline{Y}) + t(n_x + n_y - 2)_{\\frac{\\alpha}{ 2}} \\sqrt{ \\frac{S^2_x}{n_x} + \\frac{S^2_y}{n_y} }) = 1 - \\alpha $"
   ]
  },
  {
   "cell_type": "markdown",
   "metadata": {},
   "source": [
    "По аналогии оцениваются прочие двувыборочные критерии для разных случаев:"
   ]
  },
  {
   "cell_type": "markdown",
   "metadata": {},
   "source": [
    "1. асимптотический при большом числе наблюдений"
   ]
  },
  {
   "cell_type": "markdown",
   "metadata": {},
   "source": [
    " $  P (  (\\overline{X}-\\overline{Y}) - z_{ \\frac{\\alpha}{ 2}} \\sqrt{ \\frac{S^2_x}{n_x} + \\frac{S^2_y}{n_y} }  < \\mu_x - \\mu_y <  (\\overline{X}-\\overline{Y}) + z_{\\frac{\\alpha}{ 2}} \\sqrt{ \\frac{S^2_x}{n_x} + \\frac{S^2_y}{n_y} }) = 1 - \\alpha $"
   ]
  },
  {
   "cell_type": "markdown",
   "metadata": {},
   "source": [
    "2. известны дисперсии генеральной совокупности"
   ]
  },
  {
   "cell_type": "markdown",
   "metadata": {},
   "source": [
    " $  P (  (\\overline{X}-\\overline{Y}) - z_{ \\frac{\\alpha}{ 2}} \\sqrt{ \\frac{\\sigma^2_x}{n_x} + \\frac{\\sigma^2_y}{n_y} }  < \\mu_x - \\mu_y <  (\\overline{X}-\\overline{Y}) + z_{\\frac{\\alpha}{ 2}} \\sqrt{ \\frac{\\sigma^2_x}{n_x} + \\frac{\\sigma^2_y}{n_y} }) = 1 - \\alpha $"
   ]
  },
  {
   "cell_type": "markdown",
   "metadata": {},
   "source": [
    "3. неизвестны дисперсии генеральной совокупности, известно только, что они равны "
   ]
  },
  {
   "cell_type": "markdown",
   "metadata": {},
   "source": [
    " $  P (  (\\overline{X}-\\overline{Y}) - t(n_x + n_y - 2)_{ \\frac{\\alpha}{ 2}} \\sqrt{ \\frac{S^2_x}{n_x} + \\frac{S^2_y}{n_y} }  < \\mu_x - \\mu_y <  (\\overline{X}-\\overline{Y}) + t(n_x + n_y - 2)_{\\frac{\\alpha}{ 2}} \\sqrt{ \\frac{S^2_x}{n_x} + \\frac{S^2_y}{n_y} }) = 1 - \\alpha $"
   ]
  },
  {
   "cell_type": "markdown",
   "metadata": {},
   "source": [
    "4. неизвестны дисперсии и они могут быть не равны"
   ]
  },
  {
   "cell_type": "markdown",
   "metadata": {},
   "source": [
    " $  P (  (\\overline{X}-\\overline{Y}) - t(d)_{ \\frac{\\alpha}{ 2}} \\sqrt{ \\frac{S^2_x}{n_x} + \\frac{S^2_y}{n_y} }  < \\mu_x - \\mu_y <  (\\overline{X}-\\overline{Y}) + t(d)_{\\frac{\\alpha}{ 2}} \\sqrt{ \\frac{S^2_x}{n_x} + \\frac{S^2_y}{n_y} }) = 1 - \\alpha $\n",
    " \n",
    " $ d = \\large \\frac{(\\frac{S^2_x}{n_x} + \\frac{S^2_y}{n_y})^2} \n",
    "{\\frac{S^4_x}{n_x^2(n_x - 1)} + \\frac{S^4_y}{n_y^2(n_y - 1)} }$"
   ]
  },
  {
   "cell_type": "markdown",
   "metadata": {},
   "source": [
    "Для средних из зависимых выборок (наблюдаем изменения\n",
    "на одних и тех же объектах) работают те же самые\n",
    "доверительные интервалы, что и для одновыборочных средних."
   ]
  },
  {
   "cell_type": "markdown",
   "metadata": {},
   "source": [
    "**Задача**"
   ]
  },
  {
   "cell_type": "markdown",
   "metadata": {},
   "source": [
    "Необходимо найти доверительный интервал разности времени доставки заказов курьерами на велосипедах и на самокатах."
   ]
  },
  {
   "cell_type": "markdown",
   "metadata": {},
   "source": [
    "**Решение задачи**"
   ]
  },
  {
   "cell_type": "markdown",
   "metadata": {},
   "source": [
    "Установим уровень значимости α = 5%."
   ]
  },
  {
   "cell_type": "code",
   "execution_count": 17,
   "metadata": {},
   "outputs": [],
   "source": [
    "sample_vel = [32.8, 44.3, 29. , 23.5, 26.7, 39. , 36.2, 25.6, 37.9, 36.5, 43.8,\n",
    "       59.7, 37.7, 38.4, 32.1, 28.2, 34.4, 22.1, 12.6, 26.9, 29.9, 55.5,\n",
    "       34.1, 22.4, 25.4, 40. , 22.5, 38.8, 43.6, 34.4]\n",
    "sample_sam = [34.2, 35.4, 53.2, 37.8, 34.6, 31.4, 35.8, 40.4, 32.4, 29.8, 30.9,\n",
    "       52.5, 44. , 32.3, 39.3, 31.7, 48.3, 34.7, 41.1, 52.3, 38.8, 55.8,\n",
    "       35.4, 32.3, 31.4, 37.6, 33.3, 42.9, 48.9, 39.2]"
   ]
  },
  {
   "cell_type": "code",
   "execution_count": 40,
   "metadata": {},
   "outputs": [
    {
     "data": {
      "text/plain": [
       "(-9.688119825698426, -0.558546840968245)"
      ]
     },
     "execution_count": 40,
     "metadata": {},
     "output_type": "execute_result"
    }
   ],
   "source": [
    "import statsmodels.stats.api as sms\n",
    "cm = sms.CompareMeans(sms.DescrStatsW(sample_vel), \n",
    "                      sms.DescrStatsW(sample_sam))\n",
    "cm.tconfint_diff(usevar='unequal')"
   ]
  },
  {
   "cell_type": "markdown",
   "metadata": {},
   "source": [
    "C 95% вероятностью можно утверждать, что доставка заказов на велосипеде быстрее, чем на самокате от 10 до 1 минуты."
   ]
  },
  {
   "cell_type": "markdown",
   "metadata": {},
   "source": [
    "#### Доверительный интервал для долей"
   ]
  },
  {
   "cell_type": "markdown",
   "metadata": {},
   "source": [
    "1. для доли"
   ]
  },
  {
   "cell_type": "markdown",
   "metadata": {},
   "source": [
    " $  P (  p_0 - z_{ \\frac{\\alpha}{ 2}} \\sqrt{ \\frac{p_0(1 - p_0)}{n}}  < p< p_0 + z_{\\frac{\\alpha}{ 2}} \\sqrt{ \\frac{p_0(1 - p_0)}{n} }) = 1 - \\alpha $"
   ]
  },
  {
   "cell_type": "code",
   "execution_count": 42,
   "metadata": {},
   "outputs": [
    {
     "data": {
      "text/plain": [
       "(0.465352404391258, 0.534647595608742)"
      ]
     },
     "execution_count": 42,
     "metadata": {},
     "output_type": "execute_result"
    }
   ],
   "source": [
    "import statsmodels\n",
    "statsmodels.stats.proportion.proportion_confint(400,800)"
   ]
  },
  {
   "cell_type": "markdown",
   "metadata": {},
   "source": [
    "2. для разницы долей"
   ]
  },
  {
   "cell_type": "markdown",
   "metadata": {},
   "source": [
    " $  P (  p_x - p_y - z_{ \\frac{\\alpha}{ 2}} \\sqrt{ \\frac{p_x(1-p_x)} {n_x} +  \\frac{p_y(1-p_y)} {n_y} } < \\hat{p}_x-\\hat{p}_y < p_x-p_y + z_{\\frac{\\alpha}{ 2}}\\sqrt{ \\frac{p_x(1-p_x)} {n_x} +  \\frac{p_y(1-p_y)} {n_y} }) = 1 - \\alpha $"
   ]
  },
  {
   "cell_type": "code",
   "execution_count": 31,
   "metadata": {},
   "outputs": [],
   "source": [
    "def proportions_diff_confint_ind(sample1, sample2, alpha = 0.05): \n",
    "    #PPF - оппределяет значение функции по заданной вероятности     \n",
    "    \n",
    "    #Z-критерий имеет нормальное распределение\n",
    "    z = stats.norm.ppf(1 - alpha / 2.)\n",
    "    \n",
    "    p1 = float(sum(sample1)) / len(sample1)\n",
    "    p2 = float(sum(sample2)) / len(sample2)\n",
    "    \n",
    "    left_boundary = (p1 - p2) - z * np.sqrt(p1 * (1 - p1)/ len(sample1) + p2 * (1 - p2)/ len(sample2))\n",
    "    right_boundary = (p1 - p2) + z * np.sqrt(p1 * (1 - p1)/ len(sample1) + p2 * (1 - p2)/ len(sample2))\n",
    "    \n",
    "    return (left_boundary, right_boundary)"
   ]
  },
  {
   "cell_type": "code",
   "execution_count": 33,
   "metadata": {},
   "outputs": [],
   "source": [
    "survey_1 = [0, 0, 0, 0, 0, 0, 1, 0, 0, 1, 0, 0, 1, 1, 0, 0, 1, 0, 1, 1, 0, 1,\n",
    "       1, 1, 1, 0, 0, 1, 1, 1, 0, 0, 0, 1, 0, 0, 1, 0, 1, 0, 0, 1, 1, 0,\n",
    "       0, 0, 1, 1, 0, 0, 1, 1, 1, 1, 0, 0, 1, 1, 0, 1, 0, 0, 1, 0, 0, 0,\n",
    "       1, 0, 1, 1, 0, 1, 1, 1, 1, 0, 1, 1, 0, 0, 1, 1, 1, 1, 0, 1, 0, 1,\n",
    "       1, 0, 0, 1, 1, 0, 0, 1, 1, 1, 1, 0]\n",
    "survey_2 = [0, 0, 0, 1, 0, 0, 1, 1, 1, 0, 0, 1, 1, 1, 1, 0, 0, 0, 1, 1, 0, 0,\n",
    "       1, 1, 0, 0, 1, 1, 0, 0, 0, 1, 0, 1, 0, 1, 0, 1, 1, 0, 1, 1, 0, 1,\n",
    "       0, 1, 1, 1, 0, 1, 0, 1, 0, 0, 0, 1, 0, 0, 0, 1, 0, 1, 1, 1, 1, 1,\n",
    "       0, 1, 1, 1, 0, 0, 1, 0, 0, 0, 0, 0, 1, 1, 1, 1, 0, 0, 0, 1, 1, 0,\n",
    "       1, 1, 0, 0, 1, 0, 1, 1, 0, 0, 0, 0]"
   ]
  },
  {
   "cell_type": "code",
   "execution_count": 35,
   "metadata": {},
   "outputs": [
    {
     "data": {
      "text/plain": [
       "(-0.11856266158611861, 0.15856266158611865)"
      ]
     },
     "execution_count": 35,
     "metadata": {},
     "output_type": "execute_result"
    }
   ],
   "source": [
    "proportions_diff_confint_ind(survey_1, survey_2)"
   ]
  },
  {
   "cell_type": "markdown",
   "metadata": {},
   "source": [
    "3. Для разницы долей со связанными наблюдениями"
   ]
  },
  {
   "cell_type": "markdown",
   "metadata": {},
   "source": [
    "$$ P(\\frac{f - g}{n} - z_{\\alpha/2}\\sqrt{\\frac{f + g}{n^2} - \\frac{(f - g)^2}{n^3}} <p_x-p_y <  \\frac{f - g}{n} + z_{\\alpha/2}\\sqrt{\\frac{f + g}{n^2} - \\frac{(f - g)^2}{n^3}}) = 1 - \\alpha$$"
   ]
  },
  {
   "cell_type": "code",
   "execution_count": 37,
   "metadata": {},
   "outputs": [],
   "source": [
    "def proportions_confint_diff_rel(sample1, sample2, alpha = 0.05):\n",
    "    z = stats.norm.ppf(1 - alpha / 2.)\n",
    "    sample = zip(sample1, sample2)\n",
    "    n = len(sample)\n",
    "        \n",
    "    f = sum([1 if (x[0] == 1 and x[1] == 0) else 0 for x in sample])\n",
    "    g = sum([1 if (x[0] == 0 and x[1] == 1) else 0 for x in sample])\n",
    "    \n",
    "    left_boundary = float(f - g) / n  - z * np.sqrt(float((f + g)) / n**2 - float((f - g)**2) / n**3)\n",
    "    right_boundary = float(f - g) / n  + z * np.sqrt(float((f + g)) / n**2 - float((f - g)**2) / n**3)\n",
    "    return (left_boundary, right_boundary)"
   ]
  },
  {
   "cell_type": "markdown",
   "metadata": {},
   "source": [
    "#### Проверка гипотез с помощью доверительных интервалов"
   ]
  },
  {
   "cell_type": "markdown",
   "metadata": {},
   "source": [
    "Если 100(1 – α)-процентный доверительный интервал разности средних не содержит **нуля**, то различия статистически значимы (Р < α); напротив, если этот интервал содержит **ноль**, то различия статистически не значимы (Р > α)."
   ]
  },
  {
   "cell_type": "markdown",
   "metadata": {},
   "source": [
    "С помощью доверительных интервалов мы точно также можем проверять статистические гипотезы наравне со статистическими критериями."
   ]
  },
  {
   "cell_type": "markdown",
   "metadata": {},
   "source": [
    "### 2. Непараметрические критерии"
   ]
  },
  {
   "cell_type": "markdown",
   "metadata": {},
   "source": [
    "Условия применимости параметрических критериев выполняются часто, но не всегда. В одних случаях слишком велика разница дисперсий, в других распределение далеко от нормального. Наконец, измеряемый признак может оказаться нечисловым или «не вполне числовым». В такой ситуации следует воспользоваться непараметрическими методами."
   ]
  },
  {
   "cell_type": "markdown",
   "metadata": {},
   "source": [
    "Непараметрические критерии:\n",
    "- свойства распределения неизвестны\n",
    "- используется информация только из выборки \n",
    "\n",
    "Параметрические критерии:\n",
    "- нулевая гипотеза формулируется о конкретных\n",
    "параметрах распределения\n",
    "- перед проведением теста на выборку накладываем\n",
    "предположения о распределении "
   ]
  },
  {
   "cell_type": "markdown",
   "metadata": {},
   "source": [
    "Непараметрические критерии не требуют соответствия какому-либо из распределений. Непараметрические критерии заменяют реальные значения признака рангами.\n",
    "\n",
    "По сравнению с параметрическими критериями, непараметрические - **менее** мощные."
   ]
  },
  {
   "cell_type": "markdown",
   "metadata": {},
   "source": [
    "#### Одновыборочный Критерий знаков"
   ]
  },
  {
   "cell_type": "markdown",
   "metadata": {},
   "source": [
    "Критерий знаков - это непараметрический аналог одновыборочного t-критерия, и он используется для проверки, равняется ли медиана выборки заданному значению. "
   ]
  },
  {
   "cell_type": "markdown",
   "metadata": {},
   "source": [
    "Наблюдаем: $X_1, X_2, …, X_n;$\n",
    "\n",
    "Предполагаем: $X_i$  независимы;\n",
    "\n",
    "Проверяемая гипотеза: $H_{0} : Med(X) = m_0 , H_{1} : Med(X) <> m_0 $ \n",
    "\n",
    "**Статистика:** $  \\large T = \\sum_{i=1}^n [X_i > m_0]  $ ~  $Bin(0.5, n)$ при верной $H_0$\n"
   ]
  },
  {
   "cell_type": "markdown",
   "metadata": {},
   "source": [
    "**Задача**"
   ]
  },
  {
   "cell_type": "markdown",
   "metadata": {},
   "source": [
    "Даны наблюдения времени выполнения контрольной работы по математике в школе. Проверить гипотезу о том, что время выполнения контрольной работы - 35 минут."
   ]
  },
  {
   "cell_type": "code",
   "execution_count": 130,
   "metadata": {},
   "outputs": [],
   "source": [
    "sample = [29, 41, 39, 62, 46, 31, 29, 28, 30, 31, 45, 41]"
   ]
  },
  {
   "cell_type": "markdown",
   "metadata": {},
   "source": [
    "**Решение задачи**"
   ]
  },
  {
   "cell_type": "markdown",
   "metadata": {},
   "source": [
    "1. Установим уровень значимости критерия α = 5%.\n",
    "2. Будем использовать одновыборочный критерий знаков."
   ]
  },
  {
   "cell_type": "markdown",
   "metadata": {},
   "source": [
    "Нулевое распределение будет выглядеть следюущим образом (просто полный перебор вариантов при n = len(samples)):"
   ]
  },
  {
   "cell_type": "code",
   "execution_count": 69,
   "metadata": {},
   "outputs": [
    {
     "data": {
      "image/png": "[encoded data removed]",
      "text/plain": [
       "<Figure size 1008x504 with 1 Axes>"
      ]
     },
     "metadata": {
      "needs_background": "light"
     },
     "output_type": "display_data"
    }
   ],
   "source": [
    "from scipy.stats import binom\n",
    "\n",
    "plt.figure(figsize = (14,7))\n",
    "\n",
    "pb = binom(n = len(sample), p = 0.5)\n",
    "x = np.arange(0,13)\n",
    "pmf = pb.pmf(x)\n",
    "\n",
    "plt.vlines(x ,0, pb.pmf(x), colors='k', linestyles='-', lw=50)\n",
    "plt.show()"
   ]
  },
  {
   "cell_type": "code",
   "execution_count": 108,
   "metadata": {},
   "outputs": [
    {
     "data": {
      "text/plain": [
       "True"
      ]
     },
     "execution_count": 108,
     "metadata": {},
     "output_type": "execute_result"
    }
   ],
   "source": [
    "pb.cdf(sum(np.array(sample) > 35)) > 0.05"
   ]
  },
  {
   "cell_type": "markdown",
   "metadata": {},
   "source": [
    "Вывод: гипотеза о равенстве продолжительности урока 35 минутам не отвергается."
   ]
  },
  {
   "cell_type": "code",
   "execution_count": 89,
   "metadata": {},
   "outputs": [
    {
     "data": {
      "text/plain": [
       "1.0"
      ]
     },
     "execution_count": 89,
     "metadata": {},
     "output_type": "execute_result"
    }
   ],
   "source": [
    "from statsmodels.stats.descriptivestats import sign_test\n",
    "_, pvalue = sign_test(sample, mu0=35)\n",
    "pvalue"
   ]
  },
  {
   "cell_type": "markdown",
   "metadata": {},
   "source": [
    "#### Двувыборочный критерий знаков для связанных выборок"
   ]
  },
  {
   "cell_type": "markdown",
   "metadata": {},
   "source": [
    "Наблюдаем: $X_1, X_2, …, X_{n_{x}}, Y_1, Y_2, …, Y_{n_{y}};$\n",
    "\n",
    "Предполагаем: $X_i$ и $Y_i$ зависимы;\n",
    "\n",
    "Проверяемая гипотеза: $H_{0} : P(X>Y) = 0.5 , H_{1} :  P(X>Y) <> 0.5 $ \n",
    "\n",
    "**Статистика:** $  \\large T = \\sum_{i=1}^n [X_i > Y_i]  $ ~  $Bin(0.5, n)$ при верной $H_0$\n"
   ]
  },
  {
   "cell_type": "markdown",
   "metadata": {},
   "source": [
    "**Задача**"
   ]
  },
  {
   "cell_type": "markdown",
   "metadata": {},
   "source": [
    "Курьеры передвигались на самокатах, затем им выдали велосипеды и записали среднее время, с которым они доставляли заказы до и после выдачи велосипедов. Проверить гипотезу о том, что на велосипедах курьеры передвигаются быстрее."
   ]
  },
  {
   "cell_type": "code",
   "execution_count": 120,
   "metadata": {},
   "outputs": [
    {
     "data": {
      "text/html": [
       "<div>\n",
       "<style scoped>\n",
       "    .dataframe tbody tr th:only-of-type {\n",
       "        vertical-align: middle;\n",
       "    }\n",
       "\n",
       "    .dataframe tbody tr th {\n",
       "        vertical-align: top;\n",
       "    }\n",
       "\n",
       "    .dataframe thead th {\n",
       "        text-align: right;\n",
       "    }\n",
       "</style>\n",
       "<table border=\"1\" class=\"dataframe\">\n",
       "  <thead>\n",
       "    <tr style=\"text-align: right;\">\n",
       "      <th></th>\n",
       "      <th>time_before</th>\n",
       "      <th>time_after</th>\n",
       "    </tr>\n",
       "  </thead>\n",
       "  <tbody>\n",
       "    <tr>\n",
       "      <th>0</th>\n",
       "      <td>31.940017</td>\n",
       "      <td>40.440611</td>\n",
       "    </tr>\n",
       "    <tr>\n",
       "      <th>1</th>\n",
       "      <td>45.838954</td>\n",
       "      <td>39.332435</td>\n",
       "    </tr>\n",
       "    <tr>\n",
       "      <th>2</th>\n",
       "      <td>39.067040</td>\n",
       "      <td>30.505003</td>\n",
       "    </tr>\n",
       "    <tr>\n",
       "      <th>3</th>\n",
       "      <td>34.291148</td>\n",
       "      <td>33.077888</td>\n",
       "    </tr>\n",
       "    <tr>\n",
       "      <th>4</th>\n",
       "      <td>34.419364</td>\n",
       "      <td>32.941576</td>\n",
       "    </tr>\n",
       "  </tbody>\n",
       "</table>\n",
       "</div>"
      ],
      "text/plain": [
       "   time_before  time_after\n",
       "0    31.940017   40.440611\n",
       "1    45.838954   39.332435\n",
       "2    39.067040   30.505003\n",
       "3    34.291148   33.077888\n",
       "4    34.419364   32.941576"
      ]
     },
     "execution_count": 120,
     "metadata": {},
     "output_type": "execute_result"
    }
   ],
   "source": [
    "norm_rv1 = stats.norm(loc=35, scale = 5)\n",
    "\n",
    "df = pd.DataFrame()\n",
    "df['time_before'] = norm_rv1.rvs(size=20)\n",
    "df['time_after'] = norm_rv1.rvs(size=20)\n",
    "df.head()"
   ]
  },
  {
   "cell_type": "markdown",
   "metadata": {},
   "source": [
    "**Решение задачи**"
   ]
  },
  {
   "cell_type": "markdown",
   "metadata": {},
   "source": [
    "1. Установим уровень значимости критерия α = 5%.\n",
    "2. Будем использовать двувыборочный критерий знаков для связанных выборок и проверять одностороннюю гипотезу."
   ]
  },
  {
   "cell_type": "code",
   "execution_count": 124,
   "metadata": {},
   "outputs": [
    {
     "data": {
      "text/html": [
       "<div>\n",
       "<style scoped>\n",
       "    .dataframe tbody tr th:only-of-type {\n",
       "        vertical-align: middle;\n",
       "    }\n",
       "\n",
       "    .dataframe tbody tr th {\n",
       "        vertical-align: top;\n",
       "    }\n",
       "\n",
       "    .dataframe thead th {\n",
       "        text-align: right;\n",
       "    }\n",
       "</style>\n",
       "<table border=\"1\" class=\"dataframe\">\n",
       "  <thead>\n",
       "    <tr style=\"text-align: right;\">\n",
       "      <th></th>\n",
       "      <th>time_before</th>\n",
       "      <th>time_after</th>\n",
       "      <th>stat_M</th>\n",
       "    </tr>\n",
       "  </thead>\n",
       "  <tbody>\n",
       "    <tr>\n",
       "      <th>0</th>\n",
       "      <td>31.940017</td>\n",
       "      <td>40.440611</td>\n",
       "      <td>0</td>\n",
       "    </tr>\n",
       "    <tr>\n",
       "      <th>1</th>\n",
       "      <td>45.838954</td>\n",
       "      <td>39.332435</td>\n",
       "      <td>1</td>\n",
       "    </tr>\n",
       "  </tbody>\n",
       "</table>\n",
       "</div>"
      ],
      "text/plain": [
       "   time_before  time_after  stat_M\n",
       "0    31.940017   40.440611       0\n",
       "1    45.838954   39.332435       1"
      ]
     },
     "execution_count": 124,
     "metadata": {},
     "output_type": "execute_result"
    }
   ],
   "source": [
    "df['stat_M'] = np.where(df.time_before > df.time_after,1,0)\n",
    "df.head(2)"
   ]
  },
  {
   "cell_type": "code",
   "execution_count": 127,
   "metadata": {},
   "outputs": [
    {
     "data": {
      "text/plain": [
       "0.41190147399902344"
      ]
     },
     "execution_count": 127,
     "metadata": {},
     "output_type": "execute_result"
    }
   ],
   "source": [
    "pb = binom(n = df.shape[0], p = 0.5)\n",
    "pb.cdf(df['stat_M'].sum())"
   ]
  },
  {
   "cell_type": "markdown",
   "metadata": {},
   "source": [
    "Вывод: нулевая гипотеза не отвергается."
   ]
  },
  {
   "cell_type": "code",
   "execution_count": 128,
   "metadata": {},
   "outputs": [
    {
     "data": {
      "text/plain": [
       "0.8238029479980469"
      ]
     },
     "execution_count": 128,
     "metadata": {},
     "output_type": "execute_result"
    }
   ],
   "source": [
    "from statsmodels.stats.descriptivestats import sign_test\n",
    "_, pvalue = sign_test(df['time_before'] - df['time_after'])\n",
    "pvalue"
   ]
  },
  {
   "cell_type": "markdown",
   "metadata": {},
   "source": [
    "#### Ранговые критерии"
   ]
  },
  {
   "cell_type": "markdown",
   "metadata": {},
   "source": [
    "Знаковые критерии выбрасывают большую часть информации, вместо значений используют лишь бинарный вектор. \n",
    "Ранговые критерии сохраняют больше информации. \n",
    "\n",
    "**Ранг** - позиция элемента в вариационном ряду. \n",
    "\n",
    "Если встречаются несколько одинаковых значений,\n",
    "им присваивается одинаковое значение ранга, равное\n",
    "среднему арифметическому их порядковых номеров."
   ]
  },
  {
   "cell_type": "markdown",
   "metadata": {},
   "source": [
    "**Одновыборочный ранговый критерий Уилкоксона**"
   ]
  },
  {
   "cell_type": "markdown",
   "metadata": {},
   "source": [
    "Наблюдаем: $X_1, X_2, …, X_n;$\n",
    "\n",
    "Предполагаем: $X_i$  независимы;\n",
    "\n",
    "Проверяемая гипотеза: $H_{0} : Med(X) = m_0 , H_{1} : Med(X) <> m_0 $ \n",
    "\n",
    "**Статистика:** $ \\\\ W = \\sum_{i=1}^N rank(|X_i −m_0|)·sign(X_i −m_0)  $ ~ распределение табличное либо нормальное при большом числе наблюдений\n"
   ]
  },
  {
   "cell_type": "markdown",
   "metadata": {},
   "source": [
    "При справедливости нулевой гипотезы каждый из рангов в выборке мог с одинаковой вероятностью реализоваться с любым знаком $sign(X_i −m_0)$: и с «+», и с «−». Таким образом, получается $2^n$ вариантов распределения знаков по рангам.\n",
    "\n",
    "Перебирая все эти варианты, для каждого из них можно вычислить значение статистики."
   ]
  },
  {
   "cell_type": "markdown",
   "metadata": {},
   "source": [
    "**Задача**"
   ]
  },
  {
   "cell_type": "markdown",
   "metadata": {},
   "source": [
    "Даны наблюдения времени выполнения контрольной работы по математике в школе. Проверить гипотезу о том, что время выполнения контрольной работы - 35 минут."
   ]
  },
  {
   "cell_type": "code",
   "execution_count": 134,
   "metadata": {},
   "outputs": [],
   "source": [
    "sample = np.array([29, 41, 39, 62, 46, 31, 29, 28, 30, 31, 45, 41])"
   ]
  },
  {
   "cell_type": "markdown",
   "metadata": {},
   "source": [
    "**Решение задачи**"
   ]
  },
  {
   "cell_type": "markdown",
   "metadata": {},
   "source": [
    "1. Установим уровень значимости критерия α = 5%.\n",
    "2. Будем использовать одновыборочный критерий знаковых рангов Уилкоксона."
   ]
  },
  {
   "cell_type": "code",
   "execution_count": 135,
   "metadata": {},
   "outputs": [
    {
     "data": {
      "text/plain": [
       "WilcoxonResult(statistic=30.0, pvalue=0.5185546875)"
      ]
     },
     "execution_count": 135,
     "metadata": {},
     "output_type": "execute_result"
    }
   ],
   "source": [
    "stats.wilcoxon(sample - 35)"
   ]
  },
  {
   "cell_type": "markdown",
   "metadata": {},
   "source": [
    "Вывод: гипотеза о равенстве продолжительности урока 35 минутам не отвергается."
   ]
  },
  {
   "cell_type": "markdown",
   "metadata": {},
   "source": [
    "**Двувыборочный ранговый критерий Уилкоксона для связанных выборок**"
   ]
  },
  {
   "cell_type": "markdown",
   "metadata": {},
   "source": [
    "Наблюдаем: $X_1, X_2, …, X_{n_{x}}, Y_1, Y_2, …, Y_{n_{y}};$\n",
    "\n",
    "Предполагаем: $X_i$ и $Y_i$ зависимы;\n",
    "\n",
    "Проверяемая гипотеза: $H_{0} : Med(X-Y) = 0 , H_{1} :  Med(X-Y) <> 0 $ \n",
    "\n",
    "**Статистика:** $  W = \\sum_{i=1}^N rank(|X_{i} − Y_{i}|)·sign(X_{i} − Y_{i}) $ "
   ]
  },
  {
   "cell_type": "markdown",
   "metadata": {},
   "source": [
    "Аналогично одновыборочному критерию."
   ]
  },
  {
   "cell_type": "markdown",
   "metadata": {},
   "source": [
    "По данным задачи об изменении транспортного средства курьеров:"
   ]
  },
  {
   "cell_type": "code",
   "execution_count": 141,
   "metadata": {},
   "outputs": [
    {
     "data": {
      "text/plain": [
       "WilcoxonResult(statistic=81.0, pvalue=0.38837623596191406)"
      ]
     },
     "execution_count": 141,
     "metadata": {},
     "output_type": "execute_result"
    }
   ],
   "source": [
    "stats.wilcoxon(df['time_before'] , df['time_after'])"
   ]
  },
  {
   "cell_type": "markdown",
   "metadata": {},
   "source": [
    "**Двувыборочный критерий Манна-Уитни для несвязанных выборок**"
   ]
  },
  {
   "cell_type": "markdown",
   "metadata": {},
   "source": [
    "Наблюдаем: $X_1, X_2, …, X_{n_{x}}, Y_1, Y_2, …, Y_{n_{y}};$\n",
    "\n",
    "Предполагаем: $X_i$ и $Y_i$ независимы;\n",
    "\n",
    "Проверяемая гипотеза:\n",
    "$\\\\ H_0: f_{X} (x) =  f_{Y} (y), $\n",
    " $H_1: f_{X} (x) =  f_{Y} (y + ∆),∆ <> 0 $\n",
    "\n",
    "**Статистика:** $ \\\\ U = n_1n_2 + \\frac{n_x(n_x+1)}{2} - T_x $ где определяем большую из двух ранговых сумм как $T_x$ соответствующую выборке с $n_x$ элементами."
   ]
  },
  {
   "cell_type": "markdown",
   "metadata": {},
   "source": [
    "Как считается коэффициент:\n",
    "- в составленном едином ранжированном ряду общее количество рангов получится равным: n1 + n2.\n",
    "- подсчитываем отдельно сумму рангов, пришедшихся на долю элементов первой выборки, и отдельно - на долю элементов второй выборки.\n",
    "- далее рассчитываем сам коэффициент U."
   ]
  },
  {
   "cell_type": "code",
   "execution_count": 146,
   "metadata": {},
   "outputs": [],
   "source": [
    "sample_vel = [32.8, 44.3, 29. , 23.5, 26.7, 39. , 36.2, 25.6, 37.9, 36.5, 43.8,\n",
    "       59.7, 37.7, 38.4, 32.1, 28.2, 34.4, 22.1, 12.6, 26.9, 29.9, 55.5,\n",
    "       34.1, 22.4, 25.4, 40. , 22.5, 38.8, 43.6, 34.4]\n",
    "sample_sam = [34.2, 35.4, 53.2, 37.8, 34.6, 31.4, 35.8, 40.4, 32.4, 29.8, 30.9,\n",
    "       52.5, 44. , 32.3, 39.3, 31.7, 48.3, 34.7, 41.1, 52.3, 38.8, 55.8,\n",
    "       35.4, 32.3, 31.4, 37.6, 33.3, 42.9, 48.9, 39.2]"
   ]
  },
  {
   "cell_type": "code",
   "execution_count": 156,
   "metadata": {},
   "outputs": [
    {
     "data": {
      "text/plain": [
       "array([], shape=(0, 100), dtype=float64)"
      ]
     },
     "execution_count": 156,
     "metadata": {},
     "output_type": "execute_result"
    }
   ],
   "source": [
    "from scipy import stats\n",
    "dscrt_lst = np.random.randn(0,100)\n",
    "dscrt_lst"
   ]
  },
  {
   "cell_type": "code",
   "execution_count": 147,
   "metadata": {},
   "outputs": [
    {
     "data": {
      "text/plain": [
       "MannwhitneyuResult(statistic=307.5, pvalue=0.03576983135135158)"
      ]
     },
     "execution_count": 147,
     "metadata": {},
     "output_type": "execute_result"
    }
   ],
   "source": [
    "stats.mannwhitneyu(sample_vel, sample_sam)"
   ]
  },
  {
   "cell_type": "markdown",
   "metadata": {},
   "source": [
    "### 3. Множественные сравнения"
   ]
  },
  {
   "cell_type": "markdown",
   "metadata": {},
   "source": [
    "Если исследуемых групп больше двух, то следует воспользоваться дисперсионным анализом. Однако дисперсионный анализ позволяет проверить лишь гипотезу о равенстве всех средних.\n",
    "Но если гипотеза не подтверждается, нельзя узнать какая именно группа отличается от других."
   ]
  },
  {
   "cell_type": "markdown",
   "metadata": {},
   "source": [
    "Эффект множественных сравнений состоит в том, что при многократном применении критерия вероятность ошибочно найти различия там, где их нет возрастает и составляет \n",
    "\n",
    "$\\\\ P =  1 - (1 - \\alpha) ^ k $ где k - число сравнений, $ \\alpha $ - установленный уровень значимости."
   ]
  },
  {
   "cell_type": "markdown",
   "metadata": {},
   "source": [
    "**Поправка Бонферонни** заключается в том, что достигаемые уровни значимости гипотез сравниваются с уровнем значимости \n",
    "$ \\Large \\frac{\\alpha} {k} .$"
   ]
  },
  {
   "cell_type": "markdown",
   "metadata": {},
   "source": [
    "Поправка Бонферонни - один из самых консервативных методов. Также часто используют метод Холма, метод Бенджамини-Хохберга, которые не столь консервативны. "
   ]
  },
  {
   "cell_type": "markdown",
   "metadata": {},
   "source": [
    "**Задача**"
   ]
  },
  {
   "cell_type": "markdown",
   "metadata": {},
   "source": [
    "Проверить гипотезу о том, что на личном транспорте добираться до университета быстрее, чем на общественном."
   ]
  },
  {
   "cell_type": "code",
   "execution_count": 180,
   "metadata": {},
   "outputs": [],
   "source": [
    "samokat = [34.2, 35.4, 53.2, 37.8, 31.6, 31.4, 35.8, 40.4, 32.4, 29.8, 30.9,\n",
    "       52.5, 44. , 32.3, 39.3, 31.7, 48.3, 34.7, 41.1, 52.3, 38.8, 55.8,\n",
    "       35.4, 32.3, 31.4, 31.6, 33.3, 32.9, 48.9, 39.2]\n",
    "\n",
    "bike = [32.8, 44.3, 29. , 23.5, 26.7, 39. , 36.2, 25.6, 37.9, 36.5, 43.8,\n",
    "       59.7, 37.7, 38.4, 32.1, 28.2, 34.4, 22.1, 12.6, 26.9, 29.9, 55.5,\n",
    "       34.1, 22.4, 25.4, 40. , 22.5, 18.8, 13.6, 34.4]\n",
    "\n",
    "motorbike = [27.8, 38.1, 31.3, 36.6, 33.6, 43.3, 31.1, 31.1, 38.7, 44.9, 43.4,\n",
    "       39.4, 47.9, 32.3, 28.4, 39.9, 38.5, 30.6, 29. , 36.6]\n",
    "\n",
    "public_transport = [36.5, 42.1, 38. , 34.6, 38.5, 36.7, 29.6, 39.4, 32.4, 41.3, 30.1,\n",
    "       29.5, 33.8, 40.6, 31.3, 31.1, 38.3, 38.6, 28.3, 33.8]"
   ]
  },
  {
   "cell_type": "markdown",
   "metadata": {},
   "source": [
    "**Решение задачи**"
   ]
  },
  {
   "cell_type": "markdown",
   "metadata": {},
   "source": [
    "1. Установим уровень значимости критерия α = 5%.\n",
    "2. Нулевая гипотеза - время передвижения на публичном транспорте равно времени передвижения на личном, алтернативная - скорости не равны.\n",
    "3. Будем использовать двувыборочный критерий Манна-Уитни, попарно сравнивая выборки."
   ]
  },
  {
   "cell_type": "code",
   "execution_count": 188,
   "metadata": {},
   "outputs": [],
   "source": [
    "pvals = []\n",
    "for s in [samokat, bike, motorbike]:\n",
    "    U, p = stats.mannwhitneyu(public_transport, s, alternative='greater')\n",
    "    pvals.append(p)"
   ]
  },
  {
   "cell_type": "code",
   "execution_count": 189,
   "metadata": {},
   "outputs": [
    {
     "data": {
      "text/plain": [
       "[0.8575808095163361, 0.048099425470081544, 0.6375057571656346]"
      ]
     },
     "execution_count": 189,
     "metadata": {},
     "output_type": "execute_result"
    }
   ],
   "source": [
    "pvals"
   ]
  },
  {
   "cell_type": "markdown",
   "metadata": {},
   "source": [
    "Простое попарное сравнение показало, что можем отвергнуть гипотезу об одинаковой скорости передвижения на велосипеде и публичном транспорте, исопльзуем поправку Бонферрони."
   ]
  },
  {
   "cell_type": "code",
   "execution_count": 193,
   "metadata": {},
   "outputs": [],
   "source": [
    "from statsmodels.sandbox.stats.multicomp import multipletests\n",
    "hyp_rej, corrected_pvals , _ , _ = multipletests(pvals, alpha=0.05, method='bonferroni')"
   ]
  },
  {
   "cell_type": "code",
   "execution_count": 194,
   "metadata": {},
   "outputs": [
    {
     "data": {
      "text/plain": [
       "array([False, False, False])"
      ]
     },
     "execution_count": 194,
     "metadata": {},
     "output_type": "execute_result"
    }
   ],
   "source": [
    "hyp_rej"
   ]
  },
  {
   "cell_type": "markdown",
   "metadata": {},
   "source": [
    "Вывод: с учетом поправки Бонферрони не можем отклонить ни одну гипотезу о том, что время передвижения на личном транспорте меньше времени передвижения на публичном в пользу альтернативной."
   ]
  },
  {
   "cell_type": "markdown",
   "metadata": {},
   "source": [
    "### 4. Корреляция"
   ]
  },
  {
   "cell_type": "markdown",
   "metadata": {},
   "source": [
    "При работе с данными нас часто интересует не предсказание значения одной переменной по значению другой, а просто характеристика тесноты (силы) связи между ними, при этом выраженная одним числом. Эта характеристика называется **коэффициентом корреляции**."
   ]
  },
  {
   "cell_type": "markdown",
   "metadata": {},
   "source": [
    "**Корреляция Пирсона**"
   ]
  },
  {
   "cell_type": "markdown",
   "metadata": {},
   "source": [
    "Корреляция Пирсона — это мера силы **линейной** взаимосвязи между двумя случайными величинами X и Y. Он требует нормальности распределения и очень чувствителен к выбросам."
   ]
  },
  {
   "cell_type": "markdown",
   "metadata": {},
   "source": [
    "$ \\Large r = \\frac{{}\\sum_{i=1}^{n} (x_i - \\overline{x})(y_i - \\overline{y})}\n",
    "{\\sqrt{\\sum_{i=1}^{n} (x_i - \\overline{x})^2(y_i - \\overline{y})^2}}$"
   ]
  },
  {
   "cell_type": "markdown",
   "metadata": {},
   "source": [
    "Коэффициент корреляции принимает значения от –1 до +1. Чем теснее связь, тем больше абсолютная величина коэффициента корреляции. Знак показывает направление связи. При r > 0 говорят о прямой корреляции (с увеличением одной переменной другая также возрастает), при r < 0 — об обратной (с увеличением одной переменной другая уменьшается)."
   ]
  },
  {
   "cell_type": "markdown",
   "metadata": {},
   "source": [
    "<img width = '1000px' src=\"images/corp4.png\">"
   ]
  },
  {
   "cell_type": "markdown",
   "metadata": {},
   "source": [
    "Пример - посчитать, есть ли связь между дневными продажами пиццы и ценой продажи, которая была установлена в этот день. "
   ]
  },
  {
   "cell_type": "code",
   "execution_count": 209,
   "metadata": {},
   "outputs": [],
   "source": [
    "daily_prices = [912, 958, 979, 530, 750, 531, 412, 985, 477, 691, 724, 352, 488,\n",
    "       604, 736, 715, 406, 688, 357, 242, 454, 851, 587, 622, 966, 991,\n",
    "       784, 687, 998, 601, 565]\n",
    "daily_sales = [ 32,  25,  11,  33,  16,  54,  46,  20,  49,  31,  29,  67,  33,\n",
    "        39,  16,  17,  45,  35,  77, 108,  35,  29,  20,  46,  26,  16,\n",
    "        19,  16,  19,  28,  22,  ]"
   ]
  },
  {
   "cell_type": "code",
   "execution_count": null,
   "metadata": {},
   "outputs": [],
   "source": [
    "from scipy.stats import pearsonr\n",
    "corr, pval = pearsonr(sample_1, sample_2)"
   ]
  },
  {
   "cell_type": "code",
   "execution_count": 214,
   "metadata": {},
   "outputs": [
    {
     "data": {
      "text/plain": [
       "-0.7428621943629039"
      ]
     },
     "execution_count": 214,
     "metadata": {},
     "output_type": "execute_result"
    }
   ],
   "source": [
    "from scipy.stats import pearsonr\n",
    "corr, _ = pearsonr(daily_prices, daily_sales)\n",
    "corr"
   ]
  },
  {
   "cell_type": "markdown",
   "metadata": {},
   "source": [
    "Но что говорит полученное значение, как интерпретировать полученный коэффицент? "
   ]
  },
  {
   "cell_type": "markdown",
   "metadata": {},
   "source": [
    "Для ответа на вопрос по аналогии существует критерий (статистический критерий Стьюдента) и соответвующая статистика:"
   ]
  },
  {
   "cell_type": "markdown",
   "metadata": {},
   "source": [
    "Наблюдаем: $X_1, X_2, …, X_{n_{x}}, Y_1, Y_2, …, Y_{n_{y}};$\n",
    "\n",
    "Предполагаем: $X_i$ и $Y_i$ нормально распределены, линейно зависимы;\n",
    "\n",
    "Проверяемая гипотеза:\n",
    "$ H_0: r = 0, $\n",
    " $H_1: r <> 0 $\n",
    "\n",
    "**Статистика:** $ \\large t = \\frac{r_{X_1X_2}\\sqrt{n-2}}{\\sqrt{1 - r_{X_1X_2}^2}} $"
   ]
  },
  {
   "cell_type": "code",
   "execution_count": 216,
   "metadata": {},
   "outputs": [
    {
     "data": {
      "text/plain": [
       "1.702377210853357e-06"
      ]
     },
     "execution_count": 216,
     "metadata": {},
     "output_type": "execute_result"
    }
   ],
   "source": [
    "corr, pval = pearsonr(daily_prices, daily_sales)\n",
    "pval"
   ]
  },
  {
   "cell_type": "markdown",
   "metadata": {},
   "source": [
    "Можем сделать вывод о наличии статистически значимой связи между ценой продажи и обьемом продаж."
   ]
  },
  {
   "cell_type": "markdown",
   "metadata": {},
   "source": [
    "**Корреляция Спирмена**"
   ]
  },
  {
   "cell_type": "markdown",
   "metadata": {},
   "source": [
    "Коэффициент корреляции Спирмена — это мера силы монотонной взаимосвязи между двумя случайными величинами, он равен коэффициенту корреляции Пирсона между рангами наблюдений."
   ]
  },
  {
   "cell_type": "markdown",
   "metadata": {},
   "source": [
    "Для расчета коэффициента нужно упорядочить данные по возрастанию и заменить реальные значения их рангами. Рангом значения называется его номер в упорядоченном ряду.Затем, беря вместо самих значений их ранги, рассчитывают обычный коэффициент корреляции Пирсона."
   ]
  },
  {
   "cell_type": "markdown",
   "metadata": {},
   "source": [
    "$\\Large \\rho = 1- {\\frac {6 \\sum d_i^2}{n(n^2 - 1)}} $, где d — разность рангов для каждого члена выборки."
   ]
  },
  {
   "cell_type": "markdown",
   "metadata": {},
   "source": [
    "<img width = '900px' src=\"images/cors4.png\">"
   ]
  },
  {
   "cell_type": "markdown",
   "metadata": {},
   "source": [
    "Значимость коэффициента определяется с помощью перестановочного критерия - по аналогии, как и с непараметрическими критериями."
   ]
  },
  {
   "cell_type": "code",
   "execution_count": 248,
   "metadata": {},
   "outputs": [
    {
     "data": {
      "text/plain": [
       "SpearmanrResult(correlation=-0.7600979224117517, pvalue=7.033574706881643e-07)"
      ]
     },
     "execution_count": 248,
     "metadata": {},
     "output_type": "execute_result"
    }
   ],
   "source": [
    "from scipy.stats import spearmanr\n",
    "r = spearmanr(daily_prices, daily_sales)\n",
    "r"
   ]
  },
  {
   "cell_type": "markdown",
   "metadata": {},
   "source": [
    "**Корреялция Мэтьюса**"
   ]
  },
  {
   "cell_type": "markdown",
   "metadata": {},
   "source": [
    "Коэффициент корреляции Мэтьюса — это мера силы взаимосвязи между двумя бинарными переменными. "
   ]
  },
  {
   "cell_type": "markdown",
   "metadata": {},
   "source": [
    "$ \\Large MCC = \\frac{ad-bc}{\\sqrt{(a+b)(a+c)(b+d)(c+d)}} $"
   ]
  },
  {
   "cell_type": "markdown",
   "metadata": {},
   "source": [
    "<img width = '500px' src=\"images/mat.png\">"
   ]
  },
  {
   "cell_type": "markdown",
   "metadata": {},
   "source": [
    "Статистика для проверки значимости критерия:"
   ]
  },
  {
   "cell_type": "markdown",
   "metadata": {},
   "source": [
    "Наблюдаем: $X_1, X_2, …, X_{n_{x}}, Y_1, Y_2, …, Y_{n_{y}};$\n",
    "\n",
    "Проверяемая гипотеза:\n",
    "$ H_0: MCC = 0, $\n",
    " $H_1: MCC <> 0 $\n",
    "\n",
    "**Статистика:**  $\\chi^2  = nMCC^2$"
   ]
  },
  {
   "cell_type": "markdown",
   "metadata": {},
   "source": [
    "Используется для оценки качества бинарной классификации, дают более стабильное оценку, если размеры классов сильно различаются, в отличие от F1, ROC-AUC."
   ]
  },
  {
   "cell_type": "code",
   "execution_count": 8,
   "metadata": {},
   "outputs": [],
   "source": [
    "from sklearn.metrics import matthews_corrcoef\n",
    "from sklearn.metrics import confusion_matrix\n",
    "from sklearn.metrics import f1_score\n",
    "# confusion_matrix(y_true, y_pred)\n",
    "actual = np.repeat([1, 0, 1, 0], repeats=[90, 1, 5, 4])\n",
    "pred = np.repeat([1, 0, 0, 1], repeats=[90, 1, 5, 4])\n",
    "\n",
    "tn, fp, fn, tp   = confusion_matrix(actual, pred).ravel()"
   ]
  },
  {
   "cell_type": "code",
   "execution_count": 9,
   "metadata": {},
   "outputs": [
    {
     "data": {
      "text/plain": [
       "(1, 4, 5, 90)"
      ]
     },
     "execution_count": 9,
     "metadata": {},
     "output_type": "execute_result"
    }
   ],
   "source": [
    "(tn, fp, fn, tp)"
   ]
  },
  {
   "cell_type": "code",
   "execution_count": 10,
   "metadata": {},
   "outputs": [
    {
     "data": {
      "text/plain": [
       "0.9523809523809523"
      ]
     },
     "execution_count": 10,
     "metadata": {},
     "output_type": "execute_result"
    }
   ],
   "source": [
    "f1_score(actual, pred)"
   ]
  },
  {
   "cell_type": "code",
   "execution_count": 11,
   "metadata": {},
   "outputs": [
    {
     "data": {
      "text/plain": [
       "0.13524203070138519"
      ]
     },
     "execution_count": 11,
     "metadata": {},
     "output_type": "execute_result"
    }
   ],
   "source": [
    "matthews_corrcoef(actual, pred)"
   ]
  },
  {
   "cell_type": "markdown",
   "metadata": {},
   "source": [
    "На оценку F1 сильно влияет то, какой класс помечен как положительный, при этом MCC менее интерпретируема."
   ]
  },
  {
   "cell_type": "markdown",
   "metadata": {},
   "source": [
    "### 5. Библиотека statsmodels и регрессия"
   ]
  },
  {
   "cell_type": "code",
   "execution_count": 13,
   "metadata": {},
   "outputs": [
    {
     "data": {
      "text/html": [
       "<div>\n",
       "<style scoped>\n",
       "    .dataframe tbody tr th:only-of-type {\n",
       "        vertical-align: middle;\n",
       "    }\n",
       "\n",
       "    .dataframe tbody tr th {\n",
       "        vertical-align: top;\n",
       "    }\n",
       "\n",
       "    .dataframe thead th {\n",
       "        text-align: right;\n",
       "    }\n",
       "</style>\n",
       "<table border=\"1\" class=\"dataframe\">\n",
       "  <thead>\n",
       "    <tr style=\"text-align: right;\">\n",
       "      <th></th>\n",
       "      <th>Price</th>\n",
       "      <th>Orders</th>\n",
       "    </tr>\n",
       "  </thead>\n",
       "  <tbody>\n",
       "    <tr>\n",
       "      <th>0</th>\n",
       "      <td>912</td>\n",
       "      <td>32</td>\n",
       "    </tr>\n",
       "    <tr>\n",
       "      <th>1</th>\n",
       "      <td>958</td>\n",
       "      <td>25</td>\n",
       "    </tr>\n",
       "    <tr>\n",
       "      <th>2</th>\n",
       "      <td>979</td>\n",
       "      <td>11</td>\n",
       "    </tr>\n",
       "    <tr>\n",
       "      <th>3</th>\n",
       "      <td>530</td>\n",
       "      <td>33</td>\n",
       "    </tr>\n",
       "    <tr>\n",
       "      <th>4</th>\n",
       "      <td>750</td>\n",
       "      <td>16</td>\n",
       "    </tr>\n",
       "  </tbody>\n",
       "</table>\n",
       "</div>"
      ],
      "text/plain": [
       "   Price  Orders\n",
       "0    912      32\n",
       "1    958      25\n",
       "2    979      11\n",
       "3    530      33\n",
       "4    750      16"
      ]
     },
     "execution_count": 13,
     "metadata": {},
     "output_type": "execute_result"
    }
   ],
   "source": [
    "orders_info = pd.read_excel('files/oct_2018_Samara_pizza.xlsx')\n",
    "orders_info.head()"
   ]
  },
  {
   "cell_type": "code",
   "execution_count": 15,
   "metadata": {},
   "outputs": [
    {
     "data": {
      "image/png": "[encoded data removed]",
      "text/plain": [
       "<Figure size 1152x360 with 1 Axes>"
      ]
     },
     "metadata": {
      "needs_background": "light"
     },
     "output_type": "display_data"
    }
   ],
   "source": [
    "fig = plt.figure(figsize=(16,5))\n",
    "ax1 = plt.subplot(111)\n",
    "\n",
    "orders_info.plot.scatter('Price','Orders',ax = ax1)\n",
    "plt.show()"
   ]
  },
  {
   "cell_type": "markdown",
   "metadata": {},
   "source": [
    "**Задача.** На платформе появляется новый ресторан и хочет продавать Пиццу по определенной цене. Сколько у данного ресторана будет продаж в день?"
   ]
  },
  {
   "cell_type": "code",
   "execution_count": 16,
   "metadata": {},
   "outputs": [],
   "source": [
    "import statsmodels.formula.api as smf\n",
    "model = smf.ols('Orders~Price',data=orders_info)\n",
    "fitted = model.fit()"
   ]
  },
  {
   "cell_type": "code",
   "execution_count": 23,
   "metadata": {},
   "outputs": [
    {
     "name": "stdout",
     "output_type": "stream",
     "text": [
      "                            OLS Regression Results                            \n",
      "==============================================================================\n",
      "Dep. Variable:                 Orders   R-squared:                       0.580\n",
      "Model:                            OLS   Adj. R-squared:                  0.579\n",
      "Method:                 Least Squares   F-statistic:                     687.8\n",
      "Date:                Mon, 09 May 2022   Prob (F-statistic):           7.12e-96\n",
      "Time:                        20:26:38   Log-Likelihood:                -2087.4\n",
      "No. Observations:                 500   AIC:                             4179.\n",
      "Df Residuals:                     498   BIC:                             4187.\n",
      "Df Model:                           1                                         \n",
      "Covariance Type:            nonrobust                                         \n",
      "==============================================================================\n",
      "                 coef    std err          t      P>|t|      [0.025      0.975]\n",
      "------------------------------------------------------------------------------\n",
      "Intercept     87.9893      1.999     44.010      0.000      84.061      91.917\n",
      "Price         -0.0807      0.003    -26.226      0.000      -0.087      -0.075\n",
      "==============================================================================\n",
      "Omnibus:                       80.640   Durbin-Watson:                   1.980\n",
      "Prob(Omnibus):                  0.000   Jarque-Bera (JB):              158.964\n",
      "Skew:                           0.905   Prob(JB):                     3.03e-35\n",
      "Kurtosis:                       5.087   Cond. No.                     1.84e+03\n",
      "==============================================================================\n",
      "\n",
      "Notes:\n",
      "[1] Standard Errors assume that the covariance matrix of the errors is correctly specified.\n",
      "[2] The condition number is large, 1.84e+03. This might indicate that there are\n",
      "strong multicollinearity or other numerical problems.\n"
     ]
    }
   ],
   "source": [
    "print(fitted.summary())"
   ]
  },
  {
   "cell_type": "code",
   "execution_count": 17,
   "metadata": {},
   "outputs": [
    {
     "data": {
      "text/plain": [
       "Intercept    87.989346\n",
       "Price        -0.080659\n",
       "dtype: float64"
      ]
     },
     "execution_count": 17,
     "metadata": {},
     "output_type": "execute_result"
    }
   ],
   "source": [
    "fitted.params"
   ]
  },
  {
   "cell_type": "code",
   "execution_count": 18,
   "metadata": {},
   "outputs": [],
   "source": [
    "orders_info['predicted'] = fitted.params[0] + fitted.params[1]*orders_info['Price']"
   ]
  },
  {
   "cell_type": "code",
   "execution_count": 20,
   "metadata": {},
   "outputs": [
    {
     "data": {
      "image/png": "[encoded data removed]",
      "text/plain": [
       "<Figure size 1152x360 with 1 Axes>"
      ]
     },
     "metadata": {
      "needs_background": "light"
     },
     "output_type": "display_data"
    }
   ],
   "source": [
    "fig = plt.figure(figsize=(16,5))\n",
    "ax1 = plt.subplot(111)\n",
    "\n",
    "orders_info.plot.scatter('Price','Orders',ax = ax1)\n",
    "orders_info.plot.line('Price','predicted',ax = ax1,color = 'orange')\n",
    "plt.show()"
   ]
  },
  {
   "cell_type": "markdown",
   "metadata": {},
   "source": [
    " **Коэффициент детерминации**"
   ]
  },
  {
   "cell_type": "markdown",
   "metadata": {},
   "source": [
    "Среднеквадратичная ошибка подходит для сравнения двух моделей или для контроля качества во время обучения, но не позволяет сделать выводы том, насколько хорошо данная модель решает задачу. Вместо среднеквадратичной ошибки полезно использовать коэффициент детерминации."
   ]
  },
  {
   "cell_type": "markdown",
   "metadata": {},
   "source": [
    "### $ MSE = \\frac{\\sum_{i=1}^n(\\hat{y_i}-y)^2}{n} $ "
   ]
  },
  {
   "cell_type": "markdown",
   "metadata": {},
   "source": [
    "Попробуем нормализовать ошибку:"
   ]
  },
  {
   "cell_type": "markdown",
   "metadata": {},
   "source": [
    "$ TSS =  ESS + RSS $"
   ]
  },
  {
   "cell_type": "markdown",
   "metadata": {},
   "source": [
    "$TSS = \\sum_{i=1}^n(y_i-\\overline{y})^2 $ - разброс относительно своего среднего (~ ошибка наивного предсказания без X) "
   ]
  },
  {
   "cell_type": "markdown",
   "metadata": {},
   "source": [
    "$ESS = \\sum_{i=1}^n(\\hat{y_i}-\\overline{y})^2 $ - объясненная сумма квадратов,сумма квадратов отклонений среднего от предсказанных y."
   ]
  },
  {
   "cell_type": "markdown",
   "metadata": {},
   "source": [
    "$RSS = \\sum_{i=1}^n(\\hat{y_i}-y_i)^2 $ - остаточная сумма квадратов."
   ]
  },
  {
   "cell_type": "markdown",
   "metadata": {},
   "source": [
    "$\\Large R^2 = \\frac{ESS}{TSS}$ - **коэффициент детерминации**, доля объясненной дисперсии отклика во всей дисперсии отклика."
   ]
  },
  {
   "cell_type": "code",
   "execution_count": 29,
   "metadata": {},
   "outputs": [
    {
     "data": {
      "text/plain": [
       "0.5800274817271207"
      ]
     },
     "execution_count": 29,
     "metadata": {},
     "output_type": "execute_result"
    }
   ],
   "source": [
    "fitted.rsquared"
   ]
  },
  {
   "cell_type": "markdown",
   "metadata": {},
   "source": [
    "Основная проблема применения коэффициента детерминации заключается в том, что его значение увеличивается от добавления в модель новых переменных, даже если эти переменные никакого отношения к объясняемой переменной не имеют. "
   ]
  },
  {
   "cell_type": "markdown",
   "metadata": {},
   "source": [
    "Для того, чтобы была возможность сравнивать модели с разным числом признаков так, чтобы число регрессоров (признаков) не влияло на статистику  обычно используется **скорректированный коэффициент детерминации**."
   ]
  },
  {
   "cell_type": "markdown",
   "metadata": {},
   "source": [
    "$\\Large R^2_{adj} = 1 - (1 - R^2) \\frac{n - 1}{n - k - 1}$,\n",
    "\n",
    "n - кол-во наблюдений,\n",
    "\n",
    "k - кол-во независимых переменных"
   ]
  },
  {
   "cell_type": "code",
   "execution_count": 30,
   "metadata": {},
   "outputs": [
    {
     "data": {
      "text/plain": [
       "0.5791841634173358"
      ]
     },
     "execution_count": 30,
     "metadata": {},
     "output_type": "execute_result"
    }
   ],
   "source": [
    "fitted.rsquared_adj"
   ]
  },
  {
   "cell_type": "markdown",
   "metadata": {},
   "source": [
    "**Критерий Фишера**"
   ]
  },
  {
   "cell_type": "markdown",
   "metadata": {},
   "source": [
    "Требуется проверить гипотезу о том, что все признаки X для предсказания y не нужны, то есть лучшее предсказание для y — это константа. "
   ]
  },
  {
   "cell_type": "markdown",
   "metadata": {},
   "source": [
    "Проверяемая гипотеза: $H_{0} : \\alpha_1 = \\alpha_2 =  ... = \\alpha_n = 0 , H_{1} : H_{0} \\text { гипотеза  неверна} $ \n",
    "\n",
    "**Статистика:** $  \\Large F =  \\frac{R^2/k}{(1 - R^2)/(n-k-1)} $"
   ]
  },
  {
   "cell_type": "code",
   "execution_count": 31,
   "metadata": {},
   "outputs": [
    {
     "data": {
      "text/plain": [
       "687.7918752588997"
      ]
     },
     "execution_count": 31,
     "metadata": {},
     "output_type": "execute_result"
    }
   ],
   "source": [
    "fitted.fvalue"
   ]
  },
  {
   "cell_type": "code",
   "execution_count": 32,
   "metadata": {},
   "outputs": [
    {
     "data": {
      "text/plain": [
       "7.124488003451089e-96"
      ]
     },
     "execution_count": 32,
     "metadata": {},
     "output_type": "execute_result"
    }
   ],
   "source": [
    "fitted.f_pvalue"
   ]
  },
  {
   "cell_type": "markdown",
   "metadata": {},
   "source": [
    "**Метод максимального правдоподобия**"
   ]
  },
  {
   "cell_type": "markdown",
   "metadata": {},
   "source": [
    "**Метод максимального правдоподобия** -- метод поиска модели, наилучшим в каком-то смысле образом описывающей обучающую выборку, полученную с некоторым неизвестным распределением.\n",
    "\n",
    "Откуда такая идея – искать значение параметра, при котором функция правдоподобия достигает максимума? \n",
    "Идея проистекает из представления о том, что выборка – это **единственный источник знания** о генеральной совокупности, доступный нам. Все, что мы знаем о генеральной совокупности, содержится в выборке. Поэтому нам\n",
    "ничего иного не остается, как сказать, что выборка – это наиболее точное отражение\n",
    "генеральной совокупности, доступное нам. А раз так, мы должны полностью положиться\n",
    "на выборку и понять, каков должен быть искомый параметр, чтобы появление именно\n",
    "такой выборки было наиболее вероятным. \n",
    "\n",
    "Центральная идея ММП – это поиск\n",
    "такого значения параметра генеральной совокупности, при котором имеющаяся\n",
    "выборка становится наиболее вероятной."
   ]
  },
  {
   "cell_type": "markdown",
   "metadata": {},
   "source": [
    "Если предположить, что каждое из наблюдений из тренировочного датасета немного неточно описывают исходный датасет (генеральную совокупность) - каждое наблюдение в отдельности - это случайная величина, взятая из нормального распредления. \n",
    "\n",
    "Цель линейной регрессии - воссоздать исходную модель генеральной совокупности с учетом неопределенности в распредлениях каждого из наблюдений.  "
   ]
  },
  {
   "cell_type": "markdown",
   "metadata": {},
   "source": [
    "<img width = '600' src=\"images/ll.png\">"
   ]
  },
  {
   "cell_type": "markdown",
   "metadata": {},
   "source": [
    "Правдоподобие - произведение вероятностей каждого из наблюдений."
   ]
  },
  {
   "cell_type": "markdown",
   "metadata": {},
   "source": [
    "<img width = '600' src=\"images/eq1.png\">"
   ]
  },
  {
   "cell_type": "markdown",
   "metadata": {},
   "source": [
    "После логарифмирования и упрощения уравнение в векторной форме выглядит следующим образом."
   ]
  },
  {
   "cell_type": "markdown",
   "metadata": {},
   "source": [
    "<img width = '600' src=\"images/eq2.png\">"
   ]
  },
  {
   "cell_type": "markdown",
   "metadata": {},
   "source": [
    "**Информационные критерии**"
   ]
  },
  {
   "cell_type": "markdown",
   "metadata": {},
   "source": [
    "**Информационный критерий** — мера относительного качества моделей, учитывающая степень «подгонки» модели под данные с корректировкой (штрафом) на используемое количество оцениваемых параметров. То есть критерии основаны на неком компромиссе между точностью и сложностью модели. "
   ]
  },
  {
   "cell_type": "markdown",
   "metadata": {},
   "source": [
    "<img width = '600' src=\"images/inf_.png\">"
   ]
  },
  {
   "cell_type": "markdown",
   "metadata": {},
   "source": [
    "$ AIC = 2p - 2log(L)$"
   ]
  },
  {
   "cell_type": "markdown",
   "metadata": {},
   "source": [
    "$ BIC = log(n) p - 2log(L) $"
   ]
  },
  {
   "cell_type": "markdown",
   "metadata": {},
   "source": [
    "Чем меньше значение критерия, тем лучше модель."
   ]
  },
  {
   "cell_type": "markdown",
   "metadata": {},
   "source": [
    "**Критерий Стьюдента**"
   ]
  },
  {
   "cell_type": "markdown",
   "metadata": {},
   "source": [
    "Проверяемая гипотеза: $H_{0} : \\alpha_i = 0 , H_{1} : \\alpha_i <> 0 $ \n",
    "\n",
    "**Статистика:** $  \\Large T =  \\frac{a_i}{\\sqrt{\\frac{RSS}{n-k-1}(XX^{t})^{-1}_{ii}}} $"
   ]
  },
  {
   "cell_type": "markdown",
   "metadata": {},
   "source": [
    "Гипотеза о равенстве нулю коэффициента **a** означает, что признак x не влияет на отклик y."
   ]
  },
  {
   "cell_type": "code",
   "execution_count": 37,
   "metadata": {},
   "outputs": [
    {
     "data": {
      "text/plain": [
       "Intercept    44.009606\n",
       "Price       -26.225786\n",
       "dtype: float64"
      ]
     },
     "execution_count": 37,
     "metadata": {},
     "output_type": "execute_result"
    }
   ],
   "source": [
    "fitted.tvalues"
   ]
  },
  {
   "cell_type": "code",
   "execution_count": 38,
   "metadata": {},
   "outputs": [
    {
     "data": {
      "text/plain": [
       "Intercept    9.578626e-174\n",
       "Price         7.124488e-96\n",
       "dtype: float64"
      ]
     },
     "execution_count": 38,
     "metadata": {},
     "output_type": "execute_result"
    }
   ],
   "source": [
    "fitted.pvalues"
   ]
  },
  {
   "cell_type": "markdown",
   "metadata": {},
   "source": [
    "**Прочие индикаторы линейной регрессии**"
   ]
  },
  {
   "cell_type": "markdown",
   "metadata": {},
   "source": [
    "Скос и эксцесс."
   ]
  },
  {
   "cell_type": "markdown",
   "metadata": {},
   "source": [
    "<img width = '450' src=\"images/skK.gif\">"
   ]
  },
  {
   "cell_type": "markdown",
   "metadata": {},
   "source": [
    "**Skew/Kurtosis** - меры скоса и эксцесса, ожидается значение ближе к 0.\n",
    "\n",
    "**Omnibus/Prob(Omnibus)** - тест на скосс и эксцесс остатков модели линейной регрессии, Prob(Omnibus) ближе к 1 говорит о нормальности остатков модели.\n",
    "\n",
    "**Durbin-Watson** - тест на автокорреляцию между остатками регрессионнной модели, наилучший показатель - значения между 1 и 2.\n",
    "\n",
    "**Jarque-Bera (JB)/Prob(JB)** - тест по аналогии с тестом Omnibus.\n",
    "\n",
    "**Condition Number** - тест на чувствительность результата модели к входным данным, например, в случае мультиколлинеарности (наличие зависимости между объясняющими переменными), малейшие изменения входных параметров могут сильно повлиять на результат модели, ожидается значение меньшее 30.\n",
    "\n",
    "Почему в нашей модели такой большой Condition Number, если в ней всего лишь 1 переменная (Цена) ?"
   ]
  }
 ],
 "metadata": {
  "kernelspec": {
   "display_name": "main",
   "language": "python",
   "name": "main"
  },
  "language_info": {
   "codemirror_mode": {
    "name": "ipython",
    "version": 3
   },
   "file_extension": ".py",
   "mimetype": "text/x-python",
   "name": "python",
   "nbconvert_exporter": "python",
   "pygments_lexer": "ipython3",
   "version": "3.7.11"
  }
 },
 "nbformat": 4,
 "nbformat_minor": 2
}
